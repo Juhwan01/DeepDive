{
 "cells": [
  {
   "cell_type": "markdown",
   "metadata": {},
   "source": [
    "# 🐍 파이썬 모듈과 이터레이터 실습 코드\n",
    "\n"
   ]
  },
  {
   "cell_type": "markdown",
   "metadata": {},
   "source": [
    "## 1. 모듈과 패키지\n",
    "\n",
    "### 1.1 모듈 가져오기 방법"
   ]
  },
  {
   "cell_type": "code",
   "execution_count": 39,
   "metadata": {},
   "outputs": [],
   "source": [
    "# 방법 1: 모듈 전체 가져오기\n",
    "import calendar\n",
    "\n",
    "# 방법 2: 특정 기능만 가져오기\n",
    "from calendar import isleap\n",
    "\n",
    "# 방법 3: 별칭 사용하기\n",
    "import calendar as cal\n",
    "\n",
    "# 방법 4: 여러 항목 가져오기\n",
    "from calendar import isleap, month, monthrange"
   ]
  },
  {
   "cell_type": "markdown",
   "metadata": {},
   "source": [
    "### 1.2 실습 미션: calendar 모듈 탐색하기"
   ]
  },
  {
   "cell_type": "code",
   "execution_count": 40,
   "metadata": {},
   "outputs": [
    {
     "name": "stdout",
     "output_type": "stream",
     "text": [
      "'leap'이 포함된 함수/속성: ['isleap', 'leapdays']\n",
      "2077년은 윤년인가요? False\n"
     ]
    }
   ],
   "source": [
    "import calendar\n",
    "\n",
    "# 미션 1: 'leap'이 포함된 모든 이름 찾기\n",
    "leap_functions = [name for name in dir(calendar) if 'leap' in name.lower()]\n",
    "print(f\"'leap'이 포함된 함수/속성: {leap_functions}\")\n",
    "\n",
    "# 미션 2: 2077년이 윤년인지 확인하기\n",
    "is_leap_year = calendar.isleap(2077)\n",
    "print(f\"2077년은 윤년인가요? {is_leap_year}\")"
   ]
  },
  {
   "cell_type": "markdown",
   "metadata": {},
   "source": [
    "## 2. random 모듈 실습\n",
    "\n",
    "### 2.1 random 모듈의 기본 기능"
   ]
  },
  {
   "cell_type": "code",
   "execution_count": 41,
   "metadata": {},
   "outputs": [
    {
     "name": "stdout",
     "output_type": "stream",
     "text": [
      "무작위 부동소수점: 0.1261884156969142\n",
      "무작위 정수: 58\n",
      "섞인 리스트: ['C++', '파이썬', 'Go', '자바스크립트', '자바']\n",
      "무작위 선택: C++\n"
     ]
    }
   ],
   "source": [
    "import random\n",
    "\n",
    "# 0.0과 1.0 사이의 무작위 부동소수점 숫자\n",
    "random_float = random.random()\n",
    "print(f\"무작위 부동소수점: {random_float}\")\n",
    "\n",
    "# 지정된 범위 내의 무작위 정수\n",
    "random_int = random.randrange(1, 100)  # 1부터 99까지\n",
    "print(f\"무작위 정수: {random_int}\")\n",
    "\n",
    "# 리스트의 항목을 무작위로 섞기\n",
    "my_list = ['파이썬', '자바', 'C++', '자바스크립트', 'Go']\n",
    "random.shuffle(my_list)\n",
    "print(f\"섞인 리스트: {my_list}\")\n",
    "\n",
    "# 리스트에서 무작위 항목 선택\n",
    "random_choice = random.choice(my_list)\n",
    "print(f\"무작위 선택: {random_choice}\")"
   ]
  },
  {
   "cell_type": "markdown",
   "metadata": {},
   "source": [
    "### 2.2 실습 미션: 밴드 이름 생성기"
   ]
  },
  {
   "cell_type": "code",
   "execution_count": 42,
   "metadata": {},
   "outputs": [
    {
     "name": "stdout",
     "output_type": "stream",
     "text": [
      "1. The 블루 피자s\n",
      "2. The 레드 버거s\n",
      "3. The 블랙 버거s\n",
      "4. The 옐로우 케이크s\n",
      "5. The 퍼플 피자s\n"
     ]
    }
   ],
   "source": [
    "import random\n",
    "\n",
    "colors = [\"레드\", \"블루\", \"그린\", \"옐로우\", \"퍼플\", \"블랙\", \"화이트\"]\n",
    "foods = [\"피자\", \"버거\", \"타코\", \"초밥\", \"파스타\", \"케이크\", \"쿠키\"]\n",
    "\n",
    "def generate_band_name():\n",
    "    random_color = random.choice(colors)\n",
    "    random_food = random.choice(foods)\n",
    "    return f\"The {random_color} {random_food}s\"\n",
    "\n",
    "# 5개의 밴드 이름 생성\n",
    "for i in range(5):\n",
    "    print(f\"{i+1}. {generate_band_name()}\")"
   ]
  },
  {
   "cell_type": "markdown",
   "metadata": {},
   "source": [
    "## 3. datetime 모듈 실습"
   ]
  },
  {
   "cell_type": "code",
   "execution_count": 43,
   "metadata": {},
   "outputs": [
    {
     "name": "stdout",
     "output_type": "stream",
     "text": [
      "현재: 2025-05-16 14:33:32.906604\n",
      "포맷팅된 날짜: 2025년 05월 16일 14시 33분\n",
      "내일: 2025-05-17\n",
      "일주일 후: 2025-05-23\n",
      "파싱된 날짜: 2025-05-16 14:30:00\n",
      "2025년은 총 364일입니다.\n"
     ]
    }
   ],
   "source": [
    "from datetime import datetime, timedelta\n",
    "\n",
    "# 현재 날짜와 시간\n",
    "now = datetime.now()\n",
    "print(f\"현재: {now}\")\n",
    "\n",
    "# 날짜 형식 변환 (포맷팅)\n",
    "formatted_date = now.strftime(\"%Y년 %m월 %d일 %H시 %M분\")\n",
    "print(f\"포맷팅된 날짜: {formatted_date}\")\n",
    "\n",
    "# 날짜 계산\n",
    "tomorrow = now + timedelta(days=1)\n",
    "next_week = now + timedelta(weeks=1)\n",
    "print(f\"내일: {tomorrow.strftime('%Y-%m-%d')}\")\n",
    "print(f\"일주일 후: {next_week.strftime('%Y-%m-%d')}\")\n",
    "\n",
    "# 문자열을 날짜로 변환 (파싱)\n",
    "date_string = \"2025-05-16 14:30:00\"\n",
    "parsed_date = datetime.strptime(date_string, \"%Y-%m-%d %H:%M:%S\")\n",
    "print(f\"파싱된 날짜: {parsed_date}\")\n",
    "\n",
    "# 두 날짜 사이의 차이 계산\n",
    "start_date = datetime(2025, 1, 1)\n",
    "end_date = datetime(2025, 12, 31)\n",
    "difference = end_date - start_date\n",
    "print(f\"2025년은 총 {difference.days}일입니다.\")"
   ]
  },
  {
   "cell_type": "markdown",
   "metadata": {},
   "source": [
    "## 4. 이터레이터와 제너레이터\n",
    "\n",
    "### 4.1 이터러블 vs 이터레이터"
   ]
  },
  {
   "cell_type": "code",
   "execution_count": null,
   "metadata": {},
   "outputs": [
    {
     "name": "stdout",
     "output_type": "stream",
     "text": [
      "리스트는 이터러블인가? True\n",
      "문자열은 이터러블인가? True\n",
      "정수는 이터러블인가? False\n",
      "첫 번째 값: 1\n",
      "두 번째 값: 2\n",
      "세 번째 값: 3\n"
     ]
    }
   ],
   "source": [
    "# 이터러블의 예: 리스트, 문자열, 튜플 등\n",
    "my_list = [1, 2, 3]\n",
    "my_string = \"Python\"\n",
    "\n",
    "# 이터러블 확인 함수\n",
    "def is_iterable(obj):\n",
    "    try:\n",
    "        iter(obj)\n",
    "        return True\n",
    "    except TypeError:\n",
    "        return False\n",
    "\n",
    "print(f\"리스트는 이터러블인가? {is_iterable(my_list)}\")\n",
    "print(f\"문자열은 이터러블인가? {is_iterable(my_string)}\")\n",
    "print(f\"정수는 이터러블인가? {is_iterable(10)}\")\n",
    "\n",
    "# 이터러블에서 이터레이터 얻기\n",
    "list_iterator = iter(my_list)\n",
    "\n",
    "# 이터레이터에서 값 가져오기\n",
    "print(f\"첫 번째 값: {next(list_iterator)}\")\n",
    "print(f\"두 번째 값: {next(list_iterator)}\")\n",
    "print(f\"세 번째 값: {next(list_iterator)}\")\n",
    "\n",
    "\n",
    "# print(next(list_iterator))  # StopIteration 예외 발생"
   ]
  },
  {
   "cell_type": "markdown",
   "metadata": {},
   "source": [
    "### 4.2 커스텀 이터레이터 만들기"
   ]
  },
  {
   "cell_type": "code",
   "execution_count": 45,
   "metadata": {},
   "outputs": [
    {
     "name": "stdout",
     "output_type": "stream",
     "text": [
      "카운트다운:\n",
      "🔢 5\n",
      "🔢 4\n",
      "🔢 3\n",
      "🔢 2\n",
      "🔢 1\n",
      "\n",
      "다시 반복:\n"
     ]
    }
   ],
   "source": [
    "class Countdown:\n",
    "    def __init__(self, start):\n",
    "        self.start = start\n",
    "        \n",
    "    def __iter__(self):\n",
    "        return self\n",
    "        \n",
    "    def __next__(self):\n",
    "        if self.start <= 0:\n",
    "            raise StopIteration\n",
    "        self.start -= 1\n",
    "        return self.start + 1\n",
    "\n",
    "# 이터레이터 사용하기\n",
    "countdown = Countdown(5)\n",
    "print(\"카운트다운:\")\n",
    "for num in countdown:\n",
    "    print(f\"🔢 {num}\")\n",
    "\n",
    "# 이터레이터는 소모성이라 한 번 사용하면 재사용 불가\n",
    "print(\"\\n다시 반복:\")\n",
    "for num in countdown:\n",
    "    print(num)  # 아무것도 출력되지 않음"
   ]
  },
  {
   "cell_type": "markdown",
   "metadata": {},
   "source": [
    "## 5. map()과 filter() 함수\n",
    "\n",
    "### 5.1 map() 함수: 각 요소에 함수 적용하기"
   ]
  },
  {
   "cell_type": "code",
   "execution_count": null,
   "metadata": {},
   "outputs": [
    {
     "name": "stdout",
     "output_type": "stream",
     "text": [
      "제곱 결과(기존 방식): [1, 4, 9, 16, 25]\n",
      "제곱 결과(map 사용): [1, 4, 9, 16, 25]\n",
      "제곱 결과(lambda 사용): [1, 4, 9, 16, 25]\n",
      "두 리스트 합: [11, 22, 33]\n"
     ]
    }
   ],
   "source": [
    "numbers = [1, 2, 3, 4, 5]\n",
    "\n",
    "# 기존 방식\n",
    "squared_old = []\n",
    "for num in numbers:\n",
    "    squared_old.append(num ** 2)\n",
    "print(f\"제곱 결과(기존 방식): {squared_old}\")\n",
    "\n",
    "# map() 사용 - 함수 정의\n",
    "def square(x):\n",
    "    return x ** 2\n",
    "\n",
    "squared_map = list(map(square, numbers))\n",
    "print(f\"제곱 결과(map 사용): {squared_map}\")\n",
    "\n",
    "# map() 사용 - lambda 함수\n",
    "squared_lambda = list(map(lambda x: x ** 2, numbers))\n",
    "print(f\"제곱 결과(lambda 사용): {squared_lambda}\")\n",
    "\n",
    "# 여러 이터러블로 map() 사용\n",
    "list1 = [1, 2, 3]\n",
    "list2 = [10, 20, 30]\n",
    "result = list(map(lambda x, y: x + y, list1, list2))\n",
    "print(f\"두 리스트 합: {result}\") "
   ]
  },
  {
   "cell_type": "markdown",
   "metadata": {},
   "source": [
    "### 5.2 filter() 함수: 조건에 맞는 요소만 필터링하기"
   ]
  },
  {
   "cell_type": "code",
   "execution_count": null,
   "metadata": {},
   "outputs": [
    {
     "name": "stdout",
     "output_type": "stream",
     "text": [
      "짝수(기존 방식): [2, 4, 6, 8, 10]\n",
      "짝수(filter 사용): [2, 4, 6, 8, 10]\n",
      "짝수(lambda 사용): [2, 4, 6, 8, 10]\n",
      "소수: [2, 3, 5, 7]\n"
     ]
    }
   ],
   "source": [
    "numbers = [1, 2, 3, 4, 5, 6, 7, 8, 9, 10]\n",
    "\n",
    "# 기존 방식\n",
    "even_old = []\n",
    "for num in numbers:\n",
    "    if num % 2 == 0:\n",
    "        even_old.append(num)\n",
    "print(f\"짝수(기존 방식): {even_old}\")  \n",
    "\n",
    "# filter() 사용 - 함수 정의\n",
    "def is_even(x):\n",
    "    return x % 2 == 0\n",
    "\n",
    "filtered = list(filter(is_even, numbers))\n",
    "print(f\"짝수(filter 사용): {filtered}\") \n",
    "\n",
    "# filter() 사용 - lambda 함수\n",
    "filtered_lambda = list(filter(lambda x: x % 2 == 0, numbers))\n",
    "print(f\"짝수(lambda 사용): {filtered_lambda}\")  \n",
    "\n",
    "# 소수만 필터링하는 예제\n",
    "def is_prime(n):\n",
    "    if n < 2:\n",
    "        return False\n",
    "    for i in range(2, int(n**0.5) + 1):\n",
    "        if n % i == 0:\n",
    "            return False\n",
    "    return True\n",
    "\n",
    "primes = list(filter(is_prime, numbers))\n",
    "print(f\"소수: {primes}\")  "
   ]
  },
  {
   "cell_type": "markdown",
   "metadata": {},
   "source": [
    "## 6. 제너레이터: 메모리 효율적인 이터레이터\n",
    "\n",
    "### 6.1 제너레이터 함수"
   ]
  },
  {
   "cell_type": "code",
   "execution_count": null,
   "metadata": {},
   "outputs": [
    {
     "name": "stdout",
     "output_type": "stream",
     "text": [
      "첫 번째 값: 0\n",
      "두 번째 값: 1\n",
      "\n",
      "카운트업:\n",
      "0\n",
      "1\n",
      "2\n",
      "3\n",
      "4\n"
     ]
    }
   ],
   "source": [
    "def count_up_to(limit):\n",
    "    count = 0\n",
    "    while count < limit:\n",
    "        yield count\n",
    "        count += 1\n",
    "\n",
    "# 제너레이터 사용하기\n",
    "counter = count_up_to(5)\n",
    "print(f\"첫 번째 값: {next(counter)}\")  \n",
    "print(f\"두 번째 값: {next(counter)}\")  \n",
    "\n",
    "# for 루프에서 사용\n",
    "print(\"\\n카운트업:\")\n",
    "for num in count_up_to(5):\n",
    "    print(num)  "
   ]
  },
  {
   "cell_type": "markdown",
   "metadata": {},
   "source": [
    "### 6.2 제너레이터 표현식"
   ]
  },
  {
   "cell_type": "code",
   "execution_count": null,
   "metadata": {},
   "outputs": [
    {
     "name": "stdout",
     "output_type": "stream",
     "text": [
      "리스트 컴프리헨션 결과: [0, 1, 4, 9, 16, 25, 36, 49, 64, 81]\n",
      "제너레이터 표현식 결과:\n",
      "0 1 4 9 16 25 36 49 64 81 "
     ]
    }
   ],
   "source": [
    "# 리스트 컴프리헨션 (모든 값을 메모리에 저장)\n",
    "squares_list = [x**2 for x in range(10)]  # 메모리에 모든 값 저장\n",
    "print(f\"리스트 컴프리헨션 결과: {squares_list}\")\n",
    "\n",
    "# 제너레이터 표현식 (값을 필요할 때 생성)\n",
    "squares_gen = (x**2 for x in range(10))  # 메모리 효율적\n",
    "print(\"제너레이터 표현식 결과:\")\n",
    "for square in squares_gen:\n",
    "    print(square, end=\" \") "
   ]
  },
  {
   "cell_type": "markdown",
   "metadata": {},
   "source": [
    "### 6.3 피보나치 제너레이터 만들기"
   ]
  },
  {
   "cell_type": "code",
   "execution_count": 50,
   "metadata": {},
   "outputs": [
    {
     "name": "stdout",
     "output_type": "stream",
     "text": [
      "\n",
      "\n",
      " 피보나치 수열:\n",
      "1번째: 0\n",
      "2번째: 1\n",
      "3번째: 1\n",
      "4번째: 2\n",
      "5번째: 3\n",
      "6번째: 5\n",
      "7번째: 8\n",
      "8번째: 13\n",
      "9번째: 21\n",
      "10번째: 34\n",
      "11번째: 55\n",
      "12번째: 89\n"
     ]
    }
   ],
   "source": [
    "def fibonacci(limit):\n",
    "    a, b = 0, 1\n",
    "    while a < limit:\n",
    "        yield a\n",
    "        a, b = b, a + b\n",
    "\n",
    "print(\"\\n\\n 피보나치 수열:\")\n",
    "for i, num in enumerate(fibonacci(100)):\n",
    "    print(f\"{i+1}번째: {num}\")"
   ]
  },
  {
   "cell_type": "markdown",
   "metadata": {},
   "source": [
    "### 6.4 제너레이터의 메모리 효율성 비교"
   ]
  },
  {
   "cell_type": "code",
   "execution_count": 51,
   "metadata": {},
   "outputs": [
    {
     "name": "stdout",
     "output_type": "stream",
     "text": [
      "리스트 크기: 85176 바이트\n",
      "제너레이터 크기: 200 바이트\n"
     ]
    }
   ],
   "source": [
    "import sys\n",
    "\n",
    "# 메모리 사용량 비교\n",
    "list_comp = [i for i in range(10000)]\n",
    "gen_exp = (i for i in range(10000))\n",
    "\n",
    "print(f\"리스트 크기: {sys.getsizeof(list_comp)} 바이트\")\n",
    "print(f\"제너레이터 크기: {sys.getsizeof(gen_exp)} 바이트\")"
   ]
  },
  {
   "cell_type": "markdown",
   "metadata": {},
   "source": [
    "## 7. subprocess 모듈 (시스템 명령 실행하기)"
   ]
  },
  {
   "cell_type": "code",
   "execution_count": 57,
   "metadata": {},
   "outputs": [
    {
     "name": "stdout",
     "output_type": "stream",
     "text": [
      "명령 출력:\n",
      " C 드라이브의 볼륨: Windows\n",
      " 볼륨 일련 번호: 722C-32FB\n",
      "\n",
      " c:\\Users\\정주환\\Desktop\\DeepDive\\Day3 디렉터리\n",
      "\n",
      "2025-05-16  오후 02:26    <DIR>          .\n",
      "2025-05-16  오후 02:26    <DIR>          ..\n",
      "2025-05-16  오후 02:37            21,860 Day3.ipynb\n",
      "               1개 파일              21,860 바이트\n",
      "               2개 디렉터리  95,972,179,968 바이트 남음\n",
      "\n"
     ]
    }
   ],
   "source": [
    "import subprocess\n",
    "try:\n",
    "    # 기본 명령 실행\n",
    "    result = subprocess.run(\"dir\", shell=True, capture_output=True, text=True,encoding='cp949')\n",
    "    if result.returncode == 0:  # 성공적으로 실행됨\n",
    "        print(\"명령 출력:\")\n",
    "        print(result.stdout)\n",
    "    else:\n",
    "        print(\"오류 발생:\")\n",
    "        print(result.stderr)\n",
    "except FileNotFoundError:\n",
    "    print(\"명령을 찾을 수 없습니다.\")"
   ]
  },
  {
   "cell_type": "markdown",
   "metadata": {},
   "source": [
    "### 7.1 오래 실행되는 프로세스 관리하기\n"
   ]
  },
  {
   "cell_type": "code",
   "execution_count": null,
   "metadata": {},
   "outputs": [
    {
     "name": "stdout",
     "output_type": "stream",
     "text": [
      "\n",
      "Ping google.com [172.217.161.238] 32바이트 데이터 사용:\n",
      "172.217.161.238의 응답: 바이트=32 시간=27ms TTL=117\n",
      "172.217.161.238의 응답: 바이트=32 시간=27ms TTL=117\n",
      "172.217.161.238의 응답: 바이트=32 시간=26ms TTL=117\n",
      "172.217.161.238의 응답: 바이트=32 시간=26ms TTL=117\n",
      "\n",
      "172.217.161.238에 대한 Ping 통계:\n",
      "패킷: 보냄 = 4, 받음 = 4, 손실 = 0 (0% 손실),\n",
      "왕복 시간(밀리초):\n",
      "최소 = 26ms, 최대 = 27ms, 평균 = 26ms\n",
      "종료 코드: 0\n"
     ]
    }
   ],
   "source": [
    "import subprocess\n",
    "process = subprocess.Popen([\"ping\", \"google.com\", \"-n\", \"4\"], \n",
    "                          stdout=subprocess.PIPE, \n",
    "                          text=True,\n",
    "                          encoding='cp949')\n",
    "                          # window -> encoding='cp949'필요\n",
    "                          \n",
    "# 실시간으로 출력 읽기\n",
    "for line in process.stdout:\n",
    "    print(line.strip())\n",
    "\n",
    "# 프로세스 완료 대기\n",
    "process.wait()\n",
    "print(f\"종료 코드: {process.returncode}\")"
   ]
  },
  {
   "cell_type": "code",
   "execution_count": null,
   "metadata": {},
   "outputs": [],
   "source": []
  }
 ],
 "metadata": {
  "kernelspec": {
   "display_name": "base",
   "language": "python",
   "name": "python3"
  },
  "language_info": {
   "codemirror_mode": {
    "name": "ipython",
    "version": 3
   },
   "file_extension": ".py",
   "mimetype": "text/x-python",
   "name": "python",
   "nbconvert_exporter": "python",
   "pygments_lexer": "ipython3",
   "version": "3.11.7"
  }
 },
 "nbformat": 4,
 "nbformat_minor": 4
}
