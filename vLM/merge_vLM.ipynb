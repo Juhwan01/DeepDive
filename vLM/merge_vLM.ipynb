{
 "cells": [
  {
   "cell_type": "code",
   "execution_count": null,
   "id": "6c7ee468-edd7-4148-ba9a-11bc38c89ebd",
   "metadata": {
    "scrolled": true
   },
   "outputs": [],
   "source": [
    "from peft import PeftModel\n",
    "from transformers import AutoProcessor, AutoModelForVision2Seq\n",
    " \n",
    "adapter_path = \"./output_dir/checkpoint-68\"\n",
    "base_model_id = \"Qwen/Qwen2-VL-7B-Instruct\"\n",
    "merged_path = \"merged\"\n",
    " \n",
    "# 베이스 모델 로드\n",
    "model = AutoModelForVision2Seq.from_pretrained(base_model_id, low_cpu_mem_usage=True)\n",
    " \n",
    "# LoRA 어댑터 로드 및 병합\n",
    "print(f\"Loading and merging PEFT from: {adapter_path}\")\n",
    "peft_model = PeftModel.from_pretrained(model, adapter_path)\n",
    "merged_model = peft_model.merge_and_unload()\n",
    "merged_model.save_pretrained(merged_path,safe_serialization=True, max_shard_size=\"2GB\")\n",
    "\n",
    "# 토크나이저 로드\n",
    "processor = AutoProcessor.from_pretrained(base_model_id)\n",
    "processor.save_pretrained(merged_path)"
   ]
  },
  {
   "cell_type": "code",
   "execution_count": null,
   "id": "fbb82799-6852-435d-9fd6-c74506919f41",
   "metadata": {},
   "outputs": [],
   "source": [
    "from huggingface_hub import HfApi\n",
    "api = HfApi()\n",
    "\n",
    "username = \"juhwan2001\""
   ]
  },
  {
   "cell_type": "code",
   "execution_count": null,
   "id": "c297bafe-2a52-4304-b467-59c64a20df48",
   "metadata": {},
   "outputs": [],
   "source": [
    "MODEL_NAME = 'Qwen2-VL-7B-Instruct-fashion-product-images-small-checkpoint-68'"
   ]
  },
  {
   "cell_type": "code",
   "execution_count": null,
   "id": "51bc3b1e-ab40-4954-afd4-92c1ca47454f",
   "metadata": {},
   "outputs": [],
   "source": [
    "api.create_repo(\n",
    "    token=\"\",\n",
    "    repo_id=f\"{username}/{MODEL_NAME}\",\n",
    "    repo_type=\"model\"\n",
    ")\n",
    "\n",
    "api.upload_folder(\n",
    "    token=\"\",\n",
    "    repo_id=f\"{username}/{MODEL_NAME}\",\n",
    "    folder_path=\"merged\",\n",
    ")"
   ]
  }
 ],
 "metadata": {
  "kernelspec": {
   "display_name": "Python 3 (ipykernel)",
   "language": "python",
   "name": "python3"
  },
  "language_info": {
   "codemirror_mode": {
    "name": "ipython",
    "version": 3
   },
   "file_extension": ".py",
   "mimetype": "text/x-python",
   "name": "python",
   "nbconvert_exporter": "python",
   "pygments_lexer": "ipython3",
   "version": "3.10.12"
  }
 },
 "nbformat": 4,
 "nbformat_minor": 5
}
