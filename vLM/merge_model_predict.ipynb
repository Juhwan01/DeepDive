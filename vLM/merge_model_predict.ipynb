{
 "cells": [
  {
   "cell_type": "code",
   "execution_count": null,
   "id": "06f386e2-8e3b-4b65-962d-6334972a9e41",
   "metadata": {},
   "outputs": [],
   "source": [
    "!pip install qwen-vl-utils\n",
    "!pip install transformers==4.49\n",
    "!pip install vllm==0.8.1"
   ]
  },
  {
   "cell_type": "markdown",
   "id": "f8f34bac-aff4-4a04-bd59-f00f2b4d1063",
   "metadata": {},
   "source": [
    "Kernel > Restart Kernel"
   ]
  },
  {
   "cell_type": "markdown",
   "id": "86b92464-7a2c-41b3-9c10-66c41104b1f7",
   "metadata": {},
   "source": [
    "## 1. 모델 로드"
   ]
  },
  {
   "cell_type": "code",
   "execution_count": null,
   "id": "7a7deebb-d325-406f-a925-cf781eceb9ae",
   "metadata": {},
   "outputs": [],
   "source": [
    "from transformers import AutoProcessor\n",
    "from vllm import LLM, SamplingParams\n",
    "from qwen_vl_utils import process_vision_info\n",
    "\n",
    "MODEL_PATH = \"iamjoon/Qwen2-VL-7B-Instruct-fashion-product-images-small-checkpoint-68\"\n",
    "\n",
    "llm = LLM(\n",
    "    model=MODEL_PATH,\n",
    "    trust_remote_code=True,\n",
    "    limit_mm_per_prompt={\"image\": 10, \"video\": 10},\n",
    ")"
   ]
  },
  {
   "cell_type": "markdown",
   "id": "ada930f4-0b2a-420b-a8bb-30248f9233ea",
   "metadata": {},
   "source": [
    "## 2. 테스트 데이터 로드 및 전처리"
   ]
  },
  {
   "cell_type": "code",
   "execution_count": null,
   "id": "6ca0e737-519e-4254-929e-bff70d550c97",
   "metadata": {},
   "outputs": [],
   "source": [
    "import io\n",
    "import json\n",
    "from PIL import Image\n",
    "from datasets import load_dataset\n",
    "from sklearn.model_selection import train_test_split"
   ]
  },
  {
   "cell_type": "code",
   "execution_count": null,
   "id": "5bee70a2-f683-496f-8db7-5eb5837ec16a",
   "metadata": {},
   "outputs": [],
   "source": [
    "# 시스템(assistant)에게 주어진 역할\n",
    "system_message = \"당신은 이미지와 제품명(name)으로부터 패션/스타일 정보를 추론하는 분류 모델입니다.\"\n",
    "\n",
    "# 실제로 사용자 입력 -> 모델이 답해야 하는 프롬프트\n",
    "prompt = \"\"\"입력 정보:\n",
    "- name: {name}\n",
    "- image: [image]\n",
    "\n",
    "위 정보를 바탕으로, 아래 7가지 key에 대한 값을 JSON 형태로 추론해 주세요:\n",
    "1) gender\n",
    "2) masterCategory\n",
    "3) subCategory\n",
    "4) season\n",
    "5) usage\n",
    "6) baseColour\n",
    "7) articleType\n",
    "\n",
    "출력 시 **아래 JSON 예시 형태**를 반드시 지키세요:\n",
    "{{\n",
    "  \"gender\": \"예시값\",\n",
    "  \"masterCategory\": \"예시값\",\n",
    "  \"subCategory\": \"예시값\",\n",
    "  \"season\": \"예시값\",\n",
    "  \"usage\": \"예시값\",\n",
    "  \"baseColour\": \"예시값\",\n",
    "  \"articleType\": \"예시값\"\n",
    "}}\n",
    "\n",
    "# 예시\n",
    "{{\n",
    "  \"gender\": \"Men\",\n",
    "  \"masterCategory\": \"Accessories\",\n",
    "  \"subCategory\": \"Eyewear\",\n",
    "  \"season\": \"Winter\",\n",
    "  \"usage\": \"Casual\",\n",
    "  \"baseColour\": \"Blue\",\n",
    "  \"articleType\": \"Sunglasses\"\n",
    "}}\n",
    "\n",
    "# 주의\n",
    "- 7개 항목 이외의 정보(텍스트, 문장 등)는 절대 포함하지 마세요.\n",
    "\"\"\""
   ]
  },
  {
   "cell_type": "code",
   "execution_count": null,
   "id": "30080e5d-a5a4-423f-9dab-a1e58dfd1511",
   "metadata": {},
   "outputs": [],
   "source": [
    "def combine_cols_to_label(example):\n",
    "    # 실제 컬럼명에 맞게 수정\n",
    "    label_dict = {\n",
    "        \"gender\": example[\"gender\"],\n",
    "        \"masterCategory\": example[\"masterCategory\"],\n",
    "        \"subCategory\": example[\"subCategory\"],\n",
    "        \"season\": example[\"season\"],\n",
    "        \"usage\": example[\"usage\"],\n",
    "        \"baseColour\": example[\"baseColour\"],\n",
    "        \"articleType\": example[\"articleType\"],\n",
    "    }\n",
    "    example[\"label\"] = json.dumps(label_dict, ensure_ascii=False)\n",
    "    return example\n",
    "\n",
    "def format_data(sample):\n",
    "   # Image.Image를 PngImageFile로 변환\n",
    "   buffer = io.BytesIO()\n",
    "   sample[\"image\"].save(buffer, format='PNG')\n",
    "   buffer.seek(0)\n",
    "   image = Image.open(buffer)\n",
    "   \n",
    "   return {\n",
    "       \"messages\": [\n",
    "           {\n",
    "               \"role\": \"system\",\n",
    "               \"content\": [\n",
    "                   {\n",
    "                       \"type\": \"text\",\n",
    "                       \"text\": system_message\n",
    "                   }\n",
    "               ],\n",
    "           },\n",
    "           {\n",
    "               \"role\": \"user\",\n",
    "               \"content\": [\n",
    "                   {\n",
    "                       \"type\": \"text\",\n",
    "                       \"text\": prompt.format(name=sample[\"productDisplayName\"]),\n",
    "                   },\n",
    "                   {\n",
    "                       \"type\": \"image\",\n",
    "                       \"image\": image,\n",
    "                   }\n",
    "               ],\n",
    "           },\n",
    "           {\n",
    "               \"role\": \"assistant\",\n",
    "               \"content\": [\n",
    "                   {\n",
    "                       \"type\": \"text\",\n",
    "                       \"text\": sample[\"label\"],\n",
    "                   }\n",
    "               ],\n",
    "           },\n",
    "       ],\n",
    "   }"
   ]
  },
  {
   "cell_type": "code",
   "execution_count": null,
   "id": "90c72744-ccd6-4039-947a-832044cc8845",
   "metadata": {},
   "outputs": [],
   "source": [
    "dataset = load_dataset(\"ashraq/fashion-product-images-small\", split=\"train\")\n",
    "dataset_add_label = dataset.map(combine_cols_to_label)\n",
    "dataset_add_label = dataset_add_label.shuffle(seed=4242)"
   ]
  },
  {
   "cell_type": "code",
   "execution_count": null,
   "id": "02a73f94-fc3f-446d-92eb-6162305d055f",
   "metadata": {},
   "outputs": [],
   "source": [
    "formatted_dataset = [format_data(row) for row in dataset_add_label]"
   ]
  },
  {
   "cell_type": "code",
   "execution_count": null,
   "id": "e55d02aa-2da0-4618-a1cd-f0af4f9bd2f0",
   "metadata": {},
   "outputs": [],
   "source": [
    "# test_size=0.9로 설정하여 전체 데이터의 90%를 테스트 세트로 분리\n",
    "train_dataset, test_dataset = train_test_split(formatted_dataset,\n",
    "                                             test_size=0.9,\n",
    "                                             random_state=42)"
   ]
  },
  {
   "cell_type": "markdown",
   "id": "aae3a61c-a53c-401c-9878-791434d709d5",
   "metadata": {},
   "source": [
    "## 3. 임의의 샘플 한 개 인퍼런스"
   ]
  },
  {
   "cell_type": "code",
   "execution_count": null,
   "id": "fd397864-04af-4a82-951d-3fe5590ca9f7",
   "metadata": {},
   "outputs": [],
   "source": [
    "from IPython.display import display"
   ]
  },
  {
   "cell_type": "code",
   "execution_count": null,
   "id": "3d38bbde-5592-4b62-a9e0-fdedc655b094",
   "metadata": {},
   "outputs": [],
   "source": [
    "model_id = \"Qwen/Qwen2-VL-7B-Instruct\"\n",
    "processor = AutoProcessor.from_pretrained(model_id)"
   ]
  },
  {
   "cell_type": "code",
   "execution_count": null,
   "id": "c0c6d163-78d2-407a-9923-b603e23950bc",
   "metadata": {},
   "outputs": [],
   "source": [
    "sampling_params = SamplingParams(\n",
    "    temperature=0.1,\n",
    "    top_p=0.001,\n",
    "    repetition_penalty=1.05,\n",
    "    max_tokens=256,\n",
    "    stop_token_ids=[],\n",
    ")"
   ]
  },
  {
   "cell_type": "markdown",
   "id": "a89ae6c1-f399-42ed-877e-f894c53d463b",
   "metadata": {},
   "source": [
    "테스트 데이터 32번에 대해서 모델의 예측을 얻어봅시다."
   ]
  },
  {
   "cell_type": "code",
   "execution_count": null,
   "id": "f096fbdd-56d8-4ab6-9dd3-cd960120d7b6",
   "metadata": {},
   "outputs": [],
   "source": [
    "test_sample = test_dataset[32][\"messages\"]"
   ]
  },
  {
   "cell_type": "code",
   "execution_count": null,
   "id": "99bd77ca-5f8f-4455-93f0-2a7ba7f9fc32",
   "metadata": {},
   "outputs": [],
   "source": [
    "test_sample_prompt = processor.apply_chat_template(\n",
    "    test_sample,\n",
    "    tokenize=False,\n",
    "    add_generation_prompt=False,\n",
    ")"
   ]
  },
  {
   "cell_type": "code",
   "execution_count": null,
   "id": "a0c547d3-892b-459e-995e-ff493c6af8b6",
   "metadata": {},
   "outputs": [],
   "source": [
    "def split_input_and_label(prompt):\n",
    "    input = prompt.split('<|im_start|>assistant')[0] + '<|im_start|>assistant'\n",
    "    label = prompt.split('<|im_start|>assistant')[1]\n",
    "    return input, label"
   ]
  },
  {
   "cell_type": "code",
   "execution_count": null,
   "id": "9d2e356f-dd90-47ac-a972-5cccd5cd8fe6",
   "metadata": {},
   "outputs": [],
   "source": [
    "test_sample_input, test_sample_label = split_input_and_label(test_sample_prompt)"
   ]
  },
  {
   "cell_type": "code",
   "execution_count": null,
   "id": "c43db853-deeb-4658-929d-cccd17ff530a",
   "metadata": {},
   "outputs": [],
   "source": [
    "print(test_sample_input)"
   ]
  },
  {
   "cell_type": "code",
   "execution_count": null,
   "id": "1f71b99e-e748-4a36-9ad9-8e80ae34f45d",
   "metadata": {},
   "outputs": [],
   "source": [
    "print(test_sample_label)"
   ]
  },
  {
   "cell_type": "code",
   "execution_count": null,
   "id": "e5f97a56-ad7c-4a08-81ac-dbcf28ae8270",
   "metadata": {},
   "outputs": [],
   "source": [
    "# 이미지만 따로 전처리\n",
    "test_sample_image_inputs, test_sample_video_inputs = process_vision_info(test_sample)"
   ]
  },
  {
   "cell_type": "code",
   "execution_count": null,
   "id": "8fc85a28-edd0-4eda-8265-41a961a6699f",
   "metadata": {},
   "outputs": [],
   "source": [
    "test_sample_image_inputs"
   ]
  },
  {
   "cell_type": "code",
   "execution_count": null,
   "id": "8b728b45-3eb2-4d43-af55-0d8e71b79bf9",
   "metadata": {},
   "outputs": [],
   "source": [
    "display(test_sample_image_inputs[0])"
   ]
  },
  {
   "cell_type": "code",
   "execution_count": null,
   "id": "8399963b-d123-4e9f-a709-5d3c56a748bd",
   "metadata": {},
   "outputs": [],
   "source": [
    "# 아무 값도 없음\n",
    "video_inputs"
   ]
  },
  {
   "cell_type": "code",
   "execution_count": null,
   "id": "3917ee00-37a3-485b-bff9-d0070f975184",
   "metadata": {},
   "outputs": [],
   "source": [
    "mm_data = {}\n",
    "if image_inputs is not None:\n",
    "    mm_data[\"image\"] = image_inputs\n",
    "if video_inputs is not None:\n",
    "    mm_data[\"video\"] = video_inputs\n",
    "\n",
    "llm_inputs = {\n",
    "    \"prompt\": test_sample_input,\n",
    "    \"multi_modal_data\": mm_data,\n",
    "}"
   ]
  },
  {
   "cell_type": "code",
   "execution_count": null,
   "id": "fc0891de-d06f-43bf-9e2e-d774cb795d71",
   "metadata": {},
   "outputs": [],
   "source": [
    "outputs = llm.generate([llm_inputs], sampling_params=sampling_params)\n",
    "generated_text = outputs[0].outputs[0].text\n",
    "\n",
    "print('모델의 예측:')\n",
    "print(generated_text.strip())\n",
    "\n",
    "print('레이블:')\n",
    "print(test_sample_label.strip())"
   ]
  },
  {
   "cell_type": "markdown",
   "id": "2484a01e-6802-4a43-b153-7de1358f6837",
   "metadata": {},
   "source": [
    "## 4. 다수의 데이터 호출"
   ]
  },
  {
   "cell_type": "code",
   "execution_count": null,
   "id": "60539dd1-e32f-4b45-92d6-1d8c073aaf7d",
   "metadata": {},
   "outputs": [],
   "source": [
    "# 상위 50개 테스트 데이터 추출\n",
    "test_samples = test_dataset[:50]\n",
    "\n",
    "# 배치 인퍼런스를 위한 입력 데이터 준비\n",
    "batch_inputs = []\n",
    "batch_labels = []\n",
    "\n",
    "for sample in test_samples:\n",
    "    # 각 샘플의 메시지 처리\n",
    "    messages = sample[\"messages\"]\n",
    "    \n",
    "    # 프롬프트 생성\n",
    "    prompt = processor.apply_chat_template(\n",
    "        messages,\n",
    "        tokenize=False,\n",
    "        add_generation_prompt=False,\n",
    "    )\n",
    "    \n",
    "    # 입력과 레이블 분리\n",
    "    input_part = prompt.split('<|im_start|>assistant')[0] + '<|im_start|>assistant'\n",
    "    label_part = prompt.split('<|im_start|>assistant')[1]\n",
    "    \n",
    "    # 이미지/비디오 데이터 처리\n",
    "    image_inputs, video_inputs = process_vision_info(messages)\n",
    "    \n",
    "    # 멀티모달 데이터 구성\n",
    "    mm_data = {}\n",
    "    if image_inputs is not None:\n",
    "        mm_data[\"image\"] = image_inputs\n",
    "    if video_inputs is not None:\n",
    "        mm_data[\"video\"] = video_inputs\n",
    "    \n",
    "    # LLM 입력 데이터 구성\n",
    "    llm_input = {\n",
    "        \"prompt\": input_part,\n",
    "        \"multi_modal_data\": mm_data,\n",
    "    }\n",
    "    \n",
    "    batch_inputs.append(llm_input)\n",
    "    batch_labels.append(label_part)\n",
    "\n",
    "# 배치 인퍼런스 실행\n",
    "print(\"배치 인퍼런스 시작...\")\n",
    "outputs = llm.generate(batch_inputs, sampling_params=sampling_params)\n",
    "\n",
    "# 결과 출력\n",
    "print(\"\\n=== 배치 인퍼런스 결과 ===\")\n",
    "for i, output in enumerate(outputs):\n",
    "    generated_text = output.outputs[0].text\n",
    "    print(f\"\\n--- 샘플 {i+1} ---\")\n",
    "    print(f\"모델의 예측: {generated_text.strip()}\")\n",
    "    print(f\"레이블: {batch_labels[i].strip()}\")\n",
    "    print(\"-\" * 50)"
   ]
  },
  {
   "cell_type": "markdown",
   "id": "a87434ee-b501-4fb1-b111-42c26a7401da",
   "metadata": {},
   "source": [
    "## 5. 모델 평가 (테스트 데이터 50건)"
   ]
  },
  {
   "cell_type": "code",
   "execution_count": null,
   "id": "7aff72d3-d162-49ba-9ac6-9ffaa2e33b1b",
   "metadata": {},
   "outputs": [],
   "source": [
    "import json\n",
    "from sklearn.metrics import f1_score\n",
    "from collections import defaultdict\n",
    "\n",
    "def calculate_f1_scores(outputs, batch_labels):\n",
    "    \"\"\"각 key별로 F1 score를 계산하는 함수\"\"\"\n",
    "    \n",
    "    # 각 키별로 예측값과 실제값을 저장할 딕셔너리\n",
    "    predictions_by_key = defaultdict(list)\n",
    "    labels_by_key = defaultdict(list)\n",
    "    \n",
    "    for i, output in enumerate(outputs):\n",
    "        # 모델 예측 결과 파싱\n",
    "        try:\n",
    "            pred_text = output.outputs[0].text.strip()\n",
    "            pred_json = json.loads(pred_text)\n",
    "        except:\n",
    "            print(f\"샘플 {i+1}: 예측 결과 JSON 파싱 실패\")\n",
    "            continue\n",
    "        \n",
    "        # 실제 레이블 파싱\n",
    "        try:\n",
    "            label_text = batch_labels[i].strip()\n",
    "            # <|im_end|> 제거\n",
    "            if label_text.endswith('<|im_end|>'):\n",
    "                label_text = label_text[:-10]\n",
    "            label_json = json.loads(label_text)\n",
    "        except:\n",
    "            print(f\"샘플 {i+1}: 레이블 JSON 파싱 실패\")\n",
    "            continue\n",
    "        \n",
    "        # 각 키별로 예측값과 실제값 저장\n",
    "        for key in label_json.keys():\n",
    "            if key in pred_json:\n",
    "                predictions_by_key[key].append(pred_json[key])\n",
    "                labels_by_key[key].append(label_json[key])\n",
    "            else:\n",
    "                print(f\"샘플 {i+1}: 키 '{key}' 예측 결과에 없음\")\n",
    "    \n",
    "    # 각 키별로 F1 score 계산\n",
    "    f1_scores = {}\n",
    "    for key in labels_by_key.keys():\n",
    "        if len(labels_by_key[key]) > 0:\n",
    "            # 고유한 라벨들 확인\n",
    "            unique_labels = list(set(labels_by_key[key] + predictions_by_key[key]))\n",
    "            \n",
    "            if len(unique_labels) == 1:\n",
    "                # 모든 값이 동일한 경우\n",
    "                f1_scores[key] = 1.0\n",
    "            else:\n",
    "                # F1 score 계산 (macro average)\n",
    "                f1_scores[key] = f1_score(\n",
    "                    labels_by_key[key], \n",
    "                    predictions_by_key[key], \n",
    "                    labels=unique_labels,\n",
    "                    average='macro',\n",
    "                    zero_division=0\n",
    "                )\n",
    "    \n",
    "    return f1_scores, predictions_by_key, labels_by_key\n",
    "\n",
    "# F1 score 계산 실행\n",
    "f1_results, preds_by_key, labels_by_key = calculate_f1_scores(outputs, batch_labels)\n",
    "\n",
    "# 결과 출력\n",
    "print(\"\\n=== F1 Score 결과 ===\")\n",
    "print(f\"{'Key':<15} {'F1 Score':<10} {'샘플 수':<8}\")\n",
    "print(\"-\" * 35)\n",
    "\n",
    "for key, score in f1_results.items():\n",
    "    sample_count = len(labels_by_key[key])\n",
    "    print(f\"{key:<15} {score:.4f}     {sample_count}\")\n",
    "\n",
    "# 전체 평균 F1 score\n",
    "if f1_results:\n",
    "    avg_f1 = sum(f1_results.values()) / len(f1_results)\n",
    "    print(\"-\" * 35)\n",
    "    print(f\"{'평균 F1':<15} {avg_f1:.4f}\")\n",
    "\n",
    "# 각 키별 상세 결과 (옵션)\n",
    "print(\"\\n=== 상세 결과 ===\")\n",
    "for key in f1_results.keys():\n",
    "    correct = sum(1 for p, l in zip(preds_by_key[key], labels_by_key[key]) if p == l)\n",
    "    total = len(labels_by_key[key])\n",
    "    accuracy = correct / total if total > 0 else 0\n",
    "    print(f\"{key}: 정확도 {accuracy:.4f} ({correct}/{total})\")"
   ]
  }
 ],
 "metadata": {
  "kernelspec": {
   "display_name": "Python 3 (ipykernel)",
   "language": "python",
   "name": "python3"
  },
  "language_info": {
   "codemirror_mode": {
    "name": "ipython",
    "version": 3
   },
   "file_extension": ".py",
   "mimetype": "text/x-python",
   "name": "python",
   "nbconvert_exporter": "python",
   "pygments_lexer": "ipython3",
   "version": "3.10.12"
  }
 },
 "nbformat": 4,
 "nbformat_minor": 5
}
