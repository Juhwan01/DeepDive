{
  "cells": [
    {
      "cell_type": "code",
      "execution_count": 7,
      "metadata": {},
      "outputs": [
        {
          "data": {
            "text/plain": [
              "True"
            ]
          },
          "execution_count": 7,
          "metadata": {},
          "output_type": "execute_result"
        }
      ],
      "source": [
        "from dotenv import load_dotenv\n",
        "\n",
        "load_dotenv(override=True)"
      ]
    },
    {
      "cell_type": "code",
      "execution_count": null,
      "metadata": {},
      "outputs": [],
      "source": [
        "from langchain_opentutorial import package\n",
        "\n",
        "package.install(\n",
        "    [\n",
        "        \"langsmith\",\n",
        "        \"langchain-openai\",\n",
        "        \"langchain\",\n",
        "        \"python-dotenv\",\n",
        "        \"langchain-core\",\n",
        "    ],\n",
        "    verbose=False,\n",
        "    upgrade=False,\n",
        ")"
      ]
    },
    {
      "cell_type": "code",
      "execution_count": null,
      "metadata": {},
      "outputs": [
        {
          "name": "stdout",
          "output_type": "stream",
          "text": [
            "Environment variables have been set successfully.\n"
          ]
        }
      ],
      "source": [
        "from langchain_opentutorial import set_env\n",
        "\n",
        "set_env(\n",
        "    {\n",
        "        \"OPENAI_API_KEY\": \"<Your OpenAI API KEY>\",\n",
        "        \"LANGCHAIN_API_KEY\": \"<Your LangChain API KEY>\",\n",
        "        \"LANGCHAIN_TRACING_V2\": \"true\",\n",
        "        \"LANGCHAIN_ENDPOINT\": \"https://api.smith.langchain.com\",\n",
        "        \"LANGCHAIN_PROJECT\": \"LangSmith-Tracking-Setup\",  \n",
        "    }\n",
        ")"
      ]
    },
    {
      "cell_type": "code",
      "execution_count": null,
      "metadata": {},
      "outputs": [],
      "source": [
        "from langchain_openai import ChatOpenAI\n",
        "from langchain_core.prompts import PromptTemplate\n",
        "from langchain_core.output_parsers import StrOutputParser\n",
        "\n",
        "model = ChatOpenAI()\n",
        "prompt = PromptTemplate.from_template(\"Describe the {topic} in 3 sentences.\")\n",
        "chain = prompt | model | StrOutputParser()"
      ]
    },
    {
      "cell_type": "code",
      "execution_count": null,
      "metadata": {},
      "outputs": [
        {
          "name": "stdout",
          "output_type": "stream",
          "text": [
            "The multimodal approach involves using multiple modes of communication, such as visual, auditory, and kinesthetic, to enhance learning and understanding. By incorporating different sensory inputs, learners are able to engage with material in a more holistic and immersive way. This approach is especially effective in catering to diverse learning styles and preferences."
          ]
        }
      ],
      "source": [
        "for token in chain.stream({\"topic\": \"multimodal\"}):\n",
        "    print(token, end=\"\", flush=True)"
      ]
    },
    {
      "cell_type": "code",
      "execution_count": null,
      "metadata": {},
      "outputs": [
        {
          "data": {
            "text/plain": [
              "'ChatGPT is an AI-powered chatbot that uses natural language processing to engage in conversations with users. It is trained on a vast amount of text data to generate human-like responses and provide helpful information. ChatGPT can be used for customer support, virtual assistance, and general chit-chat.'"
            ]
          },
          "execution_count": 8,
          "metadata": {},
          "output_type": "execute_result"
        }
      ],
      "source": [
        "chain.invoke({\"topic\": \"ChatGPT\"})"
      ]
    },
    {
      "cell_type": "code",
      "execution_count": null,
      "metadata": {},
      "outputs": [
        {
          "data": {
            "text/plain": [
              "['ChatGPT is a state-of-the-art conversational AI developed by OpenAI, capable of generating human-like responses in natural language conversations. It can understand and respond to a wide range of topics, providing engaging and coherent interactions with users. ChatGPT has been trained on massive amounts of text data to improve its language understanding and generate more contextually relevant responses.',\n",
              " 'Instagram is a social media platform where users can share photos and videos with their followers. It allows users to edit and filter their photos before posting them, as well as engage with other users through likes, comments, and direct messages. With over a billion active users, Instagram has become a popular way for people to connect, discover new content, and express themselves creatively.']"
            ]
          },
          "execution_count": 9,
          "metadata": {},
          "output_type": "execute_result"
        }
      ],
      "source": [
        "chain.batch([{\"topic\": \"ChatGPT\"}, {\"topic\": \"Instagram\"}])"
      ]
    },
    {
      "cell_type": "code",
      "execution_count": 10,
      "metadata": {},
      "outputs": [
        {
          "data": {
            "text/plain": [
              "['ChatGPT is an AI-powered chatbot developed by OpenAI that is capable of engaging in natural and human-like conversations. It uses a deep learning model trained on a vast amount of text data to generate responses and hold meaningful interactions with users. ChatGPT can assist with answering questions, providing recommendations, and engaging in casual conversation on a wide range of topics.',\n",
              " 'Instagram is a popular social media platform that allows users to share photos and videos with their followers. Users can also interact with each other by liking, commenting, and sharing posts. The platform also offers various filters and editing tools to enhance the visual appeal of the content.',\n",
              " 'Multimodal refers to the use of multiple modes of communication or expression, such as text, images, sound, and video, to convey information. It emphasizes the importance of utilizing different sensory channels to enhance understanding and engagement. By incorporating various modes of communication, multimodal approaches can cater to diverse learning styles and preferences.',\n",
              " 'Programming is the process of writing instructions for a computer to follow in order to perform a specific task. It involves using a programming language to create algorithms and code that can be executed by a computer. Programmers use their problem-solving skills and logical thinking to create efficient and effective solutions to various problems.',\n",
              " 'Machine learning is a type of artificial intelligence that involves training algorithms to learn from data and make predictions or decisions without being explicitly programmed. It uses statistical techniques to enable computers to improve their performance on a specific task through experience. Machine learning is used in a wide range of applications, from image and speech recognition to recommendation systems and autonomous vehicles.']"
            ]
          },
          "execution_count": 10,
          "metadata": {},
          "output_type": "execute_result"
        }
      ],
      "source": [
        "chain.batch(\n",
        "    [\n",
        "        {\"topic\": \"ChatGPT\"},\n",
        "        {\"topic\": \"Instagram\"},\n",
        "        {\"topic\": \"multimodal\"},\n",
        "        {\"topic\": \"programming\"},\n",
        "        {\"topic\": \"machineLearning\"},\n",
        "    ],\n",
        "    config={\"max_concurrency\": 3},\n",
        ")"
      ]
    },
    {
      "cell_type": "code",
      "execution_count": null,
      "metadata": {},
      "outputs": [
        {
          "name": "stdout",
          "output_type": "stream",
          "text": [
            "YouTube is a popular video-sharing platform where users can upload, view, and share videos on a wide range of topics. It has become a go-to source for entertainment, education, and news, with millions of videos being watched daily by users all around the world. Content creators can monetize their videos through advertising, sponsorships, and merchandise sales."
          ]
        }
      ],
      "source": [
        "async for token in chain.astream({\"topic\": \"YouTube\"}):\n",
        "    print(token, end=\"\", flush=True)"
      ]
    },
    {
      "cell_type": "code",
      "execution_count": null,
      "metadata": {},
      "outputs": [],
      "source": [
        "my_process = chain.ainvoke({\"topic\": \"NVDA\"})"
      ]
    },
    {
      "cell_type": "code",
      "execution_count": null,
      "metadata": {},
      "outputs": [
        {
          "data": {
            "text/plain": [
              "'The National Vision Doctor of Optometry Association (NVDA) is a professional organization representing optometrists across the United States. They provide resources, support, and advocacy for optometrists to ensure high-quality eye care for patients. The NVDA also works to promote the importance of regular eye exams and vision health awareness.'"
            ]
          },
          "execution_count": 13,
          "metadata": {},
          "output_type": "execute_result"
        }
      ],
      "source": [
        "await my_process"
      ]
    },
    {
      "cell_type": "code",
      "execution_count": null,
      "metadata": {},
      "outputs": [],
      "source": [
        "my_abatch_process = chain.abatch(\n",
        "    [{\"topic\": \"YouTube\"}, {\"topic\": \"Instagram\"}, {\"topic\": \"Facebook\"}]\n",
        ")"
      ]
    },
    {
      "cell_type": "code",
      "execution_count": null,
      "metadata": {},
      "outputs": [
        {
          "data": {
            "text/plain": [
              "['YouTube is a popular video-sharing platform where users can upload, share, and view a wide variety of content. It has millions of users worldwide and offers a vast array of videos, including music, tutorials, vlogs, and more. Users can also subscribe to channels, create playlists, and engage with other viewers through comments and likes.',\n",
              " 'Instagram is a popular social media platform where users can share photos and videos with their followers. It allows users to apply filters and editing tools to enhance their content before posting. Users can also interact with others by liking, commenting, and messaging on their posts.',\n",
              " 'Facebook is a social media platform that allows users to connect with friends and family, share photos and updates, and discover news and events. Users can create personal profiles, join groups, and interact with others through likes, comments, and messages. Mark Zuckerberg founded Facebook in 2004, and it has since become one of the most popular and influential social networking sites in the world.']"
            ]
          },
          "execution_count": 15,
          "metadata": {},
          "output_type": "execute_result"
        }
      ],
      "source": [
        "await my_abatch_process"
      ]
    },
    {
      "cell_type": "code",
      "execution_count": null,
      "metadata": {},
      "outputs": [],
      "source": [
        "from langchain_core.runnables import RunnableParallel\n",
        "\n",
        "chain1 = (\n",
        "    PromptTemplate.from_template(\"What is the capital of {country}?\")\n",
        "    | model\n",
        "    | StrOutputParser()\n",
        ")\n",
        "\n",
        "chain2 = (\n",
        "    PromptTemplate.from_template(\"What is the area of {country}?\")\n",
        "    | model\n",
        "    | StrOutputParser()\n",
        ")\n",
        "\n",
        "combined = RunnableParallel(capital=chain1, area=chain2)"
      ]
    },
    {
      "cell_type": "code",
      "execution_count": null,
      "metadata": {},
      "outputs": [
        {
          "data": {
            "text/plain": [
              "'The capital of Canada is Ottawa.'"
            ]
          },
          "execution_count": 17,
          "metadata": {},
          "output_type": "execute_result"
        }
      ],
      "source": [
        "chain1.invoke({\"country\": \"Canada\"})"
      ]
    },
    {
      "cell_type": "code",
      "execution_count": null,
      "metadata": {},
      "outputs": [
        {
          "data": {
            "text/plain": [
              "'The total area of the United States is approximately 3.8 million square miles.'"
            ]
          },
          "execution_count": 18,
          "metadata": {},
          "output_type": "execute_result"
        }
      ],
      "source": [
        "chain2.invoke({\"country\": \"USA\"})"
      ]
    },
    {
      "cell_type": "code",
      "execution_count": null,
      "metadata": {},
      "outputs": [
        {
          "data": {
            "text/plain": [
              "{'capital': 'Washington, D.C.',\n",
              " 'area': 'The total area of the United States is approximately 3.8 million square miles.'}"
            ]
          },
          "execution_count": 19,
          "metadata": {},
          "output_type": "execute_result"
        }
      ],
      "source": [
        "combined.invoke({\"country\": \"USA\"})"
      ]
    },
    {
      "cell_type": "code",
      "execution_count": null,
      "metadata": {},
      "outputs": [
        {
          "data": {
            "text/plain": [
              "['Ottawa', 'The capital of the United States of America is Washington, D.C.']"
            ]
          },
          "execution_count": 20,
          "metadata": {},
          "output_type": "execute_result"
        }
      ],
      "source": [
        "chain1.batch([{\"country\": \"Canada\"}, {\"country\": \"USA\"}])\n"
      ]
    },
    {
      "cell_type": "code",
      "execution_count": null,
      "metadata": {},
      "outputs": [
        {
          "data": {
            "text/plain": [
              "['The total area of Canada is approximately 9.98 million square kilometers.',\n",
              " 'The total area of the United States of America is approximately 3.8 million square miles.']"
            ]
          },
          "execution_count": 21,
          "metadata": {},
          "output_type": "execute_result"
        }
      ],
      "source": [
        "chain2.batch([{\"country\": \"Canada\"}, {\"country\": \"USA\"}])\n"
      ]
    },
    {
      "cell_type": "code",
      "execution_count": null,
      "metadata": {},
      "outputs": [
        {
          "data": {
            "text/plain": [
              "[{'capital': 'The capital of Canada is Ottawa.',\n",
              "  'area': 'The total land area of Canada is approximately 9.98 million square kilometers.'},\n",
              " {'capital': 'The capital of USA is Washington, D.C.',\n",
              "  'area': 'The total land area of the United States is approximately 3.8 million square miles (9.8 million square kilometers).'}]"
            ]
          },
          "execution_count": 22,
          "metadata": {},
          "output_type": "execute_result"
        }
      ],
      "source": [
        "combined.batch([{\"country\": \"Canada\"}, {\"country\": \"USA\"}])\n"
      ]
    }
  ],
  "metadata": {
    "kernelspec": {
      "display_name": "langchain-opentutorial-cyV7o7ra-py3.11",
      "language": "python",
      "name": "python3"
    },
    "language_info": {
      "codemirror_mode": {
        "name": "ipython",
        "version": 3
      },
      "file_extension": ".py",
      "mimetype": "text/x-python",
      "name": "python",
      "nbconvert_exporter": "python",
      "pygments_lexer": "ipython3",
      "version": "3.11.9"
    }
  },
  "nbformat": 4,
  "nbformat_minor": 2
}
