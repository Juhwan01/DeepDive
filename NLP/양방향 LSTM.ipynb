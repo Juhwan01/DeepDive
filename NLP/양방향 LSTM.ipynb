{
 "cells": [
  {
   "cell_type": "code",
   "execution_count": 2,
   "id": "9d81b2b9",
   "metadata": {},
   "outputs": [],
   "source": [
    "from keras.models import Sequential, load_model\n",
    "from keras.layers import Dense, Embedding, LSTM, Bidirectional\n",
    "from keras.callbacks import EarlyStopping, ModelCheckpoint"
   ]
  },
  {
   "cell_type": "code",
   "execution_count": 1,
   "id": "70dfe92d",
   "metadata": {},
   "outputs": [
    {
     "data": {
      "text/plain": [
       "('steam.txt', <http.client.HTTPMessage at 0x1fc539e4110>)"
      ]
     },
     "execution_count": 1,
     "metadata": {},
     "output_type": "execute_result"
    }
   ],
   "source": [
    "import urllib.request\n",
    "\n",
    "urllib.request.urlretrieve(\"https://raw.githubusercontent.com/bab2min/corpus/master/sentiment/steam.txt\", filename=\"steam.txt\")"
   ]
  },
  {
   "cell_type": "code",
   "execution_count": 5,
   "id": "8d1f487d",
   "metadata": {},
   "outputs": [
    {
     "name": "stdout",
     "output_type": "stream",
     "text": [
      "전체 리뷰 개수 : 100000\n"
     ]
    }
   ],
   "source": [
    "import pandas as pd\n",
    "\n",
    "data = pd.read_table('steam.txt', names=['label','reviews'])\n",
    "print('전체 리뷰 개수 :',len(data))"
   ]
  },
  {
   "cell_type": "code",
   "execution_count": 10,
   "id": "c26865e3",
   "metadata": {},
   "outputs": [
    {
     "data": {
      "text/html": [
       "<div>\n",
       "<style scoped>\n",
       "    .dataframe tbody tr th:only-of-type {\n",
       "        vertical-align: middle;\n",
       "    }\n",
       "\n",
       "    .dataframe tbody tr th {\n",
       "        vertical-align: top;\n",
       "    }\n",
       "\n",
       "    .dataframe thead th {\n",
       "        text-align: right;\n",
       "    }\n",
       "</style>\n",
       "<table border=\"1\" class=\"dataframe\">\n",
       "  <thead>\n",
       "    <tr style=\"text-align: right;\">\n",
       "      <th></th>\n",
       "      <th>label</th>\n",
       "      <th>reviews</th>\n",
       "    </tr>\n",
       "  </thead>\n",
       "  <tbody>\n",
       "    <tr>\n",
       "      <th>0</th>\n",
       "      <td>0</td>\n",
       "      <td>노래가 너무 적음</td>\n",
       "    </tr>\n",
       "    <tr>\n",
       "      <th>1</th>\n",
       "      <td>0</td>\n",
       "      <td>돌겠네 진짜. 황숙아, 어크 공장 그만 돌려라. 죽는다.</td>\n",
       "    </tr>\n",
       "    <tr>\n",
       "      <th>2</th>\n",
       "      <td>1</td>\n",
       "      <td>막노동 체험판 막노동 하는사람인데 장비를 내가 사야돼 뭐지</td>\n",
       "    </tr>\n",
       "    <tr>\n",
       "      <th>3</th>\n",
       "      <td>1</td>\n",
       "      <td>차악!차악!!차악!!! 정말 이래서 왕국을 되찾을 수 있는거야??</td>\n",
       "    </tr>\n",
       "    <tr>\n",
       "      <th>4</th>\n",
       "      <td>1</td>\n",
       "      <td>시간 때우기에 좋음.. 도전과제는 50시간이면 다 깰 수 있어요</td>\n",
       "    </tr>\n",
       "  </tbody>\n",
       "</table>\n",
       "</div>"
      ],
      "text/plain": [
       "   label                               reviews\n",
       "0      0                             노래가 너무 적음\n",
       "1      0       돌겠네 진짜. 황숙아, 어크 공장 그만 돌려라. 죽는다.\n",
       "2      1      막노동 체험판 막노동 하는사람인데 장비를 내가 사야돼 뭐지\n",
       "3      1  차악!차악!!차악!!! 정말 이래서 왕국을 되찾을 수 있는거야??\n",
       "4      1   시간 때우기에 좋음.. 도전과제는 50시간이면 다 깰 수 있어요"
      ]
     },
     "execution_count": 10,
     "metadata": {},
     "output_type": "execute_result"
    }
   ],
   "source": [
    "data[:5]"
   ]
  },
  {
   "cell_type": "code",
   "execution_count": 12,
   "id": "b571cde1",
   "metadata": {},
   "outputs": [
    {
     "data": {
      "text/plain": [
       "(99892, 2)"
      ]
     },
     "execution_count": 12,
     "metadata": {},
     "output_type": "execute_result"
    }
   ],
   "source": [
    "data['reviews'].nunique(),data['label'].nunique()"
   ]
  },
  {
   "cell_type": "code",
   "execution_count": 13,
   "id": "7e05fbcb",
   "metadata": {},
   "outputs": [
    {
     "name": "stdout",
     "output_type": "stream",
     "text": [
      "총 샘플 수 : 99892\n"
     ]
    }
   ],
   "source": [
    "data.drop_duplicates(subset=['reviews'],inplace=True)\n",
    "print('총 샘플 수 :',len(data))"
   ]
  },
  {
   "cell_type": "markdown",
   "id": "dde9d744",
   "metadata": {},
   "source": [
    "\n",
    "\n",
    "---\n",
    "\n",
    "## 📊 예제 데이터프레임\n",
    "\n",
    "| reviews | rating |\n",
    "| ------- | ------ |\n",
    "| 좋아요     | 5      |\n",
    "| 나빠요     | 2      |\n",
    "| 좋아요     | 5 ← 중복 |\n",
    "| 최고!     | 5      |\n",
    "\n",
    "## 🔧 `inplace` 매개변수란?\n",
    "\n",
    "* **설명**: `inplace` 매개변수는 **원본 데이터를 직접 수정할지 여부**를 결정하는 옵션입니다.\n",
    "* **동작**\n",
    "\n",
    "  * `inplace=True`: 원본 객체를 **직접 수정**, **반환값은 `None`**\n",
    "  * `inplace=False` (기본값): **수정된 사본을 반환**, 원본은 그대로 유지됨\n",
    "\n",
    "---\n",
    "\n",
    "\n"
   ]
  },
  {
   "cell_type": "code",
   "execution_count": 15,
   "id": "45eae2b6",
   "metadata": {},
   "outputs": [
    {
     "data": {
      "text/plain": [
       "False"
      ]
     },
     "execution_count": 15,
     "metadata": {},
     "output_type": "execute_result"
    }
   ],
   "source": [
    "data.isnull().values.any()"
   ]
  },
  {
   "cell_type": "markdown",
   "id": "2e02557f",
   "metadata": {},
   "source": [
    "---\n",
    "\n",
    "## ✅ null 여부 확인\n",
    "\n",
    "| A     | B     | C     |\n",
    "| ----- | ----- | ----- |\n",
    "| False | False | False |\n",
    "| False | True  | False |\n",
    "| True  | False | False |\n",
    "| False | False | True  |\n",
    "\n",
    "→ 각 셀이 null인지 True/False로 반환\n",
    "\n",
    "```\n",
    "[[False False False]  \n",
    " [False  True False]  \n",
    " [ True False False]  \n",
    " [False False  True]]  \n",
    "```\n",
    "\n",
    "→ DataFrame을 NumPy 배열로 변환\n",
    "\n",
    "```\n",
    "True\n",
    "```\n",
    "\n",
    "→ 배열에 True가 하나라도 있으면 True 반환\n",
    "\n",
    "---\n"
   ]
  },
  {
   "cell_type": "code",
   "execution_count": 17,
   "id": "5d1a42d8",
   "metadata": {},
   "outputs": [],
   "source": [
    "from sklearn.model_selection import train_test_split\n",
    "train_data,test_data = train_test_split(data,test_size=0.25,random_state=42)"
   ]
  },
  {
   "cell_type": "code",
   "execution_count": 18,
   "id": "18f5cff1",
   "metadata": {},
   "outputs": [
    {
     "data": {
      "text/plain": [
       "<Axes: xlabel='label'>"
      ]
     },
     "execution_count": 18,
     "metadata": {},
     "output_type": "execute_result"
    },
    {
     "data": {
      "image/png": "[encoded data removed]",
      "text/plain": [
       "<Figure size 640x480 with 1 Axes>"
      ]
     },
     "metadata": {},
     "output_type": "display_data"
    }
   ],
   "source": [
    "train_data['label'].value_counts().plot(kind='bar')"
   ]
  },
  {
   "cell_type": "code",
   "execution_count": 19,
   "id": "34a679a7",
   "metadata": {},
   "outputs": [
    {
     "name": "stdout",
     "output_type": "stream",
     "text": [
      "   label  count\n",
      "0      0  37376\n",
      "1      1  37543\n"
     ]
    }
   ],
   "source": [
    "print(train_data.groupby('label').size().reset_index(name='count'))"
   ]
  },
  {
   "cell_type": "markdown",
   "id": "fccfb3e3",
   "metadata": {},
   "source": [
    "---\n",
    "\n",
    "## 📌 그룹화 및 개수 세기\n",
    "\n",
    "```python\n",
    "train_data.groupby('label')\n",
    "```\n",
    "\n",
    "→ `label` 값(0, 1)으로 데이터를 그룹화\n",
    "\n",
    "```python\n",
    "train_data.groupby('label').size()\n",
    "```\n",
    "\n",
    "```\n",
    "label  \n",
    "0    3  ← label이 0인 데이터 3개  \n",
    "1    3  ← label이 1인 데이터 3개  \n",
    "dtype: int64\n",
    "```\n",
    "\n",
    "→ 각 그룹의 개수를 세기\n",
    "\n",
    "```python\n",
    "   label  count  \n",
    "0      0      3  \n",
    "1      1      3\n",
    "```\n",
    "\n",
    "→ 인덱스를 리셋하고 개수 열의 이름을 `'count'`로 지정\n",
    "\n",
    "---\n"
   ]
  },
  {
   "cell_type": "code",
   "execution_count": null,
   "id": "86881ee8",
   "metadata": {},
   "outputs": [],
   "source": [
    "train_data['reviews'] = train_data['reviews'].str.replace(\"[^ㄱ-ㅎㅏ-ㅣ가-힣 ]\",\"\", regex=True)\n"
   ]
  },
  {
   "cell_type": "markdown",
   "id": "8d933338",
   "metadata": {},
   "source": [
    "---\n",
    "\n",
    "## 🧹 한글 이외 문자 제거 (정규표현식)\n",
    "\n",
    "```python\n",
    "train_data['reviews']  # reviews 열을 선택\n",
    ".str.replace('[^ㄱ-ㅎㅏ-ㅣ가-힣 ]', '', regex=True)\n",
    "```\n",
    "\n",
    "* `.str.replace()` : 문자열 치환 메서드\n",
    "* `regex=True` : 정규표현식 사용\n",
    "\n",
    "### 🔍 정규표현식 해석: `[^ㄱ-ㅎㅏ-ㅣ가-힣 ]`\n",
    "\n",
    "| 표현    | 의미                    |\n",
    "| ----- | --------------------- |\n",
    "| `^`   | NOT (부정)              |\n",
    "| `ㄱ-ㅎ` | 한글 자음 (ㄱ, ㄴ, ..., ㅎ)  |\n",
    "| `ㅏ-ㅣ` | 한글 모음 (ㅏ, ㅑ, ..., ㅣ)  |\n",
    "| `가-힣` | 완성된 한글 (가, 나, ..., 힣) |\n",
    "| 공백    | 띄어쓰기 포함               |\n",
    "\n",
    "→ **\"한글 자음, 모음, 완성형 한글, 공백이 아닌 모든 문자\"를 제거**\n",
    "\n",
    "---\n"
   ]
  },
  {
   "cell_type": "code",
   "execution_count": null,
   "id": "bbcb1caa",
   "metadata": {},
   "outputs": [
    {
     "name": "stdout",
     "output_type": "stream",
     "text": [
      "전처리 후 테스트용 샘플의 개수 : 24921\n"
     ]
    },
    {
     "name": "stderr",
     "output_type": "stream",
     "text": [
      "C:\\Users\\정주환\\AppData\\Local\\Temp\\ipykernel_12920\\2826755773.py:4: FutureWarning: A value is trying to be set on a copy of a DataFrame or Series through chained assignment using an inplace method.\n",
      "The behavior will change in pandas 3.0. This inplace method will never work because the intermediate object on which we are setting values always behaves as a copy.\n",
      "\n",
      "For example, when doing 'df[col].method(value, inplace=True)', try using 'df.method({col: value}, inplace=True)' or df[col] = df[col].method(value) instead, to perform the operation inplace on the original object.\n",
      "\n",
      "\n",
      "  test_data['reviews'].replace('', np.nan, inplace=True) # 공백은 Null 값으로 변경\n"
     ]
    }
   ],
   "source": [
    "import numpy as np\n",
    "# 테스트 데이터도 똑같이 전처리\n",
    "test_data.drop_duplicates(subset = ['reviews'], inplace=True) # 중복 제거\n",
    "test_data['reviews'] = test_data['reviews'].str.replace(\"[^ㄱ-ㅎㅏ-ㅣ가-힣 ]\",\"\", regex=True) # 정규 표현식 수행\n",
    "test_data['reviews'].replace('', np.nan, inplace=True) # 공백은 Null 값으로 변경\n",
    "test_data = test_data.dropna(how='any') # Null 값 제거\n",
    "print('전처리 후 테스트용 샘플의 개수 :',len(test_data))"
   ]
  },
  {
   "cell_type": "code",
   "execution_count": 22,
   "id": "bbb8ab5e",
   "metadata": {},
   "outputs": [],
   "source": [
    "# 불용어 정의\n",
    "stopwords = ['도', '는', '다', '의', '가', '이', '은', '한', '에', '하', '고', '을', '를', '인', '듯', '과', '와', '네', '들', '듯', '지', '임', '게', '만', '게임', '겜', '되', '음', '면']\n"
   ]
  },
  {
   "cell_type": "code",
   "execution_count": 28,
   "id": "b72e2496",
   "metadata": {},
   "outputs": [],
   "source": [
    "# 로컬환경 mecap 설치가 복잡한 이유로 mecab->Kiwi 로 형태소 분석기 변환\n",
    "from kiwipiepy import Kiwi\n",
    "\n",
    "kiwi = Kiwi()\n",
    "\n",
    "def kiwi_tokenize(text):\n",
    "   return [token.form for token in kiwi.tokenize(text)] \n",
    "\n",
    "train_data['tokenized'] = train_data['reviews'].apply(kiwi_tokenize)\n",
    "train_data['tokenized'] = train_data['tokenized'].apply(lambda x: [item for item in x if item not in stopwords])\n",
    "test_data['tokenized'] = test_data['reviews'].apply(kiwi_tokenize)\n",
    "test_data['tokenized'] = test_data['tokenized'].apply(lambda x: [item for item in x if item not in stopwords])"
   ]
  },
  {
   "cell_type": "markdown",
   "id": "8ab492db",
   "metadata": {},
   "source": [
    "---\n",
    "\n",
    "## 🧱 Kiwi 토큰 객체 구조\n",
    "\n",
    "```python\n",
    "from kiwipiepy import Kiwi\n",
    "\n",
    "kiwi = Kiwi()\n",
    "tokens = kiwi.tokenize(\"안녕하세요 좋은 하루입니다\")\n",
    "\n",
    "for token in tokens:\n",
    "    print(f\"form: {token.form}\")    # 형태소 표면형\n",
    "    print(f\"tag: {token.tag}\")      # 품사 태그\n",
    "    print(f\"start: {token.start}\")  # 시작 위치\n",
    "    print(f\"len: {token.len}\")      # 길이\n",
    "    print(\"---\")\n",
    "```\n",
    "\n",
    "### 🧾 결과 예시\n",
    "\n",
    "```\n",
    "form: 안녕\n",
    "tag: NNG\n",
    "start: 0\n",
    "len: 2\n",
    "```\n",
    "\n",
    "### 📌 각 속성의 의미\n",
    "\n",
    "1. `token.form`\n",
    "   → 형태소의 **표면형** (실제 나타나는 단어)\n",
    "\n",
    "2. `token.tag`\n",
    "   → **품사 태그** (예:\n",
    "   `NNG`: 일반명사, `VA`: 형용사, `EP`: 선어말어미 등)\n",
    "\n",
    "3. `token.start`\n",
    "   → **원본 텍스트에서의 시작 위치**\n",
    "\n",
    "4. `token.len`\n",
    "   → **토큰의 길이**\n",
    "\n",
    "---\n"
   ]
  },
  {
   "cell_type": "markdown",
   "id": "c8ece73f",
   "metadata": {},
   "source": [
    "---\n",
    "\n",
    "## 🧾 토큰화 예시\n",
    "\n",
    "| reviews     | tokenized              |\n",
    "| ----------- | ---------------------- |\n",
    "| 정말 좋은 영화였어요 | \\[정말, 좋, 은, 영화, 였, 어요] |\n",
    "| 별로 재미없네요    | \\[별로, 재미, 없, 네요]       |\n",
    "| 최고의 작품입니다   | \\[최고, 의, 작품, 입니다]      |\n",
    "\n",
    "→ 문장을 형태소 단위로 분해한 결과\n",
    "\n",
    "---\n"
   ]
  },
  {
   "cell_type": "code",
   "execution_count": 29,
   "id": "5998d4db",
   "metadata": {},
   "outputs": [],
   "source": [
    "negative_words = np.hstack(train_data[train_data.label == 0]['tokenized'].values)\n",
    "positive_words = np.hstack(train_data[train_data.label == 1]['tokenized'].values)"
   ]
  },
  {
   "cell_type": "markdown",
   "id": "dfe4286c",
   "metadata": {},
   "source": [
    "hstack = horizontal stack  \n",
    "배열들을 좌우로 이어붙입니다  \n",
    "열(column) 방향으로 연결합니다  "
   ]
  },
  {
   "cell_type": "code",
   "execution_count": 30,
   "id": "5d4024b1",
   "metadata": {},
   "outputs": [
    {
     "name": "stdout",
     "output_type": "stream",
     "text": [
      "[('.', 19474), ('ᆫ', 18570), ('어', 15931), ('었', 13292), ('ᆷ', 11358), ('ᆯ', 10930), ('안', 8159), ('어서', 7631), ('것', 7305), ('없', 7162), ('거', 7024), ('나', 6424), ('는데', 5758), ('있', 5732), ('...', 5211), ('사', 5127), ('보', 5051), ('ᆸ니다', 4280), ('같', 4263), ('기', 4251)]\n"
     ]
    }
   ],
   "source": [
    "from collections import Counter\n",
    "\n",
    "negative_word_count = Counter(negative_words)\n",
    "print(negative_word_count.most_common(20))\n"
   ]
  },
  {
   "cell_type": "code",
   "execution_count": 31,
   "id": "bab4d4a2",
   "metadata": {},
   "outputs": [
    {
     "name": "stdout",
     "output_type": "stream",
     "text": [
      "[('.', 23660), ('ᆫ', 19599), ('어', 15326), ('었', 12675), ('ᆯ', 12181), ('있', 9957), ('ᆷ', 7451), ('것', 6894), ('ᆸ니다', 6661), ('어서', 6505), ('보', 6451), ('좋', 5839), ('습니다', 5180), ('기', 4988), ('재밌', 4982), ('나', 4977), ('거', 4949), (',', 4903), ('지만', 4549), ('없', 4160)]\n"
     ]
    }
   ],
   "source": [
    "positive_word_count = Counter(positive_words)\n",
    "print(positive_word_count.most_common(20))\n"
   ]
  },
  {
   "cell_type": "markdown",
   "id": "6474fa33",
   "metadata": {},
   "source": [
    "most_common() 메소드는 Counter 객체에서 제공하는 메소드로, 가장 빈번하게 나타나는 요소들을 빈도 순으로 정렬해서 반환하는 기능"
   ]
  },
  {
   "cell_type": "code",
   "execution_count": 33,
   "id": "0d6de7a2",
   "metadata": {},
   "outputs": [],
   "source": [
    "positive_len = train_data[train_data['label']==1]['tokenized'].map(lambda x:len(x))\n",
    "negative_len = train_data[train_data['label']==0]['tokenized'].map(lambda x:len(x))"
   ]
  },
  {
   "cell_type": "markdown",
   "id": "4ca69cb8",
   "metadata": {},
   "source": [
    "---\n",
    "\n",
    "## 🔁 `map()` 함수로 토큰 개수 세기\n",
    "\n",
    "### 1️⃣ 데이터 구조 확인\n",
    "\n",
    "```python\n",
    "train_data[train_data['label'] == 1]['tokenized']\n",
    "```\n",
    "\n",
    "예시:\n",
    "\n",
    "```\n",
    "0    ['this', 'movie', 'is', 'great', 'amazing']\n",
    "1    ['wonderful', 'film', 'love', 'it']\n",
    "2    ['excellent', 'acting', 'superb', 'story', 'fantastic']\n",
    "...\n",
    "```\n",
    "\n",
    "\n",
    "### 2️⃣ `map()` 함수 동작\n",
    "\n",
    "```python\n",
    ".map(lambda x: len(x))\n",
    "```\n",
    "\n",
    "→ 각 리스트에 `len()` 함수를 적용하여 토큰 개수를 반환\n",
    "\n",
    "예:\n",
    "\n",
    "```\n",
    "['this', 'movie', 'is', 'great', 'amazing'] → 5  \n",
    "['wonderful', 'film', 'love', 'it'] → 4  \n",
    "['excellent', 'acting', 'superb', 'story', 'fantastic'] → 5\n",
    "```\n",
    "\n",
    "\n",
    "\n",
    "---\n"
   ]
  },
  {
   "cell_type": "code",
   "execution_count": 35,
   "id": "8f84eb2d",
   "metadata": {},
   "outputs": [
    {
     "name": "stdout",
     "output_type": "stream",
     "text": [
      "긍정 리뷰의 평균 길이 : 17.9734704205844\n",
      "부정 리뷰의 평균 길이 : 18.40590218321918\n"
     ]
    },
    {
     "data": {
      "application/vnd.plotly.v1+json": {
       "config": {
        "plotlyServerURL": "https://plot.ly"
       },
       "data": [
        {
         "bingroup": "x",
         "hovertemplate": "x=%{x}<br>count=%{y}<extra></extra>",
         "legendgroup": "",
         "marker": {
          "color": "red",
          "pattern": {
           "shape": ""
          }
         },
         "name": "",
         "orientation": "v",
         "showlegend": false,
         "type": "histogram",
         "x": {
          "bdata": "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",
          "dtype": "i1"
         },
         "xaxis": "x",
         "yaxis": "y"
        },
        {
         "bingroup": "x",
         "hovertemplate": "x=%{x}<br>count=%{y}<extra></extra>",
         "legendgroup": "",
         "marker": {
          "color": "blue",
          "pattern": {
           "shape": ""
          }
         },
         "name": "",
         "orientation": "v",
         "showlegend": false,
         "type": "histogram",
         "x": {
          "bdata": "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",
          "dtype": "i1"
         },
         "xaxis": "x2",
         "yaxis": "y2"
        }
       ],
       "layout": {
        "annotations": [
         {
          "font": {
           "size": 16
          },
          "showarrow": false,
          "text": "Positive Reviews",
          "x": 0.225,
          "xanchor": "center",
          "xref": "paper",
          "y": 1,
          "yanchor": "bottom",
          "yref": "paper"
         },
         {
          "font": {
           "size": 16
          },
          "showarrow": false,
          "text": "Negative Reviews",
          "x": 0.775,
          "xanchor": "center",
          "xref": "paper",
          "y": 1,
          "yanchor": "bottom",
          "yref": "paper"
         }
        ],
        "height": 500,
        "showlegend": false,
        "template": {
         "data": {
          "bar": [
           {
            "error_x": {
             "color": "#2a3f5f"
            },
            "error_y": {
             "color": "#2a3f5f"
            },
            "marker": {
             "line": {
              "color": "#E5ECF6",
              "width": 0.5
             },
             "pattern": {
              "fillmode": "overlay",
              "size": 10,
              "solidity": 0.2
             }
            },
            "type": "bar"
           }
          ],
          "barpolar": [
           {
            "marker": {
             "line": {
              "color": "#E5ECF6",
              "width": 0.5
             },
             "pattern": {
              "fillmode": "overlay",
              "size": 10,
              "solidity": 0.2
             }
            },
            "type": "barpolar"
           }
          ],
          "carpet": [
           {
            "aaxis": {
             "endlinecolor": "#2a3f5f",
             "gridcolor": "white",
             "linecolor": "white",
             "minorgridcolor": "white",
             "startlinecolor": "#2a3f5f"
            },
            "baxis": {
             "endlinecolor": "#2a3f5f",
             "gridcolor": "white",
             "linecolor": "white",
             "minorgridcolor": "white",
             "startlinecolor": "#2a3f5f"
            },
            "type": "carpet"
           }
          ],
          "choropleth": [
           {
            "colorbar": {
             "outlinewidth": 0,
             "ticks": ""
            },
            "type": "choropleth"
           }
          ],
          "contour": [
           {
            "colorbar": {
             "outlinewidth": 0,
             "ticks": ""
            },
            "colorscale": [
             [
              0,
              "#0d0887"
             ],
             [
              0.1111111111111111,
              "#46039f"
             ],
             [
              0.2222222222222222,
              "#7201a8"
             ],
             [
              0.3333333333333333,
              "#9c179e"
             ],
             [
              0.4444444444444444,
              "#bd3786"
             ],
             [
              0.5555555555555556,
              "#d8576b"
             ],
             [
              0.6666666666666666,
              "#ed7953"
             ],
             [
              0.7777777777777778,
              "#fb9f3a"
             ],
             [
              0.8888888888888888,
              "#fdca26"
             ],
             [
              1,
              "#f0f921"
             ]
            ],
            "type": "contour"
           }
          ],
          "contourcarpet": [
           {
            "colorbar": {
             "outlinewidth": 0,
             "ticks": ""
            },
            "type": "contourcarpet"
           }
          ],
          "heatmap": [
           {
            "colorbar": {
             "outlinewidth": 0,
             "ticks": ""
            },
            "colorscale": [
             [
              0,
              "#0d0887"
             ],
             [
              0.1111111111111111,
              "#46039f"
             ],
             [
              0.2222222222222222,
              "#7201a8"
             ],
             [
              0.3333333333333333,
              "#9c179e"
             ],
             [
              0.4444444444444444,
              "#bd3786"
             ],
             [
              0.5555555555555556,
              "#d8576b"
             ],
             [
              0.6666666666666666,
              "#ed7953"
             ],
             [
              0.7777777777777778,
              "#fb9f3a"
             ],
             [
              0.8888888888888888,
              "#fdca26"
             ],
             [
              1,
              "#f0f921"
             ]
            ],
            "type": "heatmap"
           }
          ],
          "histogram": [
           {
            "marker": {
             "pattern": {
              "fillmode": "overlay",
              "size": 10,
              "solidity": 0.2
             }
            },
            "type": "histogram"
           }
          ],
          "histogram2d": [
           {
            "colorbar": {
             "outlinewidth": 0,
             "ticks": ""
            },
            "colorscale": [
             [
              0,
              "#0d0887"
             ],
             [
              0.1111111111111111,
              "#46039f"
             ],
             [
              0.2222222222222222,
              "#7201a8"
             ],
             [
              0.3333333333333333,
              "#9c179e"
             ],
             [
              0.4444444444444444,
              "#bd3786"
             ],
             [
              0.5555555555555556,
              "#d8576b"
             ],
             [
              0.6666666666666666,
              "#ed7953"
             ],
             [
              0.7777777777777778,
              "#fb9f3a"
             ],
             [
              0.8888888888888888,
              "#fdca26"
             ],
             [
              1,
              "#f0f921"
             ]
            ],
            "type": "histogram2d"
           }
          ],
          "histogram2dcontour": [
           {
            "colorbar": {
             "outlinewidth": 0,
             "ticks": ""
            },
            "colorscale": [
             [
              0,
              "#0d0887"
             ],
             [
              0.1111111111111111,
              "#46039f"
             ],
             [
              0.2222222222222222,
              "#7201a8"
             ],
             [
              0.3333333333333333,
              "#9c179e"
             ],
             [
              0.4444444444444444,
              "#bd3786"
             ],
             [
              0.5555555555555556,
              "#d8576b"
             ],
             [
              0.6666666666666666,
              "#ed7953"
             ],
             [
              0.7777777777777778,
              "#fb9f3a"
             ],
             [
              0.8888888888888888,
              "#fdca26"
             ],
             [
              1,
              "#f0f921"
             ]
            ],
            "type": "histogram2dcontour"
           }
          ],
          "mesh3d": [
           {
            "colorbar": {
             "outlinewidth": 0,
             "ticks": ""
            },
            "type": "mesh3d"
           }
          ],
          "parcoords": [
           {
            "line": {
             "colorbar": {
              "outlinewidth": 0,
              "ticks": ""
             }
            },
            "type": "parcoords"
           }
          ],
          "pie": [
           {
            "automargin": true,
            "type": "pie"
           }
          ],
          "scatter": [
           {
            "fillpattern": {
             "fillmode": "overlay",
             "size": 10,
             "solidity": 0.2
            },
            "type": "scatter"
           }
          ],
          "scatter3d": [
           {
            "line": {
             "colorbar": {
              "outlinewidth": 0,
              "ticks": ""
             }
            },
            "marker": {
             "colorbar": {
              "outlinewidth": 0,
              "ticks": ""
             }
            },
            "type": "scatter3d"
           }
          ],
          "scattercarpet": [
           {
            "marker": {
             "colorbar": {
              "outlinewidth": 0,
              "ticks": ""
             }
            },
            "type": "scattercarpet"
           }
          ],
          "scattergeo": [
           {
            "marker": {
             "colorbar": {
              "outlinewidth": 0,
              "ticks": ""
             }
            },
            "type": "scattergeo"
           }
          ],
          "scattergl": [
           {
            "marker": {
             "colorbar": {
              "outlinewidth": 0,
              "ticks": ""
             }
            },
            "type": "scattergl"
           }
          ],
          "scattermap": [
           {
            "marker": {
             "colorbar": {
              "outlinewidth": 0,
              "ticks": ""
             }
            },
            "type": "scattermap"
           }
          ],
          "scattermapbox": [
           {
            "marker": {
             "colorbar": {
              "outlinewidth": 0,
              "ticks": ""
             }
            },
            "type": "scattermapbox"
           }
          ],
          "scatterpolar": [
           {
            "marker": {
             "colorbar": {
              "outlinewidth": 0,
              "ticks": ""
             }
            },
            "type": "scatterpolar"
           }
          ],
          "scatterpolargl": [
           {
            "marker": {
             "colorbar": {
              "outlinewidth": 0,
              "ticks": ""
             }
            },
            "type": "scatterpolargl"
           }
          ],
          "scatterternary": [
           {
            "marker": {
             "colorbar": {
              "outlinewidth": 0,
              "ticks": ""
             }
            },
            "type": "scatterternary"
           }
          ],
          "surface": [
           {
            "colorbar": {
             "outlinewidth": 0,
             "ticks": ""
            },
            "colorscale": [
             [
              0,
              "#0d0887"
             ],
             [
              0.1111111111111111,
              "#46039f"
             ],
             [
              0.2222222222222222,
              "#7201a8"
             ],
             [
              0.3333333333333333,
              "#9c179e"
             ],
             [
              0.4444444444444444,
              "#bd3786"
             ],
             [
              0.5555555555555556,
              "#d8576b"
             ],
             [
              0.6666666666666666,
              "#ed7953"
             ],
             [
              0.7777777777777778,
              "#fb9f3a"
             ],
             [
              0.8888888888888888,
              "#fdca26"
             ],
             [
              1,
              "#f0f921"
             ]
            ],
            "type": "surface"
           }
          ],
          "table": [
           {
            "cells": {
             "fill": {
              "color": "#EBF0F8"
             },
             "line": {
              "color": "white"
             }
            },
            "header": {
             "fill": {
              "color": "#C8D4E3"
             },
             "line": {
              "color": "white"
             }
            },
            "type": "table"
           }
          ]
         },
         "layout": {
          "annotationdefaults": {
           "arrowcolor": "#2a3f5f",
           "arrowhead": 0,
           "arrowwidth": 1
          },
          "autotypenumbers": "strict",
          "coloraxis": {
           "colorbar": {
            "outlinewidth": 0,
            "ticks": ""
           }
          },
          "colorscale": {
           "diverging": [
            [
             0,
             "#8e0152"
            ],
            [
             0.1,
             "#c51b7d"
            ],
            [
             0.2,
             "#de77ae"
            ],
            [
             0.3,
             "#f1b6da"
            ],
            [
             0.4,
             "#fde0ef"
            ],
            [
             0.5,
             "#f7f7f7"
            ],
            [
             0.6,
             "#e6f5d0"
            ],
            [
             0.7,
             "#b8e186"
            ],
            [
             0.8,
             "#7fbc41"
            ],
            [
             0.9,
             "#4d9221"
            ],
            [
             1,
             "#276419"
            ]
           ],
           "sequential": [
            [
             0,
             "#0d0887"
            ],
            [
             0.1111111111111111,
             "#46039f"
            ],
            [
             0.2222222222222222,
             "#7201a8"
            ],
            [
             0.3333333333333333,
             "#9c179e"
            ],
            [
             0.4444444444444444,
             "#bd3786"
            ],
            [
             0.5555555555555556,
             "#d8576b"
            ],
            [
             0.6666666666666666,
             "#ed7953"
            ],
            [
             0.7777777777777778,
             "#fb9f3a"
            ],
            [
             0.8888888888888888,
             "#fdca26"
            ],
            [
             1,
             "#f0f921"
            ]
           ],
           "sequentialminus": [
            [
             0,
             "#0d0887"
            ],
            [
             0.1111111111111111,
             "#46039f"
            ],
            [
             0.2222222222222222,
             "#7201a8"
            ],
            [
             0.3333333333333333,
             "#9c179e"
            ],
            [
             0.4444444444444444,
             "#bd3786"
            ],
            [
             0.5555555555555556,
             "#d8576b"
            ],
            [
             0.6666666666666666,
             "#ed7953"
            ],
            [
             0.7777777777777778,
             "#fb9f3a"
            ],
            [
             0.8888888888888888,
             "#fdca26"
            ],
            [
             1,
             "#f0f921"
            ]
           ]
          },
          "colorway": [
           "#636efa",
           "#EF553B",
           "#00cc96",
           "#ab63fa",
           "#FFA15A",
           "#19d3f3",
           "#FF6692",
           "#B6E880",
           "#FF97FF",
           "#FECB52"
          ],
          "font": {
           "color": "#2a3f5f"
          },
          "geo": {
           "bgcolor": "white",
           "lakecolor": "white",
           "landcolor": "#E5ECF6",
           "showlakes": true,
           "showland": true,
           "subunitcolor": "white"
          },
          "hoverlabel": {
           "align": "left"
          },
          "hovermode": "closest",
          "mapbox": {
           "style": "light"
          },
          "paper_bgcolor": "white",
          "plot_bgcolor": "#E5ECF6",
          "polar": {
           "angularaxis": {
            "gridcolor": "white",
            "linecolor": "white",
            "ticks": ""
           },
           "bgcolor": "#E5ECF6",
           "radialaxis": {
            "gridcolor": "white",
            "linecolor": "white",
            "ticks": ""
           }
          },
          "scene": {
           "xaxis": {
            "backgroundcolor": "#E5ECF6",
            "gridcolor": "white",
            "gridwidth": 2,
            "linecolor": "white",
            "showbackground": true,
            "ticks": "",
            "zerolinecolor": "white"
           },
           "yaxis": {
            "backgroundcolor": "#E5ECF6",
            "gridcolor": "white",
            "gridwidth": 2,
            "linecolor": "white",
            "showbackground": true,
            "ticks": "",
            "zerolinecolor": "white"
           },
           "zaxis": {
            "backgroundcolor": "#E5ECF6",
            "gridcolor": "white",
            "gridwidth": 2,
            "linecolor": "white",
            "showbackground": true,
            "ticks": "",
            "zerolinecolor": "white"
           }
          },
          "shapedefaults": {
           "line": {
            "color": "#2a3f5f"
           }
          },
          "ternary": {
           "aaxis": {
            "gridcolor": "white",
            "linecolor": "white",
            "ticks": ""
           },
           "baxis": {
            "gridcolor": "white",
            "linecolor": "white",
            "ticks": ""
           },
           "bgcolor": "#E5ECF6",
           "caxis": {
            "gridcolor": "white",
            "linecolor": "white",
            "ticks": ""
           }
          },
          "title": {
           "x": 0.05
          },
          "xaxis": {
           "automargin": true,
           "gridcolor": "white",
           "linecolor": "white",
           "ticks": "",
           "title": {
            "standoff": 15
           },
           "zerolinecolor": "white",
           "zerolinewidth": 2
          },
          "yaxis": {
           "automargin": true,
           "gridcolor": "white",
           "linecolor": "white",
           "ticks": "",
           "title": {
            "standoff": 15
           },
           "zerolinecolor": "white",
           "zerolinewidth": 2
          }
         }
        },
        "title": {
         "text": "Words in texts"
        },
        "width": 1000,
        "xaxis": {
         "anchor": "y",
         "domain": [
          0,
          0.45
         ],
         "title": {
          "text": "length of samples"
         }
        },
        "xaxis2": {
         "anchor": "y2",
         "domain": [
          0.55,
          1
         ],
         "title": {
          "text": "length of samples"
         }
        },
        "yaxis": {
         "anchor": "x",
         "domain": [
          0,
          1
         ],
         "title": {
          "text": "number of samples"
         }
        },
        "yaxis2": {
         "anchor": "x2",
         "domain": [
          0,
          1
         ],
         "title": {
          "text": "number of samples"
         }
        }
       }
      }
     },
     "metadata": {},
     "output_type": "display_data"
    }
   ],
   "source": [
    "import plotly.express as px\n",
    "from plotly.subplots import make_subplots\n",
    "fig = make_subplots(\n",
    "    rows=1, cols=2,\n",
    "    subplot_titles=('Positive Reviews', 'Negative Reviews')\n",
    ")\n",
    "fig1 = px.histogram(\n",
    "    x = positive_len,\n",
    "    color_discrete_sequence = ['red']\n",
    ")\n",
    "fig2 = px.histogram(\n",
    "    x = negative_len,\n",
    "    color_discrete_sequence = ['blue']\n",
    ")\n",
    "\n",
    "fig.add_trace(\n",
    "    fig1.data[0],\n",
    "    row=1,col=1\n",
    ")\n",
    "fig.add_trace(\n",
    "    fig2.data[0],\n",
    "    row=1,col=2\n",
    ")\n",
    "\n",
    "# 레이아웃 설정\n",
    "fig.update_layout(\n",
    "    title_text=\"Words in texts\",\n",
    "    showlegend=False,\n",
    "    width=1000, height=500\n",
    ")\n",
    "\n",
    "fig.update_xaxes(title_text=\"length of samples\")\n",
    "fig.update_yaxes(title_text=\"number of samples\")\n",
    "\n",
    "print('긍정 리뷰의 평균 길이 :', np.mean(positive_len))\n",
    "print('부정 리뷰의 평균 길이 :', np.mean(negative_len))\n",
    "\n",
    "fig.show()"
   ]
  },
  {
   "cell_type": "code",
   "execution_count": 36,
   "id": "34484488",
   "metadata": {},
   "outputs": [],
   "source": [
    "X_train = train_data['tokenized'].values\n",
    "y_train = train_data['label'].values\n",
    "X_test= test_data['tokenized'].values\n",
    "y_test = test_data['label'].values\n"
   ]
  },
  {
   "cell_type": "code",
   "execution_count": 39,
   "id": "23ae2d2b",
   "metadata": {},
   "outputs": [],
   "source": [
    "from keras_preprocessing.text import Tokenizer\n",
    "from keras_preprocessing.sequence import pad_sequences\n",
    "\n",
    "tokenizer = Tokenizer()\n",
    "tokenizer.fit_on_texts(X_train)"
   ]
  },
  {
   "cell_type": "markdown",
   "id": "19c3223d",
   "metadata": {},
   "source": [
    "---\n",
    "\n",
    "## 📚 `fit_on_texts()` — 단어 사전 생성\n",
    "\n",
    "```python\n",
    "from tensorflow.keras.preprocessing.text import Tokenizer\n",
    "\n",
    "texts = [\n",
    "    ['I', 'love', 'this', 'movie'],\n",
    "    ['This', 'movie', 'is', 'great'],\n",
    "    ['I', 'hate', 'this', 'film']\n",
    "]\n",
    "\n",
    "tokenizer = Tokenizer()\n",
    "tokenizer.fit_on_texts(texts)\n",
    "```\n",
    "\n",
    "\n",
    "### ✅ 주요 기능\n",
    "\n",
    "#### 1️⃣ 단어 빈도 계산\n",
    "\n",
    "```python\n",
    "tokenizer.word_counts\n",
    "```\n",
    "\n",
    "```\n",
    "OrderedDict([\n",
    "  ('i', 2), ('love', 1), ('this', 2), ('movie', 2),\n",
    "  ('is', 1), ('great', 1), ('hate', 1), ('film', 1)\n",
    "])\n",
    "```\n",
    "\n",
    "#### 2️⃣ 단어 인덱스 생성 (빈도순)\n",
    "\n",
    "```python\n",
    "tokenizer.word_index\n",
    "```\n",
    "\n",
    "```\n",
    "{'i': 1, 'this': 2, 'movie': 3, 'love': 4, 'is': 5, 'great': 6, 'hate': 7, 'film': 8}\n",
    "```\n",
    "\n",
    "#### 3️⃣ 기타 통계 정보\n",
    "\n",
    "```python\n",
    "tokenizer.document_count      # 3\n",
    "len(tokenizer.word_index)    # 8\n",
    "```\n",
    "\n",
    "\n",
    "\n",
    "→ **단어 사전을 기반으로 텍스트를 숫자 시퀀스로 변환**\n",
    "\n",
    "---\n"
   ]
  },
  {
   "cell_type": "code",
   "execution_count": 40,
   "id": "ae99de7e",
   "metadata": {},
   "outputs": [
    {
     "name": "stdout",
     "output_type": "stream",
     "text": [
      "단어 집합(vocabulary)의 크기 : 38929\n",
      "등장 빈도가 1번 이하인 희귀 단어의 수: 20692\n",
      "단어 집합에서 희귀 단어의 비율: 53.153176295306835\n",
      "전체 등장 빈도에서 희귀 단어 등장 빈도 비율: 1.5184370636016136\n"
     ]
    }
   ],
   "source": [
    "threshold = 2\n",
    "total_cnt = len(tokenizer.word_index) # 단어의 수\n",
    "rare_cnt = 0 # 등장 빈도수가 threshold보다 작은 단어의 개수를 카운트\n",
    "total_freq = 0 # 훈련 데이터의 전체 단어 빈도수 총 합\n",
    "rare_freq = 0 # 등장 빈도수가 threshold보다 작은 단어의 등장 빈도수의 총 합\n",
    "\n",
    "# 단어와 빈도수의 쌍(pair)을 key와 value로 받는다.\n",
    "for key, value in tokenizer.word_counts.items():\n",
    "    total_freq = total_freq + value\n",
    "\n",
    "    # 단어의 등장 빈도수가 threshold보다 작으면\n",
    "    if(value < threshold):\n",
    "        rare_cnt = rare_cnt + 1\n",
    "        rare_freq = rare_freq + value\n",
    "\n",
    "print('단어 집합(vocabulary)의 크기 :',total_cnt)\n",
    "print('등장 빈도가 %s번 이하인 희귀 단어의 수: %s'%(threshold - 1, rare_cnt))\n",
    "print(\"단어 집합에서 희귀 단어의 비율:\", (rare_cnt / total_cnt)*100)\n",
    "print(\"전체 등장 빈도에서 희귀 단어 등장 빈도 비율:\", (rare_freq / total_freq)*100)\n"
   ]
  },
  {
   "cell_type": "code",
   "execution_count": 41,
   "id": "a93b3f5f",
   "metadata": {},
   "outputs": [
    {
     "name": "stdout",
     "output_type": "stream",
     "text": [
      "단어 집합의 크기 : 18239\n"
     ]
    }
   ],
   "source": [
    "# 전체 단어 개수 중 빈도수 2이하인 단어 개수는 제거.\n",
    "# 0번 패딩 토큰과 1번 OOV 토큰을 고려하여 +2\n",
    "vocab_size = total_cnt - rare_cnt + 2\n",
    "print('단어 집합의 크기 :',vocab_size)\n"
   ]
  },
  {
   "cell_type": "code",
   "execution_count": 42,
   "id": "3d242092",
   "metadata": {},
   "outputs": [],
   "source": [
    "tokenizer = Tokenizer(vocab_size, oov_token = 'OOV') \n",
    "tokenizer.fit_on_texts(X_train)\n",
    "X_train = tokenizer.texts_to_sequences(X_train)\n",
    "X_test = tokenizer.texts_to_sequences(X_test)"
   ]
  },
  {
   "cell_type": "markdown",
   "id": "438c8fa8",
   "metadata": {},
   "source": [
    "---\n",
    "\n",
    "## 📚 `oov_token` — 범위 밖 단어 처리\n",
    "\n",
    "```python\n",
    "from tensorflow.keras.preprocessing.text import Tokenizer\n",
    "\n",
    "# 테스트 데이터\n",
    "texts = [['hello', 'world'], ['hello', 'python'], ['world', 'coding']]\n",
    "\n",
    "tokenizer = Tokenizer(num_words=3, oov_token='<UNK>')\n",
    "tokenizer.fit_on_texts(texts)\n",
    "```\n",
    "\n",
    "### ✅ 동작 원리\n",
    "\n",
    "#### 1️⃣ 전체 단어 사전 생성\n",
    "\n",
    "```python\n",
    "tokenizer.word_index\n",
    "```\n",
    "\n",
    "```\n",
    "{\n",
    "  '<UNK>': 1,    # OOV 토큰이 첫 번째\n",
    "  'hello': 2,    # 빈도 1위 \n",
    "  'world': 3,    # 빈도 2위\n",
    "  'python': 4,   # 빈도 3위 (범위 초과!)\n",
    "  'coding': 5    # 빈도 4위 (범위 초과!)\n",
    "}\n",
    "```\n",
    "\n",
    "#### 2️⃣ 범위 제한 적용 (`num_words=3`)\n",
    "\n",
    "**사용 가능한 인덱스**: 1, 2, 3\n",
    "- `1`: `<UNK>` (OOV 토큰)\n",
    "- `2`: `hello` \n",
    "- `3`: `world`\n",
    "\n",
    "**범위 초과**: `python`(4), `coding`(5) → 모두 `<UNK>`로 변환\n",
    "\n",
    "#### 3️⃣ 실제 변환 결과\n",
    "\n",
    "```python\n",
    "# 변환 전\n",
    "test_text = [['hello', 'world', 'python', 'coding']]\n",
    "\n",
    "# 변환 후\n",
    "result = tokenizer.texts_to_sequences(test_text)\n",
    "print(result)\n",
    "```\n",
    "\n",
    "```\n",
    "[[2, 3, 1, 1]]\n",
    "# hello world <UNK> <UNK>\n",
    "```\n",
    "\n",
    "### 🎯 핵심 포인트\n",
    "\n",
    "- **`oov_token`**: 범위를 벗어나거나 없는 단어들의 **대체재**\n",
    "- **자동 처리**: `num_words` 범위 초과 시 **자동으로 OOV 인덱스로 변환**\n",
    "- **메모리 효율**: 상위 N개 단어만 사용해 **어휘 크기 제한**\n",
    "\n",
    "→ **저빈도 단어들을 효율적으로 처리하는 전처리 기법**\n",
    "\n",
    "---"
   ]
  },
  {
   "cell_type": "markdown",
   "id": "53f95a64",
   "metadata": {},
   "source": [
    "---\n",
    "\n",
    "## 📚 `texts_to_sequences()` — 텍스트를 숫자로 변환\n",
    "\n",
    "```python\n",
    "from tensorflow.keras.preprocessing.text import Tokenizer\n",
    "\n",
    "# 1. 단어 사전 생성\n",
    "texts = [['good', 'movie'], ['bad', 'film'], ['great', 'movie']]\n",
    "tokenizer = Tokenizer()\n",
    "tokenizer.fit_on_texts(texts)\n",
    "\n",
    "print(tokenizer.word_index)\n",
    "```\n",
    "\n",
    "```\n",
    "{'movie': 1, 'good': 2, 'bad': 3, 'film': 4, 'great': 5}\n",
    "```\n",
    "\n",
    "### ✅ 텍스트 → 숫자 시퀀스 변환\n",
    "\n",
    "#### 1️⃣ 기본 변환\n",
    "\n",
    "```python\n",
    "# 텍스트 준비\n",
    "new_texts = [['good', 'movie'], ['bad', 'film', 'terrible']]\n",
    "\n",
    "# 숫자로 변환\n",
    "sequences = tokenizer.texts_to_sequences(new_texts)\n",
    "print(sequences)\n",
    "```\n",
    "\n",
    "```\n",
    "[[2, 1], [3, 4]]\n",
    "# good movie → [2, 1]\n",
    "# bad film → [3, 4]  ('terrible'은 사전에 없어서 제외됨)\n",
    "```\n",
    "\n",
    "#### 2️⃣ OOV 토큰 있는 경우\n",
    "\n",
    "```python\n",
    "tokenizer = Tokenizer(oov_token='<UNK>')\n",
    "tokenizer.fit_on_texts(texts)\n",
    "\n",
    "new_texts = [['good', 'movie'], ['bad', 'terrible']]  # 'terrible' 없음\n",
    "sequences = tokenizer.texts_to_sequences(new_texts)\n",
    "print(sequences)\n",
    "```\n",
    "\n",
    "```\n",
    "[[2, 1], [4, 1]]\n",
    "# good movie → [2, 1] \n",
    "# bad terrible → [4, 1]  ('terrible'이 <UNK>로 변환)\n",
    "```\n",
    "\n",
    "#### 3️⃣ 범위 제한과 함께\n",
    "\n",
    "```python\n",
    "tokenizer = Tokenizer(num_words=3, oov_token='<UNK>')\n",
    "tokenizer.fit_on_texts(texts)\n",
    "\n",
    "new_texts = [['good', 'movie', 'great']]  # 'great'는 범위 초과\n",
    "sequences = tokenizer.texts_to_sequences(new_texts)\n",
    "print(sequences)\n",
    "```\n",
    "\n",
    "```\n",
    "[[2, 3, 1]]\n",
    "# good movie great → [2, 3, 1]  ('great'가 <UNK>로 변환)\n",
    "```\n",
    "\n",
    "### 🎯 핵심 기능\n",
    "\n",
    "- **단어 → 인덱스**: 학습된 단어 사전으로 **텍스트를 숫자로 변환**\n",
    "- **모델 입력 준비**: 딥러닝 모델이 이해할 수 있는 **숫자 형태로 변환**\n",
    "- **일관성 유지**: 같은 토크나이저로 **train/test 데이터 동일하게 처리**\n",
    "\n",
    "→ **자연어 처리 모델의 필수 전처리 단계**\n",
    "\n",
    "---"
   ]
  },
  {
   "cell_type": "code",
   "execution_count": 43,
   "id": "51627918",
   "metadata": {},
   "outputs": [
    {
     "name": "stdout",
     "output_type": "stream",
     "text": [
      "[[340, 6, 48, 88, 159, 589, 270, 35, 22, 81, 64, 54, 3, 124, 16, 56, 16], [74, 142, 306, 29, 5, 72, 450, 645, 535, 9, 21, 5, 93], [4867, 1299, 15]]\n"
     ]
    }
   ],
   "source": [
    "print(X_train[:3])"
   ]
  },
  {
   "cell_type": "code",
   "execution_count": 44,
   "id": "42deb284",
   "metadata": {},
   "outputs": [
    {
     "name": "stdout",
     "output_type": "stream",
     "text": [
      "[[792, 1326, 14, 426, 16, 113, 52, 17, 2362, 5, 487], [4757, 702, 427, 775, 692, 150, 15, 1643, 106, 345, 248, 6, 86, 3, 9, 7, 583, 594, 5091, 269, 186, 3803, 6, 48, 88, 445, 9, 5727, 5130], [868, 68, 33, 395]]\n"
     ]
    }
   ],
   "source": [
    "print(X_test[:3])"
   ]
  },
  {
   "cell_type": "code",
   "execution_count": 45,
   "id": "1bf81a7a",
   "metadata": {},
   "outputs": [
    {
     "name": "stdout",
     "output_type": "stream",
     "text": [
      "리뷰의 최대 길이 : 75\n",
      "리뷰의 평균 길이 : 18.189204340687944\n"
     ]
    }
   ],
   "source": [
    "print('리뷰의 최대 길이 :',max(len(review) for review in X_train))\n",
    "print('리뷰의 평균 길이 :',sum(map(len, X_train))/len(X_train))"
   ]
  },
  {
   "cell_type": "markdown",
   "id": "8d344f18",
   "metadata": {},
   "source": [
    "리뷰의 최대 길이는 75, 평균 길이는 약 18입니다. 전체적으로는 60이하의 길이를 가지는 것으로 보입니다."
   ]
  },
  {
   "cell_type": "code",
   "execution_count": null,
   "id": "ba49486d",
   "metadata": {},
   "outputs": [],
   "source": [
    "# 샘플 데이터를 trim or pad 했을 경우에 데이터 비율 계산\n",
    "def below_threshold_len(max_len, nested_list):\n",
    "  count = 0\n",
    "  for sentence in nested_list:\n",
    "    if(len(sentence) <= max_len):\n",
    "        count = count + 1\n",
    "  print('전체 샘플 중 길이가 %s 이하인 샘플의 비율: %s'%(max_len, (count / len(nested_list))*100))\n"
   ]
  },
  {
   "cell_type": "code",
   "execution_count": 47,
   "id": "5ed2b6a9",
   "metadata": {},
   "outputs": [
    {
     "name": "stdout",
     "output_type": "stream",
     "text": [
      "전체 샘플 중 길이가 60 이하인 샘플의 비율: 99.86518773608832\n"
     ]
    }
   ],
   "source": [
    "max_len = 60\n",
    "below_threshold_len(max_len, X_train)"
   ]
  },
  {
   "cell_type": "code",
   "execution_count": 48,
   "id": "0b7dba75",
   "metadata": {},
   "outputs": [],
   "source": [
    "X_train = pad_sequences(X_train, maxlen=max_len)\n",
    "X_test = pad_sequences(X_test, maxlen=max_len)\n"
   ]
  },
  {
   "cell_type": "code",
   "execution_count": 49,
   "id": "b49cca37",
   "metadata": {},
   "outputs": [
    {
     "name": "stdout",
     "output_type": "stream",
     "text": [
      "Epoch 1/15\n",
      "\u001b[1m234/235\u001b[0m \u001b[32m━━━━━━━━━━━━━━━━━━━\u001b[0m\u001b[37m━\u001b[0m \u001b[1m0s\u001b[0m 143ms/step - acc: 0.5962 - loss: 0.6562\n",
      "Epoch 1: val_acc improved from -inf to 0.75380, saving model to best_model.h5\n"
     ]
    },
    {
     "name": "stderr",
     "output_type": "stream",
     "text": [
      "WARNING:absl:You are saving your model as an HDF5 file via `model.save()` or `keras.saving.save_model(model)`. This file format is considered legacy. We recommend using instead the native Keras format, e.g. `model.save('my_model.keras')` or `keras.saving.save_model(model, 'my_model.keras')`. \n"
     ]
    },
    {
     "name": "stdout",
     "output_type": "stream",
     "text": [
      "\u001b[1m235/235\u001b[0m \u001b[32m━━━━━━━━━━━━━━━━━━━━\u001b[0m\u001b[37m\u001b[0m \u001b[1m40s\u001b[0m 159ms/step - acc: 0.5968 - loss: 0.6557 - val_acc: 0.7538 - val_loss: 0.5109\n",
      "Epoch 2/15\n",
      "\u001b[1m234/235\u001b[0m \u001b[32m━━━━━━━━━━━━━━━━━━━\u001b[0m\u001b[37m━\u001b[0m \u001b[1m0s\u001b[0m 157ms/step - acc: 0.7677 - loss: 0.4912\n",
      "Epoch 2: val_acc improved from 0.75380 to 0.77930, saving model to best_model.h5\n"
     ]
    },
    {
     "name": "stderr",
     "output_type": "stream",
     "text": [
      "WARNING:absl:You are saving your model as an HDF5 file via `model.save()` or `keras.saving.save_model(model)`. This file format is considered legacy. We recommend using instead the native Keras format, e.g. `model.save('my_model.keras')` or `keras.saving.save_model(model, 'my_model.keras')`. \n"
     ]
    },
    {
     "name": "stdout",
     "output_type": "stream",
     "text": [
      "\u001b[1m235/235\u001b[0m \u001b[32m━━━━━━━━━━━━━━━━━━━━\u001b[0m\u001b[37m\u001b[0m \u001b[1m41s\u001b[0m 173ms/step - acc: 0.7678 - loss: 0.4911 - val_acc: 0.7793 - val_loss: 0.4740\n",
      "Epoch 3/15\n",
      "\u001b[1m234/235\u001b[0m \u001b[32m━━━━━━━━━━━━━━━━━━━\u001b[0m\u001b[37m━\u001b[0m \u001b[1m0s\u001b[0m 164ms/step - acc: 0.7992 - loss: 0.4435\n",
      "Epoch 3: val_acc improved from 0.77930 to 0.77936, saving model to best_model.h5\n"
     ]
    },
    {
     "name": "stderr",
     "output_type": "stream",
     "text": [
      "WARNING:absl:You are saving your model as an HDF5 file via `model.save()` or `keras.saving.save_model(model)`. This file format is considered legacy. We recommend using instead the native Keras format, e.g. `model.save('my_model.keras')` or `keras.saving.save_model(model, 'my_model.keras')`. \n"
     ]
    },
    {
     "name": "stdout",
     "output_type": "stream",
     "text": [
      "\u001b[1m235/235\u001b[0m \u001b[32m━━━━━━━━━━━━━━━━━━━━\u001b[0m\u001b[37m\u001b[0m \u001b[1m42s\u001b[0m 180ms/step - acc: 0.7992 - loss: 0.4436 - val_acc: 0.7794 - val_loss: 0.4838\n",
      "Epoch 4/15\n",
      "\u001b[1m234/235\u001b[0m \u001b[32m━━━━━━━━━━━━━━━━━━━\u001b[0m\u001b[37m━\u001b[0m \u001b[1m0s\u001b[0m 154ms/step - acc: 0.8108 - loss: 0.4246\n",
      "Epoch 4: val_acc improved from 0.77936 to 0.78717, saving model to best_model.h5\n"
     ]
    },
    {
     "name": "stderr",
     "output_type": "stream",
     "text": [
      "WARNING:absl:You are saving your model as an HDF5 file via `model.save()` or `keras.saving.save_model(model)`. This file format is considered legacy. We recommend using instead the native Keras format, e.g. `model.save('my_model.keras')` or `keras.saving.save_model(model, 'my_model.keras')`. \n"
     ]
    },
    {
     "name": "stdout",
     "output_type": "stream",
     "text": [
      "\u001b[1m235/235\u001b[0m \u001b[32m━━━━━━━━━━━━━━━━━━━━\u001b[0m\u001b[37m\u001b[0m \u001b[1m40s\u001b[0m 169ms/step - acc: 0.8108 - loss: 0.4246 - val_acc: 0.7872 - val_loss: 0.4626\n",
      "Epoch 5/15\n",
      "\u001b[1m234/235\u001b[0m \u001b[32m━━━━━━━━━━━━━━━━━━━\u001b[0m\u001b[37m━\u001b[0m \u001b[1m0s\u001b[0m 158ms/step - acc: 0.8202 - loss: 0.4062\n",
      "Epoch 5: val_acc did not improve from 0.78717\n",
      "\u001b[1m235/235\u001b[0m \u001b[32m━━━━━━━━━━━━━━━━━━━━\u001b[0m\u001b[37m\u001b[0m \u001b[1m41s\u001b[0m 173ms/step - acc: 0.8202 - loss: 0.4062 - val_acc: 0.7861 - val_loss: 0.4742\n",
      "Epoch 6/15\n",
      "\u001b[1m234/235\u001b[0m \u001b[32m━━━━━━━━━━━━━━━━━━━\u001b[0m\u001b[37m━\u001b[0m \u001b[1m0s\u001b[0m 166ms/step - acc: 0.8304 - loss: 0.3922\n",
      "Epoch 6: val_acc did not improve from 0.78717\n",
      "\u001b[1m235/235\u001b[0m \u001b[32m━━━━━━━━━━━━━━━━━━━━\u001b[0m\u001b[37m\u001b[0m \u001b[1m43s\u001b[0m 182ms/step - acc: 0.8304 - loss: 0.3922 - val_acc: 0.7834 - val_loss: 0.4573\n",
      "Epoch 7/15\n",
      "\u001b[1m234/235\u001b[0m \u001b[32m━━━━━━━━━━━━━━━━━━━\u001b[0m\u001b[37m━\u001b[0m \u001b[1m0s\u001b[0m 184ms/step - acc: 0.8370 - loss: 0.3786\n",
      "Epoch 7: val_acc did not improve from 0.78717\n",
      "\u001b[1m235/235\u001b[0m \u001b[32m━━━━━━━━━━━━━━━━━━━━\u001b[0m\u001b[37m\u001b[0m \u001b[1m47s\u001b[0m 199ms/step - acc: 0.8370 - loss: 0.3786 - val_acc: 0.7826 - val_loss: 0.4866\n",
      "Epoch 8/15\n",
      "\u001b[1m235/235\u001b[0m \u001b[32m━━━━━━━━━━━━━━━━━━━━\u001b[0m\u001b[37m\u001b[0m \u001b[1m0s\u001b[0m 178ms/step - acc: 0.8482 - loss: 0.3595\n",
      "Epoch 8: val_acc did not improve from 0.78717\n",
      "\u001b[1m235/235\u001b[0m \u001b[32m━━━━━━━━━━━━━━━━━━━━\u001b[0m\u001b[37m\u001b[0m \u001b[1m46s\u001b[0m 197ms/step - acc: 0.8482 - loss: 0.3595 - val_acc: 0.7750 - val_loss: 0.4890\n",
      "Epoch 9/15\n",
      "\u001b[1m234/235\u001b[0m \u001b[32m━━━━━━━━━━━━━━━━━━━\u001b[0m\u001b[37m━\u001b[0m \u001b[1m0s\u001b[0m 161ms/step - acc: 0.8581 - loss: 0.3408\n",
      "Epoch 9: val_acc did not improve from 0.78717\n",
      "\u001b[1m235/235\u001b[0m \u001b[32m━━━━━━━━━━━━━━━━━━━━\u001b[0m\u001b[37m\u001b[0m \u001b[1m41s\u001b[0m 176ms/step - acc: 0.8581 - loss: 0.3409 - val_acc: 0.7820 - val_loss: 0.4878\n",
      "Epoch 10/15\n",
      "\u001b[1m234/235\u001b[0m \u001b[32m━━━━━━━━━━━━━━━━━━━\u001b[0m\u001b[37m━\u001b[0m \u001b[1m0s\u001b[0m 159ms/step - acc: 0.8651 - loss: 0.3259\n",
      "Epoch 10: val_acc did not improve from 0.78717\n",
      "\u001b[1m235/235\u001b[0m \u001b[32m━━━━━━━━━━━━━━━━━━━━\u001b[0m\u001b[37m\u001b[0m \u001b[1m41s\u001b[0m 175ms/step - acc: 0.8651 - loss: 0.3259 - val_acc: 0.7669 - val_loss: 0.5062\n",
      "Epoch 10: early stopping\n"
     ]
    }
   ],
   "source": [
    "import re\n",
    "from tensorflow.keras.layers import Embedding, Dense, LSTM, Bidirectional\n",
    "from tensorflow.keras.models import Sequential\n",
    "from tensorflow.keras.models import load_model\n",
    "from tensorflow.keras.callbacks import EarlyStopping, ModelCheckpoint\n",
    "\n",
    "embedding_dim = 100\n",
    "hidden_units = 128\n",
    "\n",
    "model = Sequential()\n",
    "model.add(Embedding(vocab_size, embedding_dim))\n",
    "model.add(Bidirectional(LSTM(hidden_units))) # Bidirectional LSTM을 사용\n",
    "model.add(Dense(1, activation='sigmoid'))\n",
    "\n",
    "es = EarlyStopping(monitor='val_loss', mode='min', verbose=1, patience=4)\n",
    "mc = ModelCheckpoint('best_model.h5', monitor='val_acc', mode='max', verbose=1, save_best_only=True)\n",
    "\n",
    "model.compile(optimizer='rmsprop', loss='binary_crossentropy', metrics=['acc'])\n",
    "history = model.fit(X_train, y_train, epochs=15, callbacks=[es, mc], batch_size=256, validation_split=0.2)\n"
   ]
  },
  {
   "cell_type": "code",
   "execution_count": 50,
   "id": "93df7eda",
   "metadata": {},
   "outputs": [
    {
     "name": "stderr",
     "output_type": "stream",
     "text": [
      "WARNING:absl:Compiled the loaded model, but the compiled metrics have yet to be built. `model.compile_metrics` will be empty until you train or evaluate the model.\n"
     ]
    },
    {
     "name": "stdout",
     "output_type": "stream",
     "text": [
      "\u001b[1m779/779\u001b[0m \u001b[32m━━━━━━━━━━━━━━━━━━━━\u001b[0m\u001b[37m\u001b[0m \u001b[1m11s\u001b[0m 14ms/step - acc: 0.7761 - loss: 0.4782\n",
      "테스트 정확도: 0.7767\n"
     ]
    }
   ],
   "source": [
    "loaded_model = load_model('best_model.h5')\n",
    "print(\"테스트 정확도: %.4f\" % (loaded_model.evaluate(X_test, y_test)[1]))"
   ]
  },
  {
   "cell_type": "code",
   "execution_count": 51,
   "id": "6d4405de",
   "metadata": {},
   "outputs": [],
   "source": [
    "def sentiment_predict(new_sentence):\n",
    "  new_sentence = re.sub(r'[^ㄱ-ㅎㅏ-ㅣ가-힣 ]','', new_sentence)\n",
    "  new_sentence = kiwi_tokenize(new_sentence) # 토큰화\n",
    "  new_sentence = [word for word in new_sentence if not word in stopwords] # 불용어 제거\n",
    "  encoded = tokenizer.texts_to_sequences([new_sentence]) # 정수 인코딩\n",
    "  pad_new = pad_sequences(encoded, maxlen = max_len) # 패딩\n",
    "  score = float(loaded_model.predict(pad_new)) # 예측\n",
    "  if(score > 0.5):\n",
    "    print(\"{:.2f}% 확률로 긍정 리뷰입니다.\".format(score * 100))\n",
    "  else:\n",
    "    print(\"{:.2f}% 확률로 부정 리뷰입니다.\".format((1 - score) * 100))\n"
   ]
  },
  {
   "cell_type": "code",
   "execution_count": 52,
   "id": "02e2ed81",
   "metadata": {},
   "outputs": [
    {
     "name": "stdout",
     "output_type": "stream",
     "text": [
      "\u001b[1m1/1\u001b[0m \u001b[32m━━━━━━━━━━━━━━━━━━━━\u001b[0m\u001b[37m\u001b[0m \u001b[1m0s\u001b[0m 271ms/step\n",
      "77.23% 확률로 부정 리뷰입니다.\n"
     ]
    },
    {
     "name": "stderr",
     "output_type": "stream",
     "text": [
      "C:\\Users\\정주환\\AppData\\Local\\Temp\\ipykernel_12920\\840317953.py:7: DeprecationWarning:\n",
      "\n",
      "Conversion of an array with ndim > 0 to a scalar is deprecated, and will error in future. Ensure you extract a single element from your array before performing this operation. (Deprecated NumPy 1.25.)\n",
      "\n"
     ]
    }
   ],
   "source": [
    "sentiment_predict('노잼 ..완전 재미 없음 ㅉㅉ')\n"
   ]
  },
  {
   "cell_type": "code",
   "execution_count": 53,
   "id": "90fc499f",
   "metadata": {},
   "outputs": [
    {
     "name": "stdout",
     "output_type": "stream",
     "text": [
      "\u001b[1m1/1\u001b[0m \u001b[32m━━━━━━━━━━━━━━━━━━━━\u001b[0m\u001b[37m\u001b[0m \u001b[1m0s\u001b[0m 39ms/step\n",
      "98.19% 확률로 긍정 리뷰입니다.\n"
     ]
    },
    {
     "name": "stderr",
     "output_type": "stream",
     "text": [
      "C:\\Users\\정주환\\AppData\\Local\\Temp\\ipykernel_12920\\840317953.py:7: DeprecationWarning:\n",
      "\n",
      "Conversion of an array with ndim > 0 to a scalar is deprecated, and will error in future. Ensure you extract a single element from your array before performing this operation. (Deprecated NumPy 1.25.)\n",
      "\n"
     ]
    }
   ],
   "source": [
    "sentiment_predict('조금 어렵지만 재밌음ㅋㅋ')\n"
   ]
  },
  {
   "cell_type": "code",
   "execution_count": 54,
   "id": "96c6c91d",
   "metadata": {},
   "outputs": [
    {
     "name": "stdout",
     "output_type": "stream",
     "text": [
      "\u001b[1m1/1\u001b[0m \u001b[32m━━━━━━━━━━━━━━━━━━━━\u001b[0m\u001b[37m\u001b[0m \u001b[1m0s\u001b[0m 37ms/step\n",
      "90.64% 확률로 긍정 리뷰입니다.\n"
     ]
    },
    {
     "name": "stderr",
     "output_type": "stream",
     "text": [
      "C:\\Users\\정주환\\AppData\\Local\\Temp\\ipykernel_12920\\840317953.py:7: DeprecationWarning:\n",
      "\n",
      "Conversion of an array with ndim > 0 to a scalar is deprecated, and will error in future. Ensure you extract a single element from your array before performing this operation. (Deprecated NumPy 1.25.)\n",
      "\n"
     ]
    }
   ],
   "source": [
    "sentiment_predict('케릭터가 예뻐서 좋아요')\n"
   ]
  },
  {
   "cell_type": "code",
   "execution_count": null,
   "id": "2c0a136f",
   "metadata": {},
   "outputs": [],
   "source": []
  }
 ],
 "metadata": {
  "kernelspec": {
   "display_name": "nlp",
   "language": "python",
   "name": "python3"
  },
  "language_info": {
   "codemirror_mode": {
    "name": "ipython",
    "version": 3
   },
   "file_extension": ".py",
   "mimetype": "text/x-python",
   "name": "python",
   "nbconvert_exporter": "python",
   "pygments_lexer": "ipython3",
   "version": "3.11.13"
  }
 },
 "nbformat": 4,
 "nbformat_minor": 5
}
