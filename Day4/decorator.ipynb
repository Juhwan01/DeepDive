{
 "cells": [
  {
   "cell_type": "markdown",
   "metadata": {},
   "source": [
    "# 🎀 파이썬 데코레이터: 함수 확장의 우아한 방법\n",
    "\n",
    "파이썬의 멋진 기능 중 하나인 **데코레이터(Decorator)** 를 소개합니다! 이 노트북에서는 데코레이터의 개념, 작성 방법, 그리고 실용적인 예제들을 살펴보며 코드를 더 우아하게 만드는 방법을 알아봅니다."
   ]
  },
  {
   "cell_type": "markdown",
   "metadata": {},
   "source": [
    "## 🔮 데코레이터란 무엇인가요?\n",
    "\n",
    "데코레이터는 이름 그대로 함수나 클래스를 \"장식(decorate)\"하는 기능입니다. 기존 코드를 수정하지 않고도 함수의 기능을 확장할 수 있게 해주는 파이썬의 문법이죠.\n",
    "\n",
    "> 데코레이터를 커피에 추가하는 시럽이나 토핑이라고 생각해보세요. 커피(함수)의 본질은 그대로 유지하면서 새로운 맛(기능)을 더할 수 있습니다!"
   ]
  },
  {
   "cell_type": "markdown",
   "metadata": {},
   "source": [
    "## 💫 데코레이터 기본 문법\n",
    "\n",
    "데코레이터의 기본 문법은 간단합니다:\n",
    "\n",
    "```python\n",
    "@데코레이터_이름\n",
    "def 함수_이름():\n",
    "    # 함수 코드\n",
    "```\n",
    "\n",
    "이 문법은 다음 코드와 동일합니다:\n",
    "\n",
    "```python\n",
    "def 함수_이름():\n",
    "    # 함수 코드\n",
    "\n",
    "함수_이름 = 데코레이터_이름(함수_이름)\n",
    "```"
   ]
  },
  {
   "cell_type": "markdown",
   "metadata": {},
   "source": [
    "## 🌱 첫 번째 데코레이터 만들기\n",
    "\n",
    "간단한 예제로 데코레이터의 작동 방식을 이해해봅시다:"
   ]
  },
  {
   "cell_type": "code",
   "execution_count": 1,
   "metadata": {},
   "outputs": [
    {
     "name": "stdout",
     "output_type": "stream",
     "text": [
      "⭐ 안녕하세요! ⭐\n",
      "제 이름은 파이썬입니다.\n",
      "⭐ 반갑습니다! ⭐\n"
     ]
    }
   ],
   "source": [
    "def 안녕_데코레이터(func):\n",
    "    def wrapper():\n",
    "        print(\"⭐ 안녕하세요! ⭐\")\n",
    "        func()\n",
    "        print(\"⭐ 반갑습니다! ⭐\")\n",
    "    return wrapper\n",
    "\n",
    "@안녕_데코레이터\n",
    "def 내_이름():\n",
    "    print(\"제 이름은 파이썬입니다.\")\n",
    "\n",
    "# 함수 호출\n",
    "내_이름()"
   ]
  },
  {
   "cell_type": "markdown",
   "metadata": {},
   "source": [
    "무슨 일이 일어난 걸까요? `@안녕_데코레이터`를 사용함으로써 `내_이름()` 함수가 호출될 때 자동으로 인사말이 앞뒤로 출력되었습니다! \n",
    "\n",
    "이것이 데코레이터의 핵심 개념입니다. 원래 함수는 그대로 두고, 추가 기능을 덧붙일 수 있는 것이죠."
   ]
  },
  {
   "cell_type": "markdown",
   "metadata": {},
   "source": [
    "## 🎯 인자가 있는 함수에 데코레이터 사용하기\n",
    "\n",
    "실제로는 대부분의 함수가 인자를 받습니다. 이런 함수에도 데코레이터를 적용할 수 있을까요?"
   ]
  },
  {
   "cell_type": "code",
   "execution_count": 2,
   "metadata": {},
   "outputs": [
    {
     "name": "stdout",
     "output_type": "stream",
     "text": [
      "******************************\n",
      "5 + 3 = 8\n",
      "******************************\n",
      "반환값: 8\n"
     ]
    }
   ],
   "source": [
    "def 별_테두리(func):\n",
    "    def wrapper(*args, **kwargs):\n",
    "        print(\"*\" * 30)\n",
    "        result = func(*args, **kwargs)\n",
    "        print(\"*\" * 30)\n",
    "        return result\n",
    "    return wrapper\n",
    "\n",
    "@별_테두리\n",
    "def 합계(a, b):\n",
    "    result = a + b\n",
    "    print(f\"{a} + {b} = {result}\")\n",
    "    return result\n",
    "\n",
    "# 함수 호출\n",
    "결과 = 합계(5, 3)\n",
    "print(f\"반환값: {결과}\")"
   ]
  },
  {
   "cell_type": "markdown",
   "metadata": {},
   "source": [
    "> 💡 **Tip**: `*args`와 `**kwargs`는 파이썬에서 가변 개수의 인자를 처리하는 방법입니다. `*args`는 위치 인자를, `**kwargs`는 키워드 인자를 받습니다."
   ]
  },
  {
   "cell_type": "markdown",
   "metadata": {},
   "source": [
    "## ⏱️ 실용적인 데코레이터 예제\n",
    "\n",
    "이제 실제로 유용하게 사용할 수 있는 데코레이터 몇 가지를 살펴보겠습니다.\n",
    "\n",
    "### 1. 실행 시간 측정 데코레이터"
   ]
  },
  {
   "cell_type": "code",
   "execution_count": 3,
   "metadata": {},
   "outputs": [
    {
     "name": "stdout",
     "output_type": "stream",
     "text": [
      "계산 시작...\n",
      "계산 완료!\n",
      "⏱️ 복잡한_계산 함수 실행 시간: 1.5014기초\n",
      "함수 이름: 복잡한_계산\n",
      "함수 설명: 이 함수는 오래 걸리는 계산을 시뮬레이션합니다.\n"
     ]
    }
   ],
   "source": [
    "import time\n",
    "import functools\n",
    "\n",
    "def 시간_측정(func):\n",
    "    @functools.wraps(func)  # 함수의 메타데이터 보존\n",
    "    def wrapper(*args, **kwargs):\n",
    "        시작 = time.time()\n",
    "        result = func(*args, **kwargs)\n",
    "        종료 = time.time()\n",
    "        print(f\"⏱️ {func.__name__} 함수 실행 시간: {종료 - 시작:.4f}기초\")\n",
    "        return result\n",
    "    return wrapper\n",
    "\n",
    "@시간_측정\n",
    "def 복잡한_계산():\n",
    "    \"\"\"이 함수는 오래 걸리는 계산을 시뮬레이션합니다.\"\"\"\n",
    "    print(\"계산 시작...\")\n",
    "    time.sleep(1.5)  # 1.5초 대기\n",
    "    print(\"계산 완료!\")\n",
    "    return \"계산 결과\"\n",
    "\n",
    "# 함수 호출\n",
    "결과 = 복잡한_계산()\n",
    "print(f\"함수 이름: {복잡한_계산.__name__}\")\n",
    "print(f\"함수 설명: {복잡한_계산.__doc__}\")"
   ]
  },
  {
   "cell_type": "markdown",
   "metadata": {},
   "source": [
    "> 💡 **참고**: `functools.wraps`는 데코레이터가 원래 함수의 이름, 문서 문자열 등의 메타데이터를 유지하도록 도와줍니다."
   ]
  },
  {
   "cell_type": "markdown",
   "metadata": {},
   "source": [
    "### 2. 로깅 데코레이터"
   ]
  },
  {
   "cell_type": "code",
   "execution_count": 4,
   "metadata": {},
   "outputs": [
    {
     "name": "stdout",
     "output_type": "stream",
     "text": [
      "📝 함수 호출: 사용자_정보('김파이썬', 25, 직업='개발자')\n",
      "📝 함수 결과: '김파이썬님은 25세이고 개발자입니다.'\n"
     ]
    },
    {
     "data": {
      "text/plain": [
       "'김파이썬님은 25세이고 개발자입니다.'"
      ]
     },
     "execution_count": 4,
     "metadata": {},
     "output_type": "execute_result"
    }
   ],
   "source": [
    "def 로깅(func):\n",
    "    @functools.wraps(func)\n",
    "    def wrapper(*args, **kwargs):\n",
    "        args_str = ', '.join(repr(arg) for arg in args)\n",
    "        kwargs_str = ', '.join(f\"{k}={v!r}\" for k, v in kwargs.items())\n",
    "        print(f\"📝 함수 호출: {func.__name__}({args_str}, {kwargs_str})\")\n",
    "        \n",
    "        result = func(*args, **kwargs)\n",
    "        \n",
    "        print(f\"📝 함수 결과: {result!r}\")\n",
    "        return result\n",
    "    return wrapper\n",
    "\n",
    "@로깅\n",
    "def 사용자_정보(이름, 나이, 직업=\"학생\"):\n",
    "    return f\"{이름}님은 {나이}세이고 {직업}입니다.\"\n",
    "\n",
    "# 함수 호출\n",
    "사용자_정보(\"김파이썬\", 25, 직업=\"개발자\")"
   ]
  },
  {
   "cell_type": "markdown",
   "metadata": {},
   "source": [
    "## 🔄 데코레이터에 인자 전달하기\n",
    "\n",
    "데코레이터 자체에 인자를 전달해야 할 때도 있습니다. 어떻게 할까요?"
   ]
  },
  {
   "cell_type": "code",
   "execution_count": 5,
   "metadata": {},
   "outputs": [
    {
     "name": "stdout",
     "output_type": "stream",
     "text": [
      "🔄 반복 1/3\n",
      "🔄 반복 2/3\n",
      "🔄 반복 3/3\n",
      "최종 결과: 안녕하세요, 김코딩님!\n"
     ]
    }
   ],
   "source": [
    "def 반복(횟수):\n",
    "    def 실제_데코레이터(func):\n",
    "        @functools.wraps(func)\n",
    "        def wrapper(*args, **kwargs):\n",
    "            결과 = None\n",
    "            for i in range(횟수):\n",
    "                print(f\"🔄 반복 {i+1}/{횟수}\")\n",
    "                결과 = func(*args, **kwargs)\n",
    "            return 결과\n",
    "        return wrapper\n",
    "    return 실제_데코레이터\n",
    "\n",
    "@반복(3)\n",
    "def 인사(이름):\n",
    "    return f\"안녕하세요, {이름}님!\"\n",
    "\n",
    "# 함수 호출\n",
    "메시지 = 인사(\"김코딩\")\n",
    "print(f\"최종 결과: {메시지}\")"
   ]
  },
  {
   "cell_type": "markdown",
   "metadata": {},
   "source": [
    "이 패턴은 3단계로 구성됩니다:\n",
    "1. 가장 바깥 함수(`반복`)는 데코레이터의 인자를 받습니다.\n",
    "2. 중간 함수(`실제_데코레이터`)는 실제 데코레이터로, 함수를 인자로 받습니다.\n",
    "3. 가장 안쪽 함수(`wrapper`)는 장식된 함수의 동작을 정의합니다."
   ]
  },
  {
   "cell_type": "markdown",
   "metadata": {},
   "source": [
    "### 3. 입력 검증 데코레이터\n",
    "\n",
    "함수의 인자를 자동으로 검증하는 데코레이터를 만들어보겠습니다:"
   ]
  },
  {
   "cell_type": "code",
   "execution_count": 6,
   "metadata": {},
   "outputs": [
    {
     "name": "stdout",
     "output_type": "stream",
     "text": [
      "✅ 넓이(5, 3): 15\n",
      "❌ 모든 인자는 양수여야 합니다!\n"
     ]
    }
   ],
   "source": [
    "def 양수만(func):\n",
    "    @functools.wraps(func)\n",
    "    def wrapper(*args, **kwargs):\n",
    "        # 모든 위치 인자가 양수인지 확인\n",
    "        if any(arg <= 0 for arg in args if isinstance(arg, (int, float))):\n",
    "            raise ValueError(\"❌ 모든 인자는 양수여야 합니다!\")\n",
    "        return func(*args, **kwargs)\n",
    "    return wrapper\n",
    "\n",
    "@양수만\n",
    "def 사각형_넓이(가로, 세로):\n",
    "    \"\"\"사각형의 넓이를 계산합니다.\"\"\"\n",
    "    return 가로 * 세로\n",
    "\n",
    "# 함수 호출 테스트\n",
    "try:\n",
    "    print(f\"✅ 넓이(5, 3): {사각형_넓이(5, 3)}\")\n",
    "    print(f\"넓이(-1, 3): {사각형_넓이(-1, 3)}\")\n",
    "except ValueError as e:\n",
    "    print(e)"
   ]
  },
  {
   "cell_type": "markdown",
   "metadata": {},
   "source": [
    "### 4. 클래스 메소드에 데코레이터 적용하기\n",
    "\n",
    "데코레이터는 클래스의 메소드에도 적용할 수 있습니다:"
   ]
  },
  {
   "cell_type": "code",
   "execution_count": 7,
   "metadata": {},
   "outputs": [
    {
     "name": "stdout",
     "output_type": "stream",
     "text": [
      "📝 함수 호출: 자기소개(<__main__.사용자 object at 0x7fbd0a2ab550>, )\n",
      "📝 함수 결과: '안녕하세요! 저는 박파이썬이고, 30살입니다.'\n"
     ]
    },
    {
     "data": {
      "text/plain": [
       "'안녕하세요! 저는 박파이썬이고, 30살입니다.'"
      ]
     },
     "execution_count": 7,
     "metadata": {},
     "output_type": "execute_result"
    }
   ],
   "source": [
    "class 사용자:\n",
    "    def __init__(self, 이름, 나이):\n",
    "        self.이름 = 이름\n",
    "        self.나이 = 나이\n",
    "    \n",
    "    @로깅  # 위에서 정의한 로깅 데코레이터 사용\n",
    "    def 자기소개(self):\n",
    "        return f\"안녕하세요! 저는 {self.이름}이고, {self.나이}살입니다.\"\n",
    "\n",
    "# 객체 생성 및 메소드 호출\n",
    "user = 사용자(\"박파이썬\", 30)\n",
    "user.자기소개()"
   ]
  },
  {
   "cell_type": "markdown",
   "metadata": {},
   "source": [
    "## 🔄 여러 데코레이터 함께 사용하기 (체이닝)\n",
    "\n",
    "여러 데코레이터를 하나의 함수에 적용할 수도 있습니다:"
   ]
  },
  {
   "cell_type": "code",
   "execution_count": 8,
   "metadata": {},
   "outputs": [
    {
     "name": "stdout",
     "output_type": "stream",
     "text": [
      "📝 함수 호출: 복잡한_작업(6, 7, )\n",
      "📝 함수 결과: 42\n",
      "⏱️ wrapper 함수 실행 시간: 0.5015기초\n"
     ]
    },
    {
     "data": {
      "text/plain": [
       "42"
      ]
     },
     "execution_count": 8,
     "metadata": {},
     "output_type": "execute_result"
    }
   ],
   "source": [
    "@시간_측정\n",
    "@로깅\n",
    "def 복잡한_작업(x, y):\n",
    "    time.sleep(0.5)  # 0.5초 대기\n",
    "    return x * y\n",
    "\n",
    "# 함수 호출\n",
    "결과 = 복잡한_작업(6, 7)\n",
    "결과"
   ]
  },
  {
   "cell_type": "markdown",
   "metadata": {},
   "source": [
    "> ⚠️ **주의**: 데코레이터는 아래에서 위로 적용됩니다. 위 예제에서는 `로깅` 데코레이터가 먼저 적용되고, 그 다음 `시간_측정` 데코레이터가 적용됩니다."
   ]
  },
  {
   "cell_type": "markdown",
   "metadata": {},
   "source": [
    "## 💼 실제 프로젝트에서의 데코레이터 활용\n",
    "\n",
    "### 파이썬 내장 데코레이터\n",
    "\n",
    "파이썬에는 몇 가지 유용한 내장 데코레이터가 있습니다:\n",
    "\n",
    "- `@property`: 메서드를 속성처럼 접근할 수 있게 해줍니다.\n",
    "- `@classmethod`: 클래스 메서드를 정의합니다.\n",
    "- `@staticmethod`: 정적 메서드를 정의합니다."
   ]
  },
  {
   "cell_type": "code",
   "execution_count": 9,
   "metadata": {},
   "outputs": [
    {
     "name": "stdout",
     "output_type": "stream",
     "text": [
      "홍 길동\n",
      "김\n",
      "철수\n"
     ]
    }
   ],
   "source": [
    "class Person:\n",
    "    def __init__(self, first_name, last_name):\n",
    "        self.first_name = first_name\n",
    "        self.last_name = last_name\n",
    "    \n",
    "    @property\n",
    "    def full_name(self):\n",
    "        return f\"{self.first_name} {self.last_name}\"\n",
    "    \n",
    "    @full_name.setter\n",
    "    def full_name(self, name):\n",
    "        first, last = name.split()\n",
    "        self.first_name = first\n",
    "        self.last_name = last\n",
    "\n",
    "person = Person(\"홍\", \"길동\")\n",
    "print(person.full_name)  # 메서드지만 속성처럼 접근\n",
    "\n",
    "# setter를 통한 할당\n",
    "person.full_name = \"김 철수\"\n",
    "print(person.first_name)\n",
    "print(person.last_name)"
   ]
  },
  {
   "cell_type": "markdown",
   "metadata": {},
   "source": [
    "### 웹 프레임워크에서의 활용\n",
    "\n",
    "Flask와 같은 웹 프레임워크에서는 데코레이터가 라우팅에 사용됩니다:\n",
    "\n",
    "```python\n",
    "from flask import Flask\n",
    "\n",
    "app = Flask(__name__)\n",
    "\n",
    "@app.route('/')\n",
    "def home():\n",
    "    return '홈페이지입니다!'\n",
    "\n",
    "@app.route('/about')\n",
    "def about():\n",
    "    return '소개 페이지입니다!'\n",
    "```"
   ]
  },
  {
   "cell_type": "markdown",
   "metadata": {},
   "source": [
    "## 🌟 정리\n",
    "\n",
    "데코레이터는 파이썬의 매력적인 기능 중 하나로, 코드를 더 깔끔하고 재사용 가능하게 만들어줍니다. 이 노트북에서 살펴본 것처럼 다양한 상황에서 유용하게 활용될 수 있습니다:\n",
    "\n",
    "- 함수 실행 시간 측정\n",
    "- 로깅 추가\n",
    "- 입력값 검증\n",
    "- 권한 확인\n",
    "- 캐싱 및 메모이제이션\n",
    "\n"
   ]
  },
  {
   "cell_type": "code",
   "execution_count": null,
   "metadata": {},
   "outputs": [],
   "source": []
  }
 ],
 "metadata": {
  "kernelspec": {
   "display_name": "Python 3",
   "language": "python",
   "name": "python3"
  },
  "language_info": {
   "codemirror_mode": {
    "name": "ipython",
    "version": 3
   },
   "file_extension": ".py",
   "mimetype": "text/x-python",
   "name": "python",
   "nbconvert_exporter": "python",
   "pygments_lexer": "ipython3",
   "version": "3.8.8"
  }
 },
 "nbformat": 4,
 "nbformat_minor": 4
}
