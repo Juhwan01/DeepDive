{
 "cells": [
  {
   "cell_type": "markdown",
   "metadata": {},
   "source": [
    "# 파이썬의 로깅, 동시성 프로그래밍과 정규표현식"
   ]
  },
  {
   "cell_type": "markdown",
   "metadata": {},
   "source": [
    "## 로깅: 효과적인 디버깅과 모니터링"
   ]
  },
  {
   "cell_type": "code",
   "execution_count": 9,
   "metadata": {},
   "outputs": [],
   "source": [
    "import logging\n",
    "\n",
    "# 기본 로그 설정\n",
    "logging.basicConfig(level=logging.INFO, format='%(asctime)s - %(levelname)s - %(message)s')\n",
    "\n",
    "# 다양한 로그 레벨 사용하기\n",
    "logging.debug(\"디버그 메시지\")\n",
    "logging.info(\"정보 메시지\")\n",
    "logging.warning(\"경고 메시지\")\n",
    "logging.error(\"에러 메시지\")\n",
    "logging.critical(\"치명적 메시지\")"
   ]
  },
  {
   "cell_type": "markdown",
   "metadata": {},
   "source": [
    "### 파일에 로깅하기"
   ]
  },
  {
   "cell_type": "code",
   "execution_count": 10,
   "metadata": {},
   "outputs": [],
   "source": [
    "import logging\n",
    "\n",
    "# 파일에 로그 기록 설정\n",
    "logging.basicConfig(\n",
    "    filename='application.log',\n",
    "    level=logging.DEBUG,\n",
    "    format='%(asctime)s - %(name)s - %(levelname)s - %(message)s'\n",
    ")\n",
    "\n",
    "logging.debug(\"이 메시지는 파일에 기록됩니다\")\n",
    "logging.info(\"프로그램 시작\")\n",
    "\n",
    "try:\n",
    "    result = 10 / 0\n",
    "except Exception as e:\n",
    "    logging.error(f\"오류 발생: {e}\", exc_info=True)"
   ]
  },
  {
   "cell_type": "markdown",
   "metadata": {},
   "source": [
    "## 쓰레드: 가벼운 동시성"
   ]
  },
  {
   "cell_type": "code",
   "execution_count": 11,
   "metadata": {},
   "outputs": [
    {
     "name": "stdout",
     "output_type": "stream",
     "text": [
      "숫자 쓰레드: 1\n",
      "문자 쓰레드: a\n",
      "메인 쓰레드: 0\n",
      "숫자 쓰레드: 2\n",
      "문자 쓰레드: b\n",
      "숫자 쓰레드: 3\n",
      "메인 쓰레드: 1\n",
      "숫자 쓰레드: 4\n",
      "문자 쓰레드: c\n",
      "숫자 쓰레드: 5\n",
      "메인 쓰레드: 2문자 쓰레드: d\n",
      "\n",
      "문자 쓰레드: e\n",
      "모든 쓰레드 실행 완료!\n"
     ]
    }
   ],
   "source": [
    "import threading\n",
    "import time\n",
    "\n",
    "def print_numbers():\n",
    "    for i in range(1, 6):\n",
    "        time.sleep(1)\n",
    "        print(f\"숫자 쓰레드: {i}\")\n",
    "\n",
    "def print_letters():\n",
    "    for letter in 'abcde':\n",
    "        time.sleep(1.5)\n",
    "        print(f\"문자 쓰레드: {letter}\")\n",
    "\n",
    "# 쓰레드 생성\n",
    "thread1 = threading.Thread(target=print_numbers)\n",
    "thread2 = threading.Thread(target=print_letters)\n",
    "\n",
    "# 쓰레드 시작\n",
    "thread1.start()\n",
    "thread2.start()\n",
    "\n",
    "# 메인 쓰레드에서 다른 작업 수행\n",
    "for i in range(3):\n",
    "    time.sleep(2)\n",
    "    print(f\"메인 쓰레드: {i}\")\n",
    "\n",
    "# 모든 쓰레드가 완료될 때까지 기다림\n",
    "thread1.join()\n",
    "thread2.join()\n",
    "\n",
    "print(\"모든 쓰레드 실행 완료!\")"
   ]
  },
  {
   "cell_type": "markdown",
   "metadata": {},
   "source": [
    "### 데몬 쓰레드"
   ]
  },
  {
   "cell_type": "code",
   "execution_count": null,
   "metadata": {},
   "outputs": [
    {
     "name": "stdout",
     "output_type": "stream",
     "text": [
      "백그라운드 작업 실행 중...\n",
      "백그라운드 작업 실행 중...\n",
      "메인 프로그램 종료!\n"
     ]
    },
    {
     "name": "stdout",
     "output_type": "stream",
     "text": [
      "백그라운드 작업 실행 중...\n",
      "백그라운드 작업 실행 중...\n",
      "백그라운드 작업 실행 중...\n",
      "백그라운드 작업 실행 중...\n",
      "백그라운드 작업 실행 중...\n",
      "백그라운드 작업 실행 중...\n",
      "백그라운드 작업 실행 중...\n",
      "백그라운드 작업 실행 중...\n",
      "백그라운드 작업 실행 중...\n",
      "백그라운드 작업 실행 중...\n",
      "백그라운드 작업 실행 중...\n",
      "백그라운드 작업 실행 중...\n",
      "백그라운드 작업 실행 중...\n",
      "백그라운드 작업 실행 중...\n",
      "백그라운드 작업 실행 중...\n",
      "백그라운드 작업 실행 중...\n",
      "백그라운드 작업 실행 중...\n",
      "백그라운드 작업 실행 중...\n",
      "백그라운드 작업 실행 중...\n",
      "백그라운드 작업 실행 중...\n",
      "백그라운드 작업 실행 중...\n",
      "백그라운드 작업 실행 중...\n",
      "백그라운드 작업 실행 중...\n",
      "백그라운드 작업 실행 중...\n",
      "백그라운드 작업 실행 중...\n",
      "백그라운드 작업 실행 중...\n",
      "백그라운드 작업 실행 중...\n",
      "백그라운드 작업 실행 중...\n",
      "백그라운드 작업 실행 중...\n",
      "백그라운드 작업 실행 중...\n",
      "백그라운드 작업 실행 중...\n",
      "백그라운드 작업 실행 중...\n",
      "백그라운드 작업 실행 중...\n",
      "백그라운드 작업 실행 중...\n",
      "백그라운드 작업 실행 중...\n",
      "백그라운드 작업 실행 중...\n",
      "백그라운드 작업 실행 중...\n",
      "백그라운드 작업 실행 중...\n",
      "백그라운드 작업 실행 중...\n",
      "백그라운드 작업 실행 중...\n",
      "백그라운드 작업 실행 중...\n",
      "백그라운드 작업 실행 중...\n",
      "백그라운드 작업 실행 중...\n",
      "백그라운드 작업 실행 중...\n",
      "백그라운드 작업 실행 중...\n",
      "백그라운드 작업 실행 중...\n",
      "백그라운드 작업 실행 중...\n",
      "백그라운드 작업 실행 중...\n",
      "백그라운드 작업 실행 중...\n",
      "백그라운드 작업 실행 중...\n",
      "백그라운드 작업 실행 중...\n",
      "백그라운드 작업 실행 중...\n",
      "백그라운드 작업 실행 중...\n",
      "백그라운드 작업 실행 중...\n",
      "백그라운드 작업 실행 중...\n",
      "백그라운드 작업 실행 중...\n",
      "백그라운드 작업 실행 중...\n",
      "백그라운드 작업 실행 중...\n",
      "백그라운드 작업 실행 중...\n",
      "백그라운드 작업 실행 중...\n",
      "백그라운드 작업 실행 중...\n",
      "백그라운드 작업 실행 중...\n",
      "백그라운드 작업 실행 중...\n",
      "백그라운드 작업 실행 중...\n",
      "백그라운드 작업 실행 중...\n",
      "백그라운드 작업 실행 중...\n",
      "백그라운드 작업 실행 중...\n",
      "백그라운드 작업 실행 중...\n",
      "백그라운드 작업 실행 중...\n",
      "백그라운드 작업 실행 중...\n",
      "백그라운드 작업 실행 중...\n",
      "백그라운드 작업 실행 중...\n",
      "백그라운드 작업 실행 중...\n",
      "백그라운드 작업 실행 중...\n",
      "백그라운드 작업 실행 중...\n",
      "백그라운드 작업 실행 중...\n",
      "백그라운드 작업 실행 중...\n",
      "백그라운드 작업 실행 중...\n",
      "백그라운드 작업 실행 중...\n",
      "백그라운드 작업 실행 중...\n",
      "백그라운드 작업 실행 중...\n",
      "백그라운드 작업 실행 중...\n",
      "백그라운드 작업 실행 중...\n",
      "백그라운드 작업 실행 중...\n",
      "백그라운드 작업 실행 중...\n",
      "백그라운드 작업 실행 중...\n",
      "백그라운드 작업 실행 중...\n",
      "백그라운드 작업 실행 중...\n",
      "백그라운드 작업 실행 중...\n",
      "백그라운드 작업 실행 중...\n",
      "백그라운드 작업 실행 중...\n",
      "백그라운드 작업 실행 중...\n",
      "백그라운드 작업 실행 중...\n",
      "백그라운드 작업 실행 중...\n",
      "백그라운드 작업 실행 중...\n",
      "백그라운드 작업 실행 중...\n",
      "백그라운드 작업 실행 중...\n",
      "백그라운드 작업 실행 중...\n",
      "백그라운드 작업 실행 중...\n",
      "백그라운드 작업 실행 중...\n",
      "백그라운드 작업 실행 중...\n",
      "백그라운드 작업 실행 중...\n",
      "백그라운드 작업 실행 중...\n",
      "백그라운드 작업 실행 중...\n",
      "백그라운드 작업 실행 중...\n",
      "백그라운드 작업 실행 중...\n",
      "백그라운드 작업 실행 중...\n",
      "백그라운드 작업 실행 중...\n",
      "백그라운드 작업 실행 중...\n",
      "백그라운드 작업 실행 중...\n",
      "백그라운드 작업 실행 중...\n",
      "백그라운드 작업 실행 중...\n",
      "백그라운드 작업 실행 중...\n",
      "백그라운드 작업 실행 중...\n",
      "백그라운드 작업 실행 중...\n",
      "백그라운드 작업 실행 중...\n",
      "백그라운드 작업 실행 중...\n",
      "백그라운드 작업 실행 중...\n",
      "백그라운드 작업 실행 중...\n",
      "백그라운드 작업 실행 중...\n",
      "백그라운드 작업 실행 중...\n",
      "백그라운드 작업 실행 중...\n",
      "백그라운드 작업 실행 중...\n",
      "백그라운드 작업 실행 중...\n",
      "백그라운드 작업 실행 중...\n",
      "백그라운드 작업 실행 중...\n",
      "백그라운드 작업 실행 중...\n",
      "백그라운드 작업 실행 중...\n",
      "백그라운드 작업 실행 중...\n",
      "백그라운드 작업 실행 중...\n",
      "백그라운드 작업 실행 중...\n",
      "백그라운드 작업 실행 중...\n",
      "백그라운드 작업 실행 중...\n",
      "백그라운드 작업 실행 중...\n",
      "백그라운드 작업 실행 중...\n",
      "백그라운드 작업 실행 중...\n",
      "백그라운드 작업 실행 중...\n",
      "백그라운드 작업 실행 중...\n",
      "백그라운드 작업 실행 중...\n",
      "백그라운드 작업 실행 중...\n",
      "백그라운드 작업 실행 중...\n",
      "백그라운드 작업 실행 중...\n",
      "백그라운드 작업 실행 중...\n",
      "백그라운드 작업 실행 중...\n",
      "백그라운드 작업 실행 중...\n",
      "백그라운드 작업 실행 중...\n",
      "백그라운드 작업 실행 중...\n",
      "백그라운드 작업 실행 중...\n",
      "백그라운드 작업 실행 중...\n",
      "백그라운드 작업 실행 중...\n",
      "백그라운드 작업 실행 중...\n",
      "백그라운드 작업 실행 중...\n",
      "백그라운드 작업 실행 중...\n",
      "백그라운드 작업 실행 중...\n",
      "백그라운드 작업 실행 중...\n",
      "백그라운드 작업 실행 중...\n",
      "백그라운드 작업 실행 중...\n",
      "백그라운드 작업 실행 중...\n",
      "백그라운드 작업 실행 중...\n",
      "백그라운드 작업 실행 중...\n",
      "백그라운드 작업 실행 중...\n",
      "백그라운드 작업 실행 중...\n",
      "백그라운드 작업 실행 중...\n",
      "백그라운드 작업 실행 중...\n",
      "백그라운드 작업 실행 중...\n",
      "백그라운드 작업 실행 중...\n",
      "백그라운드 작업 실행 중...\n",
      "백그라운드 작업 실행 중...\n",
      "백그라운드 작업 실행 중...\n",
      "백그라운드 작업 실행 중...\n",
      "백그라운드 작업 실행 중...\n",
      "백그라운드 작업 실행 중...\n",
      "백그라운드 작업 실행 중...\n",
      "백그라운드 작업 실행 중...\n",
      "백그라운드 작업 실행 중...\n",
      "백그라운드 작업 실행 중...\n",
      "백그라운드 작업 실행 중...\n",
      "백그라운드 작업 실행 중...\n",
      "백그라운드 작업 실행 중...\n",
      "백그라운드 작업 실행 중...\n",
      "백그라운드 작업 실행 중...\n",
      "백그라운드 작업 실행 중...\n",
      "백그라운드 작업 실행 중...\n",
      "백그라운드 작업 실행 중...\n",
      "백그라운드 작업 실행 중...\n",
      "백그라운드 작업 실행 중...\n",
      "백그라운드 작업 실행 중...\n",
      "백그라운드 작업 실행 중...\n",
      "백그라운드 작업 실행 중...\n",
      "백그라운드 작업 실행 중...\n",
      "백그라운드 작업 실행 중...\n",
      "백그라운드 작업 실행 중...\n",
      "백그라운드 작업 실행 중...\n",
      "백그라운드 작업 실행 중...\n",
      "백그라운드 작업 실행 중...\n",
      "백그라운드 작업 실행 중...\n",
      "백그라운드 작업 실행 중...\n",
      "백그라운드 작업 실행 중...\n",
      "백그라운드 작업 실행 중...\n",
      "백그라운드 작업 실행 중...\n",
      "백그라운드 작업 실행 중...\n",
      "백그라운드 작업 실행 중...\n",
      "백그라운드 작업 실행 중...\n",
      "백그라운드 작업 실행 중...\n",
      "백그라운드 작업 실행 중...\n",
      "백그라운드 작업 실행 중...\n",
      "백그라운드 작업 실행 중...\n",
      "백그라운드 작업 실행 중...\n",
      "백그라운드 작업 실행 중...\n",
      "백그라운드 작업 실행 중...\n",
      "백그라운드 작업 실행 중...\n",
      "백그라운드 작업 실행 중...\n",
      "백그라운드 작업 실행 중...\n",
      "백그라운드 작업 실행 중...\n",
      "백그라운드 작업 실행 중...\n",
      "백그라운드 작업 실행 중...\n",
      "백그라운드 작업 실행 중...\n",
      "백그라운드 작업 실행 중...\n",
      "백그라운드 작업 실행 중...\n",
      "백그라운드 작업 실행 중...\n",
      "백그라운드 작업 실행 중...\n",
      "백그라운드 작업 실행 중...\n",
      "백그라운드 작업 실행 중...\n",
      "백그라운드 작업 실행 중...\n",
      "백그라운드 작업 실행 중...\n",
      "백그라운드 작업 실행 중...\n",
      "백그라운드 작업 실행 중...\n",
      "백그라운드 작업 실행 중...\n",
      "백그라운드 작업 실행 중...\n",
      "백그라운드 작업 실행 중...\n",
      "백그라운드 작업 실행 중...\n",
      "백그라운드 작업 실행 중...\n",
      "백그라운드 작업 실행 중...\n",
      "백그라운드 작업 실행 중...\n",
      "백그라운드 작업 실행 중...\n",
      "백그라운드 작업 실행 중...\n",
      "백그라운드 작업 실행 중...\n",
      "백그라운드 작업 실행 중...\n",
      "백그라운드 작업 실행 중...\n",
      "백그라운드 작업 실행 중...\n",
      "백그라운드 작업 실행 중...\n",
      "백그라운드 작업 실행 중...\n",
      "백그라운드 작업 실행 중...\n",
      "백그라운드 작업 실행 중...\n"
     ]
    }
   ],
   "source": [
    "import threading\n",
    "import time\n",
    "\n",
    "def background_task():\n",
    "    while True:\n",
    "        time.sleep(1)\n",
    "        print(\"백그라운드 작업 실행 중...\")\n",
    "\n",
    "# 데몬 쓰레드 생성\n",
    "daemon_thread = threading.Thread(target=background_task, daemon=True)\n",
    "daemon_thread.start()\n",
    "\n",
    "# 메인 프로그램은 3초 후 종료\n",
    "time.sleep(3)\n",
    "print(\"메인 프로그램 종료!\")"
   ]
  },
  {
   "cell_type": "markdown",
   "metadata": {},
   "source": [
    "### fork와 join"
   ]
  },
  {
   "cell_type": "code",
   "execution_count": 13,
   "metadata": {},
   "outputs": [
    {
     "name": "stdout",
     "output_type": "stream",
     "text": [
      "작업-0 작업 시작\n",
      "작업-1 작업 시작\n",
      "작업-2 작업 시작\n",
      "작업-0 작업 완료\n",
      "작업-1 작업 완료\n",
      "작업-2 작업 완료\n",
      "모든 작업 완료!\n"
     ]
    }
   ],
   "source": [
    "import threading\n",
    "import time\n",
    "\n",
    "def worker(name, delay):\n",
    "    print(f\"{name} 작업 시작\")\n",
    "    time.sleep(delay)\n",
    "    print(f\"{name} 작업 완료\")\n",
    "\n",
    "# 여러 쓰레드 생성 (fork)\n",
    "threads = []\n",
    "for i in range(3):\n",
    "    t = threading.Thread(target=worker, args=(f\"작업-{i}\", i + 1))\n",
    "    threads.append(t)\n",
    "    t.start()\n",
    "\n",
    "# 모든 쓰레드 완료 대기 (join)\n",
    "for t in threads:\n",
    "    t.join()\n",
    "\n",
    "print(\"모든 작업 완료!\")"
   ]
  },
  {
   "cell_type": "markdown",
   "metadata": {},
   "source": [
    "## 멀티프로세싱: 진정한 병렬 실행"
   ]
  },
  {
   "cell_type": "code",
   "execution_count": null,
   "metadata": {},
   "outputs": [
    {
     "name": "stdout",
     "output_type": "stream",
     "text": [
      "직렬 실행 시간: 0.52초\n"
     ]
    }
   ],
   "source": [
    "import multiprocessing\n",
    "import time\n",
    "\n",
    "def cpu_bound_task(number):\n",
    "    return sum(i * i for i in range(number))\n",
    "\n",
    "if __name__ == \"__main__\":\n",
    "  \n",
    "    numbers = [1000000 + x for x in range(4)]\n",
    "    \n",
    "    # 직렬 실행\n",
    "    start_time = time.time()\n",
    "    for number in numbers:\n",
    "        cpu_bound_task(number)\n",
    "    print(f\"직렬 실행 시간: {time.time() - start_time:.2f}초\")\n",
    "    \n",
    "    # 병렬 실행\n",
    "    start_time = time.time()\n",
    "    with multiprocessing.Pool(processes=4) as pool:\n",
    "        pool.map(cpu_bound_task, numbers)\n",
    "    print(f\"병렬 실행 시간: {time.time() - start_time:.2f}초\")"
   ]
  },
  {
   "cell_type": "markdown",
   "metadata": {},
   "source": [
    "## 코루틴: 협력적 동시성"
   ]
  },
  {
   "cell_type": "code",
   "execution_count": 1,
   "metadata": {},
   "outputs": [
    {
     "name": "stdout",
     "output_type": "stream",
     "text": [
      "코루틴 시작\n",
      "코루틴에서 얻은 값: 첫 번째 값\n",
      "받은 값: Hello\n",
      "코루틴에서 얻은 값: 두 번째 값\n",
      "받은 값: World\n",
      "코루틴 종료\n"
     ]
    }
   ],
   "source": [
    "def simple_coroutine():\n",
    "    print(\"코루틴 시작\")\n",
    "    x = yield \"첫 번째 값\"\n",
    "    print(f\"받은 값: {x}\")\n",
    "    y = yield \"두 번째 값\"\n",
    "    print(f\"받은 값: {y}\")\n",
    "\n",
    "# 코루틴 생성\n",
    "coroutine = simple_coroutine()\n",
    "\n",
    "# 코루틴 실행 시작\n",
    "first_value = next(coroutine)\n",
    "print(f\"코루틴에서 얻은 값: {first_value}\")\n",
    "\n",
    "# 값을 코루틴에 전송\n",
    "second_value = coroutine.send(\"Hello\")\n",
    "print(f\"코루틴에서 얻은 값: {second_value}\")\n",
    "\n",
    "# 값을 코루틴에 전송\n",
    "try:\n",
    "    coroutine.send(\"World\")\n",
    "except StopIteration:\n",
    "    print(\"코루틴 종료\")"
   ]
  },
  {
   "cell_type": "markdown",
   "metadata": {},
   "source": [
    "## 정규표현식: 문자열 패턴 매칭의 강력한 도구"
   ]
  },
  {
   "cell_type": "code",
   "execution_count": 2,
   "metadata": {},
   "outputs": [
    {
     "name": "stdout",
     "output_type": "stream",
     "text": [
      "찾은 전화번호: ['010-1234-5678', '02-123-4567']\n",
      "분할된 문자열: ['연락처', ' 010-1234-5678', ' 02-123-4567']\n",
      "개인정보 마스킹: 연락처: 010-****-5678, 02-123-4567\n"
     ]
    }
   ],
   "source": [
    "import re\n",
    "\n",
    "text = \"연락처: 010-1234-5678, 02-123-4567\"\n",
    "\n",
    "# 패턴 찾기\n",
    "phone_numbers = re.findall(r'\\d{2,3}-\\d{3,4}-\\d{4}', text)\n",
    "print(f\"찾은 전화번호: {phone_numbers}\")\n",
    "\n",
    "# 문자열 분할\n",
    "parts = re.split(r'[:,]', text)\n",
    "print(f\"분할된 문자열: {parts}\")\n",
    "\n",
    "# 패턴 대체\n",
    "new_text = re.sub(r'(\\d{3})-(\\d{4})-(\\d{4})', r'\\1-****-\\3', text)\n",
    "print(f\"개인정보 마스킹: {new_text}\")"
   ]
  },
  {
   "cell_type": "markdown",
   "metadata": {},
   "source": [
    "### 실용적인 정규표현식 예제들"
   ]
  },
  {
   "cell_type": "code",
   "execution_count": 3,
   "metadata": {},
   "outputs": [
    {
     "name": "stdout",
     "output_type": "stream",
     "text": [
      "찾은 이메일 주소: ['user@example.com', 'another.user@company.co.kr']\n"
     ]
    }
   ],
   "source": [
    "import re\n",
    "\n",
    "text = \"\"\"\n",
    "연락처 정보:\n",
    "이메일: user@example.com, another.user@company.co.kr\n",
    "웹사이트: https://www.example.com\n",
    "\"\"\"\n",
    "\n",
    "# 이메일 주소 찾기\n",
    "email_pattern = r'[a-zA-Z0-9._%+-]+@[a-zA-Z0-9.-]+\\.[a-zA-Z]{2,}'\n",
    "emails = re.findall(email_pattern, text)\n",
    "print(f\"찾은 이메일 주소: {emails}\")"
   ]
  },
  {
   "cell_type": "code",
   "execution_count": 4,
   "metadata": {},
   "outputs": [
    {
     "name": "stdout",
     "output_type": "stream",
     "text": [
      "찾은 URL: ['https://www.python.org', 'http://docs.python.org/3/', 'www.example.com']\n"
     ]
    }
   ],
   "source": [
    "import re\n",
    "\n",
    "text = \"\"\"\n",
    "참고 사이트:\n",
    "- https://www.python.org\n",
    "- http://docs.python.org/3/\n",
    "- ftp://ftp.example.com\n",
    "- www.example.com\n",
    "\"\"\"\n",
    "\n",
    "# URL 패턴\n",
    "url_pattern = r'https?://[a-zA-Z0-9.-]+\\.[a-zA-Z]{2,}(?:/[^\\s]*)?|www\\.[a-zA-Z0-9.-]+\\.[a-zA-Z]{2,}'\n",
    "urls = re.findall(url_pattern, text)\n",
    "print(f\"찾은 URL: {urls}\")"
   ]
  },
  {
   "cell_type": "code",
   "execution_count": null,
   "metadata": {},
   "outputs": [],
   "source": []
  }
 ],
 "metadata": {
  "kernelspec": {
   "display_name": "Python 3",
   "language": "python",
   "name": "python3"
  },
  "language_info": {
   "codemirror_mode": {
    "name": "ipython",
    "version": 3
   },
   "file_extension": ".py",
   "mimetype": "text/x-python",
   "name": "python",
   "nbconvert_exporter": "python",
   "pygments_lexer": "ipython3",
   "version": "3.8.10"
  }
 },
 "nbformat": 4,
 "nbformat_minor": 4
}
