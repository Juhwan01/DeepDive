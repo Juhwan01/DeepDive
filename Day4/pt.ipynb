{
 "cells": [
  {
   "cell_type": "markdown",
   "metadata": {},
   "source": [
    "# 🧪 Python pytest 실습 코드\n",
    "\n",
    "이 노트북에서는 pytest를 사용한 유닛 테스트의 실제 예제를 실행해볼 수 있습니다. 각 섹션에서 테스트 코드를 작성하고 실행하는 방법을 배워보겠습니다.\n",
    "\n",
    "## 설치 확인\n",
    "\n",
    "먼저 pytest가 설치되어 있는지 확인합니다. 설치되어 있지 않다면 설치합니다."
   ]
  },
  {
   "cell_type": "code",
   "execution_count": null,
   "metadata": {},
   "outputs": [],
   "source": [
    "!pip install pytest\n",
    "!pip install pytest-sugar  # 더 보기 좋은 결과 출력을 위한 플러그인"
   ]
  },
  {
   "cell_type": "markdown",
   "metadata": {},
   "source": [
    "## 1. 기본 테스트 작성하기\n",
    "\n",
    "가장 간단한 형태의 테스트부터 시작해 봅시다. 두 숫자를 더하는 `add` 함수를 테스트하는 코드입니다."
   ]
  },
  {
   "cell_type": "code",
   "execution_count": null,
   "metadata": {},
   "outputs": [],
   "source": [
    "# 먼저 테스트할 함수를 정의합니다\n",
    "def add(a, b):\n",
    "    return a + b\n",
    "\n",
    "# 함수 실행 테스트\n",
    "print(f\"2 + 3 = {add(2, 3)}\")\n",
    "print(f\"-1 + 1 = {add(-1, 1)}\")\n",
    "print(f\"0.5 + 0.7 = {add(0.5, 0.7)}\")"
   ]
  },
  {
   "cell_type": "code",
   "execution_count": null,
   "metadata": {},
   "outputs": [],
   "source": [
    "# 이제 add 함수를 테스트하는 함수를 작성합니다\n",
    "def test_add():\n",
    "    assert add(2, 3) == 5\n",
    "    assert add(-1, 1) == 0\n",
    "    assert add(0.5, 0.7) == 1.2\n",
    "\n",
    "# Jupyter Notebook에서 pytest 실행\n",
    "import pytest\n",
    "\n",
    "# -v 옵션으로 상세 결과 출력\n",
    "pytest.main(['-v', '-xvs', '--no-header'])"
   ]
  },
  {
   "cell_type": "markdown",
   "metadata": {},
   "source": [
    "## 2. 예외 테스트하기\n",
    "\n",
    "함수가 특정 조건에서 예외를 발생시키는지 테스트하는 방법을 알아봅시다."
   ]
  },
  {
   "cell_type": "code",
   "execution_count": null,
   "metadata": {},
   "outputs": [],
   "source": [
    "# 나눗셈 함수 정의\n",
    "def divide(a, b):\n",
    "    if b == 0:\n",
    "        raise ValueError(\"Cannot divide by zero\")\n",
    "    return a / b\n",
    "\n",
    "# 정상 케이스 테스트\n",
    "print(f\"10 / 2 = {divide(10, 2)}\")\n",
    "\n",
    "# 예외 케이스 테스트\n",
    "try:\n",
    "    divide(10, 0)\n",
    "except ValueError as e:\n",
    "    print(f\"예외 발생: {e}\")"
   ]
  },
  {
   "cell_type": "code",
   "execution_count": null,
   "metadata": {},
   "outputs": [],
   "source": [
    "# 나눗셈 함수의 테스트 함수 작성\n",
    "def test_divide():\n",
    "    # 정상 케이스 테스트\n",
    "    assert divide(10, 2) == 5.0\n",
    "    assert divide(8, 4) == 2.0\n",
    "    assert divide(1, 3) == pytest.approx(0.333333, abs=1e-5)  # 부동소수점 비교\n",
    "    \n",
    "    # 예외 케이스 테스트\n",
    "    with pytest.raises(ValueError, match=\"Cannot divide by zero\"):\n",
    "        divide(10, 0)\n",
    "\n",
    "# 테스트 실행\n",
    "pytest.main(['-v', '-xvs', '--no-header'])"
   ]
  },
  {
   "cell_type": "markdown",
   "metadata": {},
   "source": [
    "## 3. 매개변수화된 테스트 (Parametrized Tests)\n",
    "\n",
    "동일한 테스트 로직을 여러 입력값에 대해 실행하는 방법입니다."
   ]
  },
  {
   "cell_type": "code",
   "execution_count": null,
   "metadata": {},
   "outputs": [],
   "source": [
    "# 회문(palindrome) 판별 함수\n",
    "def is_palindrome(s):\n",
    "    s = s.lower().replace(\" \", \"\")\n",
    "    return s == s[::-1]\n",
    "\n",
    "# 몇 가지 예제로 테스트\n",
    "examples = [\n",
    "    \"racecar\", \n",
    "    \"hello\", \n",
    "    \"A man a plan a canal Panama\",\n",
    "    \"Was it a car or a cat I saw\",\n",
    "    \"python\"\n",
    "]\n",
    "\n",
    "for example in examples:\n",
    "    print(f\"\\\"{example}\\\" 회문인가? {is_palindrome(example)}\")"
   ]
  },
  {
   "cell_type": "code",
   "execution_count": null,
   "metadata": {},
   "outputs": [],
   "source": [
    "# 매개변수화된 테스트 작성\n",
    "@pytest.mark.parametrize(\"input_str, expected\", [\n",
    "    (\"racecar\", True),\n",
    "    (\"hello\", False),\n",
    "    (\"A man a plan a canal Panama\", True),\n",
    "    (\"Was it a car or a cat I saw\", True),\n",
    "    (\"python\", False),\n",
    "    (\"12321\", True),\n",
    "    (\"\", True),  # 빈 문자열도 회문으로 간주\n",
    "])\n",
    "def test_is_palindrome(input_str, expected):\n",
    "    assert is_palindrome(input_str) == expected\n",
    "\n",
    "# 테스트 실행\n",
    "pytest.main(['-v', '-xvs', '--no-header'])"
   ]
  },
  {
   "cell_type": "markdown",
   "metadata": {},
   "source": [
    "## 4. Fixture 사용하기\n",
    "\n",
    "Fixture는 테스트를 위한 환경을 설정하고 필요한 데이터를 제공하는 방법입니다."
   ]
  },
  {
   "cell_type": "code",
   "execution_count": null,
   "metadata": {},
   "outputs": [],
   "source": [
    "# 테스트할 사용자 클래스\n",
    "class User:\n",
    "    def __init__(self, name, email):\n",
    "        self.name = name\n",
    "        self.email = email\n",
    "        self.posts = []\n",
    "    \n",
    "    def add_post(self, title, content):\n",
    "        post = {\n",
    "            \"title\": title,\n",
    "            \"content\": content,\n",
    "            \"id\": len(self.posts) + 1\n",
    "        }\n",
    "        self.posts.append(post)\n",
    "        return post\n",
    "    \n",
    "    def get_posts(self):\n",
    "        return self.posts\n",
    "    \n",
    "    def delete_post(self, post_id):\n",
    "        for i, post in enumerate(self.posts):\n",
    "            if post[\"id\"] == post_id:\n",
    "                return self.posts.pop(i)\n",
    "        return None"
   ]
  },
  {
   "cell_type": "code",
   "execution_count": null,
   "metadata": {},
   "outputs": [],
   "source": [
    "# 사용자와 게시물이 있는 fixture 정의\n",
    "@pytest.fixture\n",
    "def user_with_posts():\n",
    "    user = User(\"Test User\", \"test@example.com\")\n",
    "    user.add_post(\"First Post\", \"This is my first post\")\n",
    "    user.add_post(\"Second Post\", \"This is my second post\")\n",
    "    return user\n",
    "\n",
    "# Fixture를 사용한 테스트\n",
    "def test_user_posts(user_with_posts):\n",
    "    # user_with_posts fixture가 테스트에 주입됩니다\n",
    "    user = user_with_posts\n",
    "    \n",
    "    # 초기 게시물 확인\n",
    "    posts = user.get_posts()\n",
    "    assert len(posts) == 2\n",
    "    assert posts[0][\"title\"] == \"First Post\"\n",
    "    \n",
    "    # 게시물 추가\n",
    "    new_post = user.add_post(\"Third Post\", \"This is my third post\")\n",
    "    assert len(user.get_posts()) == 3\n",
    "    assert new_post[\"id\"] == 3\n",
    "    \n",
    "    # 게시물 삭제\n",
    "    deleted = user.delete_post(2)\n",
    "    assert deleted[\"title\"] == \"Second Post\"\n",
    "    assert len(user.get_posts()) == 2\n",
    "\n",
    "# 테스트 실행\n",
    "pytest.main(['-v', '-xvs', '--no-header'])"
   ]
  },
  {
   "cell_type": "markdown",
   "metadata": {},
   "source": [
    "## 5. Mock 객체 사용하기\n",
    "\n",
    "외부 시스템(API, 데이터베이스 등)에 의존하는 코드를 테스트할 때 Mock 객체를 사용하는 방법입니다."
   ]
  },
  {
   "cell_type": "code",
   "execution_count": null,
   "metadata": {},
   "outputs": [],
   "source": [
    "from unittest.mock import patch, Mock\n",
    "import requests\n",
    "\n",
    "# 외부 API를 호출하는 함수\n",
    "def get_user_data(user_id):\n",
    "    # 실제로는 외부 API 호출\n",
    "    response = requests.get(f\"https://api.example.com/users/{user_id}\")\n",
    "    if response.status_code == 200:\n",
    "        return response.json()\n",
    "    return None\n",
    "\n",
    "# Mock을 사용하지 않고 함수 작동 방식 설명 (실제로는 오류 발생)\n",
    "print(\"실제 API가 없으므로 다음 코드는 실행되지 않습니다:\")\n",
    "print('get_user_data(1)')"
   ]
  },
  {
   "cell_type": "code",
   "execution_count": null,
   "metadata": {},
   "outputs": [],
   "source": [
    "# Mock을 사용한 테스트\n",
    "def test_get_user_data():\n",
    "    # Mock response 객체 생성\n",
    "    mock_response = Mock()\n",
    "    mock_response.status_code = 200\n",
    "    mock_response.json.return_value = {\"id\": 1, \"name\": \"John Doe\", \"email\": \"john@example.com\"}\n",
    "    \n",
    "    # requests.get 함수를 mock으로 대체\n",
    "    with patch('requests.get', return_value=mock_response) as mock_get:\n",
    "        data = get_user_data(1)\n",
    "        \n",
    "        # mock_get이 올바른 URL로 호출되었는지 확인\n",
    "        mock_get.assert_called_once_with(\"https://api.example.com/users/1\")\n",
    "        \n",
    "        # 반환된 데이터 확인\n",
    "        assert data[\"name\"] == \"John Doe\"\n",
    "        assert data[\"email\"] == \"john@example.com\"\n",
    "\n",
    "# 오류 응답 테스트\n",
    "def test_get_user_data_error():\n",
    "    # 404 응답을 반환하는 Mock 생성\n",
    "    mock_response = Mock()\n",
    "    mock_response.status_code = 404\n",
    "    \n",
    "    with patch('requests.get', return_value=mock_response):\n",
    "        data = get_user_data(999)  # 존재하지 않는 사용자\n",
    "        assert data is None\n",
    "\n",
    "# 테스트 실행\n",
    "pytest.main(['-v', '-xvs', '--no-header'])"
   ]
  },
  {
   "cell_type": "markdown",
   "metadata": {},
   "source": [
    "## 6. 실전 예제: 계산기 클래스 테스트\n",
    "\n",
    "이제 모든 개념을 종합하여 계산기 클래스를 완전히 테스트해봅시다."
   ]
  },
  {
   "cell_type": "code",
   "execution_count": null,
   "metadata": {},
   "outputs": [],
   "source": [
    "# calculator.py\n",
    "class Calculator:\n",
    "    def __init__(self):\n",
    "        self.result = 0\n",
    "    \n",
    "    def reset(self):\n",
    "        self.result = 0\n",
    "        return self.result\n",
    "    \n",
    "    def add(self, a, b=None):\n",
    "        if b is None:  # 누적 계산 모드\n",
    "            self.result += a\n",
    "            return self.result\n",
    "        return a + b\n",
    "    \n",
    "    def subtract(self, a, b=None):\n",
    "        if b is None:  # 누적 계산 모드\n",
    "            self.result -= a\n",
    "            return self.result\n",
    "        return a - b\n",
    "    \n",
    "    def multiply(self, a, b=None):\n",
    "        if b is None:  # 누적 계산 모드\n",
    "            self.result *= a\n",
    "            return self.result\n",
    "        return a * b\n",
    "    \n",
    "    def divide(self, a, b=None):\n",
    "        if b is None:  # 누적 계산 모드\n",
    "            if a == 0:\n",
    "                raise ValueError(\"Cannot divide by zero\")\n",
    "            self.result /= a\n",
    "            return self.result\n",
    "        if b == 0:\n",
    "            raise ValueError(\"Cannot divide by zero\")\n",
    "        return a / b\n",
    "    \n",
    "# 계산기 클래스 간단한 사용 예시\n",
    "calc = Calculator()\n",
    "print(f\"2 + 3 = {calc.add(2, 3)}\")\n",
    "print(f\"5 - 2 = {calc.subtract(5, 2)}\")\n",
    "print(f\"4 * 3 = {calc.multiply(4, 3)}\")\n",
    "print(f\"10 / 2 = {calc.divide(10, 2)}\")\n",
    "\n",
    "print(\"\\n누적 계산 모드:\")\n",
    "calc.reset()\n",
    "print(f\"현재 값: {calc.result}\")\n",
    "print(f\"+ 5 = {calc.add(5)}\")\n",
    "print(f\"* 2 = {calc.multiply(2)}\")\n",
    "print(f\"- 3 = {calc.subtract(3)}\")\n",
    "print(f\"/ 2 = {calc.divide(2)}\")"
   ]
  },
  {
   "cell_type": "code",
   "execution_count": null,
   "metadata": {},
   "outputs": [],
   "source": [
    "# 계산기 클래스 테스트\n",
    "@pytest.fixture\n",
    "def calculator():\n",
    "    return Calculator()\n",
    "\n",
    "# 기본 연산 테스트\n",
    "def test_calculator_operations(calculator):\n",
    "    assert calculator.add(2, 3) == 5\n",
    "    assert calculator.subtract(5, 2) == 3\n",
    "    assert calculator.multiply(3, 4) == 12\n",
    "    assert calculator.divide(10, 2) == 5.0\n",
    "\n",
    "# 누적 계산 모드 테스트\n",
    "def test_calculator_accumulation(calculator):\n",
    "    assert calculator.result == 0\n",
    "    \n",
    "    assert calculator.add(5) == 5\n",
    "    assert calculator.result == 5\n",
    "    \n",
    "    assert calculator.multiply(2) == 10\n",
    "    assert calculator.result == 10\n",
    "    \n",
    "    assert calculator.subtract(3) == 7\n",
    "    assert calculator.result == 7\n",
    "    \n",
    "    assert calculator.divide(2) == 3.5\n",
    "    assert calculator.result == 3.5\n",
    "    \n",
    "    assert calculator.reset() == 0\n",
    "    assert calculator.result == 0\n",
    "\n",
    "# 에지 케이스 테스트\n",
    "def test_calculator_edge_cases(calculator):\n",
    "    # 0으로 나누기 테스트\n",
    "    with pytest.raises(ValueError, match=\"Cannot divide by zero\"):\n",
    "        calculator.divide(10, 0)\n",
    "    \n",
    "    # 누적 모드에서 0으로 나누기\n",
    "    calculator.add(10)  # result = 10\n",
    "    with pytest.raises(ValueError, match=\"Cannot divide by zero\"):\n",
    "        calculator.divide(0)\n",
    "    \n",
    "    # 부동소수점 비교\n",
    "    assert calculator.divide(10, 3) == pytest.approx(3.333333, abs=1e-5)\n",
    "\n",
    "# 매개변수화된 테스트\n",
    "@pytest.mark.parametrize(\"a, b, expected\", [\n",
    "    (1, 1, 2),  # 양수 + 양수\n",
    "    (1, -1, 0),  # 양수 + 음수\n",
    "    (-1, -1, -2),  # 음수 + 음수\n",
    "    (0, 0, 0),  # 0 + 0\n",
    "])\n",
    "def test_calculator_add_parametrized(calculator, a, b, expected):\n",
    "    assert calculator.add(a, b) == expected\n",
    "\n",
    "# 테스트 실행\n",
    "pytest.main(['-v', '-xvs', '--no-header'])"
   ]
  },
  {
   "cell_type": "markdown",
   "metadata": {},
   "source": [
    "## 7. 테스트 마크와 테스트 건너뛰기\n",
    "\n",
    "테스트에 마크를 지정하고 특정 테스트를 건너뛰는 방법을 알아봅시다."
   ]
  },
  {
   "cell_type": "code",
   "execution_count": null,
   "metadata": {},
   "outputs": [],
   "source": [
    "# 느린 테스트와 빠른 테스트 구분\n",
    "import time\n",
    "\n",
    "@pytest.mark.slow\n",
    "def test_slow_operation():\n",
    "    time.sleep(1)  # 시간이 오래 걸리는 작업 시뮬레이션\n",
    "    assert True\n",
    "\n",
    "@pytest.mark.fast\n",
    "def test_fast_operation():\n",
    "    assert 1 + 1 == 2\n",
    "\n",
    "# 테스트 건너뛰기\n",
    "@pytest.mark.skip(reason=\"이 테스트는 아직 구현 중입니다\")\n",
    "def test_unimplemented_feature():\n",
    "    # 아직 개발 중인 기능\n",
    "    assert False\n",
    "\n",
    "# 조건부 건너뛰기\n",
    "@pytest.mark.skipif(True, reason=\"특정 조건에서만 실행\")\n",
    "def test_conditional_skip():\n",
    "    assert True\n",
    "\n",
    "# 실패가 예상되는 테스트\n",
    "@pytest.mark.xfail(reason=\"알려진 버그\")\n",
    "def test_known_bug():\n",
    "    # 아직 수정되지 않은 버그 테스트\n",
    "    assert 1 == 2\n",
    "\n",
    "# 테스트 실행\n",
    "pytest.main(['-v', '-xvs', '--no-header'])"
   ]
  },
  {
   "cell_type": "markdown",
   "metadata": {},
   "source": [
    "## 8. 테스트 커버리지 측정하기\n",
    "\n",
    "pytest-cov 플러그인을 사용하여 테스트 커버리지를 측정하는 방법입니다. 이 예제는 노트북에서 직접 실행하기는 어렵지만, 명령줄에서 실행하는 방법을 보여드립니다."
   ]
  },
  {
   "cell_type": "code",
   "execution_count": null,
   "metadata": {},
   "outputs": [],
   "source": [
    "# pytest-cov 설치\n",
    "!pip install pytest-cov"
   ]
  },
  {
   "cell_type": "markdown",
   "metadata": {},
   "source": [
    "커버리지 측정은 다음과 같이 명령줄에서 실행합니다:\n",
    "\n",
    "```bash\n",
    "# 기본 커버리지 측정\n",
    "pytest --cov=my_module\n",
    "\n",
    "# 자세한 보고서 생성\n",
    "pytest --cov=my_module --cov-report=term-missing\n",
    "\n",
    "# HTML 보고서 생성\n",
    "pytest --cov=my_module --cov-report=html\n",
    "```\n",
    "\n",
    "## 9. pytest.ini 설정 파일 만들기\n",
    "\n",
    "실제 프로젝트에서는 pytest.ini 파일을 사용하여 pytest의 기본 설정을 구성할 수 있습니다:"
   ]
  },
  {
   "cell_type": "code",
   "execution_count": null,
   "metadata": {},
   "outputs": [],
   "source": [
    "%%writefile pytest.ini\n",
    "[pytest]\n",
    "testpaths = tests\n",
    "python_files = test_*.py\n",
    "python_classes = Test*\n",
    "python_functions = test_*\n",
    "\n",
    "markers =\n",
    "    slow: marks tests as slow (deselect with '-m \"not slow\"')\n",
    "    fast: marks tests as fast\n",
    "\n",
    "addopts = -v --cov=my_module"
   ]
  },
  {
   "cell_type": "markdown",
   "metadata": {},
   "source": [
    "## 10. 실전 프로젝트 구조 예시\n",
    "\n",
    "마지막으로, 실제 프로젝트에서 테스트를 구성하는 방법을 간단히 살펴보겠습니다:"
   ]
  },
  {
   "cell_type": "code",
   "execution_count": null,
   "metadata": {},
   "outputs": [],
   "source": [
    "# 프로젝트 구조 예시 출력\n",
    "project_structure = \"\"\"\n",
    "my_project/\n",
    "├── my_module/\n",
    "│   ├── __init__.py\n",
    "│   ├── calculator.py\n",
    "│   └── utils.py\n",
    "├── tests/\n",
    "│   ├── __init__.py\n",
    "│   ├── conftest.py         # 공통 fixture 정의\n",
    "│   ├── test_calculator.py\n",
    "│   └── test_utils.py\n",
    "├── pytest.ini\n",
    "├── requirements.txt\n",
    "└── setup.py\n",
    "\"\"\"\n",
    "\n",
    "print(project_structure)"
   ]
  },
  {
   "cell_type": "markdown",
   "metadata": {},
   "source": [
    "## 결론\n",
    "\n",
    "이 노트북에서는 pytest를 사용하여 파이썬 코드를 효과적으로 테스트하는 방법을 실습해 보았습니다. 기본적인 테스트 작성부터 고급 기능 (fixture, mock, 매개변수화된 테스트 등)까지 다양한 예제를 통해 배웠습니다.\n",
    "\n",
    "테스트는 코드의 품질을 유지하고 버그를 조기에 발견하는 데 필수적입니다. 적절한 테스트 전략과 pytest의 강력한 기능을 활용하면 더 견고하고 유지보수하기 쉬운 코드를 작성할 수 있습니다.\n",
    "\n",
    "더 자세한 내용은 [pytest 공식 문서](https://docs.pytest.org/)를 참조하세요."
   ]
  }
 ],
 "metadata": {
  "kernelspec": {
   "display_name": "groom",
   "language": "python",
   "name": "python3"
  },
  "language_info": {
   "codemirror_mode": {
    "name": "ipython",
    "version": 3
   },
   "file_extension": ".py",
   "mimetype": "text/x-python",
   "name": "python",
   "nbconvert_exporter": "python",
   "pygments_lexer": "ipython3",
   "version": "3.13.2"
  }
 },
 "nbformat": 4,
 "nbformat_minor": 4
}
