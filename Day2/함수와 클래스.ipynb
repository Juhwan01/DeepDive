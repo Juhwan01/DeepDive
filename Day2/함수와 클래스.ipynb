{
 "cells": [
  {
   "cell_type": "markdown",
   "id": "186596f9",
   "metadata": {},
   "source": [
    "# 함수와 클래스"
   ]
  },
  {
   "cell_type": "markdown",
   "id": "bdc52509",
   "metadata": {},
   "source": [
    "### 함수의 기본개념"
   ]
  },
  {
   "cell_type": "markdown",
   "id": "4088081c",
   "metadata": {
    "vscode": {
     "languageId": "plaintext"
    }
   },
   "source": [
    "함수 = 코드에 대한 이름표"
   ]
  },
  {
   "cell_type": "code",
   "execution_count": 2,
   "id": "93fc34b8",
   "metadata": {},
   "outputs": [
    {
     "name": "stdout",
     "output_type": "stream",
     "text": [
      "hello\n"
     ]
    }
   ],
   "source": [
    "def hello() : \n",
    "    print(\"hello\")\n",
    "\n",
    "hello()"
   ]
  },
  {
   "cell_type": "code",
   "execution_count": 3,
   "id": "69f81a2a",
   "metadata": {},
   "outputs": [
    {
     "data": {
      "text/plain": [
       "2659772558496"
      ]
     },
     "execution_count": 3,
     "metadata": {},
     "output_type": "execute_result"
    }
   ],
   "source": [
    "id(hello)"
   ]
  },
  {
   "cell_type": "code",
   "execution_count": 4,
   "id": "f6e0dcec",
   "metadata": {},
   "outputs": [
    {
     "name": "stdout",
     "output_type": "stream",
     "text": [
      "hello\n"
     ]
    }
   ],
   "source": [
    "f=hello\n",
    "f()"
   ]
  },
  {
   "cell_type": "markdown",
   "id": "75261388",
   "metadata": {},
   "source": [
    "### 함수 호출"
   ]
  },
  {
   "cell_type": "code",
   "execution_count": 5,
   "id": "81dd4553",
   "metadata": {},
   "outputs": [
    {
     "name": "stdout",
     "output_type": "stream",
     "text": [
      "호출 됨\n"
     ]
    }
   ],
   "source": [
    "class Func:\n",
    "    def __call__(self):\n",
    "        print(\"호출 됨\") \n",
    "        \n",
    "f = Func()\n",
    "f()"
   ]
  },
  {
   "cell_type": "markdown",
   "id": "bbb6a14b",
   "metadata": {},
   "source": [
    "### 위치인자"
   ]
  },
  {
   "cell_type": "markdown",
   "id": "8b1e9e06",
   "metadata": {},
   "source": [
    "언패킹을 통한 값 할당(*args)"
   ]
  },
  {
   "cell_type": "code",
   "execution_count": 7,
   "id": "9f28537a",
   "metadata": {},
   "outputs": [],
   "source": [
    "def print_number(a,b,c):\n",
    "    print(a,b,c)"
   ]
  },
  {
   "cell_type": "code",
   "execution_count": 8,
   "id": "c483623f",
   "metadata": {},
   "outputs": [
    {
     "name": "stdout",
     "output_type": "stream",
     "text": [
      "7 8 9\n"
     ]
    }
   ],
   "source": [
    "print_number(*[7,8,9])"
   ]
  },
  {
   "cell_type": "code",
   "execution_count": 9,
   "id": "8f7b1e01",
   "metadata": {},
   "outputs": [
    {
     "name": "stdout",
     "output_type": "stream",
     "text": [
      "7 8 9\n"
     ]
    }
   ],
   "source": [
    "print_number(*(7,8,9))"
   ]
  },
  {
   "cell_type": "markdown",
   "id": "d0a809ed",
   "metadata": {},
   "source": [
    "### 가변인자 - 위치 가변인자"
   ]
  },
  {
   "cell_type": "markdown",
   "id": "ec1ae656",
   "metadata": {},
   "source": [
    "함수의 인자값의 개수를 가변적으로 정의하기 위함"
   ]
  },
  {
   "cell_type": "code",
   "execution_count": 10,
   "id": "a098183e",
   "metadata": {},
   "outputs": [],
   "source": [
    "def foo(*args):\n",
    "    print(args)"
   ]
  },
  {
   "cell_type": "code",
   "execution_count": 11,
   "id": "9c7730dc",
   "metadata": {},
   "outputs": [
    {
     "name": "stdout",
     "output_type": "stream",
     "text": [
      "(1, 2, 3)\n",
      "(1, 2, 3, 4)\n"
     ]
    }
   ],
   "source": [
    "foo(1,2,3)\n",
    "foo(1,2,3,4)"
   ]
  },
  {
   "cell_type": "markdown",
   "id": "0fed76bc",
   "metadata": {},
   "source": [
    "### 가변인자 - 키워드가변인자"
   ]
  },
  {
   "cell_type": "markdown",
   "id": "c4d384a0",
   "metadata": {},
   "source": [
    "인자값의 변수가 딕셔너리 객체를 바인딩하여 함수 호출부에서 key,value값으로 전달한 그대로 저장된다."
   ]
  },
  {
   "cell_type": "code",
   "execution_count": 14,
   "id": "187e9e2f",
   "metadata": {},
   "outputs": [
    {
     "name": "stdout",
     "output_type": "stream",
     "text": [
      "{'a': 1, 'b': 2, 'c': 3}\n"
     ]
    }
   ],
   "source": [
    "def foo(**kwargs):\n",
    "    print(kwargs)\n",
    "\n",
    "foo(a=1,b=2,c=3)"
   ]
  },
  {
   "cell_type": "markdown",
   "id": "a8168a66",
   "metadata": {},
   "source": [
    "### 키워드가변인자 + 위치가변인자"
   ]
  },
  {
   "cell_type": "markdown",
   "id": "8c1fdbd0",
   "metadata": {},
   "source": [
    "보통 위치 가변 인자와 키워드 가변 인자를 같이 쓰는 경우가 많다고 함.\n",
    "\n",
    "args - 튜플 객체 바인딩\n",
    "\n",
    "kwargs - 딕셔너리 객체 바인딩"
   ]
  },
  {
   "cell_type": "code",
   "execution_count": null,
   "id": "dad154bf",
   "metadata": {},
   "outputs": [
    {
     "name": "stdout",
     "output_type": "stream",
     "text": [
      "(1, 2, 3)\n",
      "{'a': 1, 'b': 2, 'c': 3}\n"
     ]
    }
   ],
   "source": [
    "def foo(*args,**kwargs):\n",
    "    print(args)\n",
    "    print(kwargs)\n",
    "\n",
    "foo(1,2,3,a=1,b=2,c=3)"
   ]
  },
  {
   "cell_type": "markdown",
   "id": "9f261f1d",
   "metadata": {},
   "source": [
    "### lambda 함수"
   ]
  },
  {
   "cell_type": "markdown",
   "id": "b6d1412a",
   "metadata": {},
   "source": [
    "간단한 함수를 정의할 때 사용한다."
   ]
  },
  {
   "cell_type": "code",
   "execution_count": 26,
   "id": "fd1ab7be",
   "metadata": {},
   "outputs": [
    {
     "data": {
      "text/plain": [
       "10"
      ]
     },
     "execution_count": 26,
     "metadata": {},
     "output_type": "execute_result"
    }
   ],
   "source": [
    "a = lambda x:x*5\n",
    "a(2)"
   ]
  },
  {
   "cell_type": "code",
   "execution_count": 25,
   "id": "28b940f4",
   "metadata": {},
   "outputs": [
    {
     "name": "stdout",
     "output_type": "stream",
     "text": [
      "[(1, 4), (2, 3), (3, 2), (4, 1)]\n"
     ]
    }
   ],
   "source": [
    "my_list = [(1,4),(2,3),(3,2),(4,1)]\n",
    "sorted_list = sorted(my_list,key = lambda x:x[1],reverse=True)\n",
    "print(sorted_list)"
   ]
  },
  {
   "cell_type": "markdown",
   "id": "b72772f4",
   "metadata": {},
   "source": [
    "### 함수안의 함수(내부함수/외부함수)"
   ]
  },
  {
   "cell_type": "markdown",
   "id": "9d7737ec",
   "metadata": {},
   "source": [
    "내부 함수 - 함수 안쪽에 정의된 함수\n",
    "\n",
    "외부 함수 - 바깥쪽의 함수"
   ]
  },
  {
   "cell_type": "code",
   "execution_count": 27,
   "id": "f44021d3",
   "metadata": {},
   "outputs": [
    {
     "name": "stdout",
     "output_type": "stream",
     "text": [
      "inner\n"
     ]
    }
   ],
   "source": [
    "def outer():\n",
    "    def inner():\n",
    "        print(\"inner\")\n",
    "    return inner\n",
    "\n",
    "f = outer()\n",
    "f()"
   ]
  },
  {
   "cell_type": "markdown",
   "id": "a64a8d4f",
   "metadata": {},
   "source": [
    "### LEGB 규칙"
   ]
  },
  {
   "cell_type": "markdown",
   "id": "a3862045",
   "metadata": {},
   "source": [
    "L - 함수 안 (Local)\n",
    "\n",
    "E - 내부 함수 기준 자신의 외부함수 범위(Enclosed function locals)\n",
    "\n",
    "G - 함수 바깥(Global)\n",
    "\n",
    "B - open,range 같은 내장 함수(Built-in)\n",
    "\n",
    "어떤 변수가 값을 참조하는 경우 L->E->G->B 순으로 탐색"
   ]
  },
  {
   "cell_type": "code",
   "execution_count": 28,
   "id": "cbb9aaa6",
   "metadata": {},
   "outputs": [
    {
     "name": "stdout",
     "output_type": "stream",
     "text": [
      "20\n"
     ]
    }
   ],
   "source": [
    "a = 10\n",
    "\n",
    "def test():\n",
    "    a = 20\n",
    "    print(a)\n",
    "\n",
    "test()"
   ]
  },
  {
   "cell_type": "markdown",
   "id": "d8de090f",
   "metadata": {},
   "source": [
    "test()함수 호출 -> test함수 안(Local) - a=20 존재 -> 20 출력"
   ]
  },
  {
   "cell_type": "code",
   "execution_count": 29,
   "id": "8c6c9f9d",
   "metadata": {},
   "outputs": [
    {
     "name": "stdout",
     "output_type": "stream",
     "text": [
      "10\n"
     ]
    }
   ],
   "source": [
    "a = 10\n",
    "\n",
    "def test():\n",
    "    print(a)\n",
    "\n",
    "test()"
   ]
  },
  {
   "cell_type": "markdown",
   "id": "24ecc98e",
   "metadata": {},
   "source": [
    "여기서는 로컬 영역의 값이 없으므로 Global 영역의 a 출력(10)"
   ]
  },
  {
   "cell_type": "code",
   "execution_count": null,
   "id": "6a045b68",
   "metadata": {},
   "outputs": [
    {
     "name": "stdout",
     "output_type": "stream",
     "text": [
      "10\n",
      "20\n"
     ]
    }
   ],
   "source": [
    "a = 10\n",
    "\n",
    "def test():\n",
    "    a = 20\n",
    "    print(a)\n",
    "    \n",
    "print(a)\n",
    "test()"
   ]
  },
  {
   "cell_type": "markdown",
   "id": "25f2f075",
   "metadata": {},
   "source": [
    "함수 영역내의 a(Local) -> 함수 호출 끝나면 소멸 -> print(a)는 그러면 다음인 G를 탐색 글로벌 a(10)을 출력하게 된다.\n"
   ]
  },
  {
   "cell_type": "code",
   "execution_count": 31,
   "id": "c63aa803",
   "metadata": {},
   "outputs": [
    {
     "name": "stdout",
     "output_type": "stream",
     "text": [
      "3\n"
     ]
    }
   ],
   "source": [
    "def outer():\n",
    "    num=3\n",
    "    def inner():\n",
    "        print(num)\n",
    "    return inner\n",
    "\n",
    "f = outer()\n",
    "f()"
   ]
  },
  {
   "cell_type": "markdown",
   "id": "07242be7",
   "metadata": {},
   "source": [
    "내부 함수 기준으로 글로벌인 num=3이라는 값을 출력하도록 한다\n",
    "\n",
    "why?\n",
    "\n",
    "오류를 일으키지 않을까, num이라는 변수가 없는데\n",
    "\n",
    "cause -> 내부 함수 객체는 함수 객체가 생성될 때 자신이 참조하는 영역의 변수를 자신의 객체 안에 저장한다고 함."
   ]
  },
  {
   "cell_type": "code",
   "execution_count": 32,
   "id": "2a796cf8",
   "metadata": {},
   "outputs": [
    {
     "name": "stdout",
     "output_type": "stream",
     "text": [
      "3\n"
     ]
    }
   ],
   "source": [
    "print(f.__closure__[0].cell_contents)"
   ]
  },
  {
   "cell_type": "markdown",
   "id": "909062cf",
   "metadata": {},
   "source": [
    "function 객체는 __closure__라는 속성을 가진다고 한다.\n",
    "\n",
    "이 속성은 튜플 타입이며 이 튜플 안에 그 값들이 저장되는 것이다."
   ]
  },
  {
   "cell_type": "markdown",
   "id": "4b063560",
   "metadata": {},
   "source": [
    "### 클로저(Closure)"
   ]
  },
  {
   "cell_type": "markdown",
   "id": "8c41dc45",
   "metadata": {},
   "source": [
    "* 외부 함수에서 내부 함수 정의\n",
    "* 내부 함수에서 참조하는 변수는 내부함수 객체에 같이 저장\n",
    "* 외부 함수는 내부 함수 객체를 리턴한다"
   ]
  },
  {
   "cell_type": "code",
   "execution_count": 33,
   "id": "0794bef6",
   "metadata": {},
   "outputs": [
    {
     "name": "stdout",
     "output_type": "stream",
     "text": [
      "3\n",
      "4\n"
     ]
    }
   ],
   "source": [
    "def outer(num):\n",
    "    def inner():\n",
    "        print(num)\n",
    "    return inner\n",
    "\n",
    "f1 = outer(3)\n",
    "f2 = outer(4)\n",
    "f1()\n",
    "f2()"
   ]
  },
  {
   "cell_type": "markdown",
   "id": "72515057",
   "metadata": {},
   "source": [
    "outer 함수 호출 -> 생성된 inner함수 객체의 주소가 리턴-> 각각 f1,f2에 바인딩됨\n",
    "\n",
    "-> 내부 함수의 객체에 num 값을 저장하고 있기 때문에 -> 바인딩 된 f1,f2를 호출하면 각각 3,4를 호출하게 된다."
   ]
  },
  {
   "cell_type": "markdown",
   "id": "c7c03ebb",
   "metadata": {},
   "source": [
    "* 클래스 버전"
   ]
  },
  {
   "cell_type": "code",
   "execution_count": 35,
   "id": "fa3d78ee",
   "metadata": {},
   "outputs": [
    {
     "name": "stdout",
     "output_type": "stream",
     "text": [
      "3\n"
     ]
    }
   ],
   "source": [
    "class Outer:\n",
    "    def __init__(self,num):\n",
    "        self.num = num\n",
    "    def __call__(self):\n",
    "        print(self.num)\n",
    "\n",
    "f1 = Outer(3)\n",
    "f1()"
   ]
  },
  {
   "cell_type": "code",
   "execution_count": null,
   "id": "fc19dab3",
   "metadata": {},
   "outputs": [],
   "source": []
  }
 ],
 "metadata": {
  "kernelspec": {
   "display_name": "base",
   "language": "python",
   "name": "python3"
  },
  "language_info": {
   "codemirror_mode": {
    "name": "ipython",
    "version": 3
   },
   "file_extension": ".py",
   "mimetype": "text/x-python",
   "name": "python",
   "nbconvert_exporter": "python",
   "pygments_lexer": "ipython3",
   "version": "3.11.7"
  }
 },
 "nbformat": 4,
 "nbformat_minor": 5
}
