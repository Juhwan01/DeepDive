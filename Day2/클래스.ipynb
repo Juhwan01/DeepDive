{
 "cells": [
  {
   "cell_type": "markdown",
   "id": "d2706006",
   "metadata": {},
   "source": [
    "# 클래스"
   ]
  },
  {
   "cell_type": "markdown",
   "id": "3b3d59eb",
   "metadata": {},
   "source": [
    "### 클래스 정의하기"
   ]
  },
  {
   "cell_type": "code",
   "execution_count": 1,
   "id": "96a2aa60",
   "metadata": {},
   "outputs": [],
   "source": [
    "class Person:\n",
    "    pass\n",
    "\n",
    "p = Person()"
   ]
  },
  {
   "cell_type": "code",
   "execution_count": 2,
   "id": "047ae6b6",
   "metadata": {},
   "outputs": [],
   "source": [
    "p.data = 3"
   ]
  },
  {
   "cell_type": "markdown",
   "id": "791b635b",
   "metadata": {},
   "source": [
    "p.data에서 .은 p의 공간 안을 의미한다\n",
    "\n",
    "-> {\"data\":3}으로 저장된다. 이 저장 공간은 p라는 객체를 대상으로 하고 있으므로 클래스 상에 저장된다."
   ]
  },
  {
   "cell_type": "code",
   "execution_count": 3,
   "id": "6de1a7d0",
   "metadata": {},
   "outputs": [
    {
     "name": "stdout",
     "output_type": "stream",
     "text": [
      "3\n"
     ]
    }
   ],
   "source": [
    "print(p.data)"
   ]
  },
  {
   "cell_type": "markdown",
   "id": "ed092842",
   "metadata": {},
   "source": [
    "### 클래스 공간에 데이터 저장하기"
   ]
  },
  {
   "cell_type": "code",
   "execution_count": 4,
   "id": "527bf813",
   "metadata": {},
   "outputs": [
    {
     "name": "stdout",
     "output_type": "stream",
     "text": [
      "4\n"
     ]
    }
   ],
   "source": [
    "class Person:\n",
    "    data = 4\n",
    "\n",
    "p = Person()\n",
    "print(p.data)"
   ]
  },
  {
   "cell_type": "markdown",
   "id": "95408cb6",
   "metadata": {},
   "source": [
    "위와 같은 경우는 클래스의 공간을 대상으로 하고 있으므로 만들어진 모든 객체가 똑같은 값을 공유한다\n",
    "\n",
    "객체 : 프라이빗 공간\n",
    "\n",
    "클래스 : 퍼블릭 공간"
   ]
  },
  {
   "cell_type": "markdown",
   "id": "4b96518f",
   "metadata": {},
   "source": [
    "### 생성자(Initialization)"
   ]
  },
  {
   "cell_type": "markdown",
   "id": "16e19b8d",
   "metadata": {},
   "source": [
    "객체가 생성될 때 자동으로 호출되는 함수 -> 여기서 객체 초기화나 초깃값 세팅을 한다"
   ]
  },
  {
   "cell_type": "code",
   "execution_count": 5,
   "id": "2dd590d0",
   "metadata": {},
   "outputs": [
    {
     "name": "stdout",
     "output_type": "stream",
     "text": [
      "ㅎㅇ\n"
     ]
    }
   ],
   "source": [
    "class Person:\n",
    "    def __init__(self):\n",
    "        print(\"ㅎㅇ\")\n",
    "p = Person()"
   ]
  },
  {
   "cell_type": "markdown",
   "id": "3aea82ce",
   "metadata": {},
   "source": [
    "생성자와 같이 클래스 내에 정의된 함수들은 클래스 공간에 정의 된다.\n",
    "\n",
    "->나중에 .을 통하여 클래스 공간내의 함수 객체를 쓸 수 있다."
   ]
  },
  {
   "cell_type": "markdown",
   "id": "9607b583",
   "metadata": {},
   "source": [
    "### 매직메서드(Magic Method)"
   ]
  },
  {
   "cell_type": "markdown",
   "id": "bc93290e",
   "metadata": {},
   "source": [
    "클래스 안에 정의된 함수 - 메소드(method)\n",
    "\n",
    "메소드 중에서 __로 시작헤서 __로 끝나는 친구들 - 매직 메소드 or 특별 메소드(special method)"
   ]
  },
  {
   "cell_type": "markdown",
   "id": "889c76a0",
   "metadata": {},
   "source": [
    "* EX"
   ]
  },
  {
   "cell_type": "code",
   "execution_count": 6,
   "id": "e6ba82b9",
   "metadata": {},
   "outputs": [],
   "source": [
    "class Car:\n",
    "    def __init__(self):\n",
    "        print(\"예시\")"
   ]
  },
  {
   "cell_type": "markdown",
   "id": "12159667",
   "metadata": {},
   "source": [
    "따로 호출하지 않아도 객체 생성하면 자동 호출"
   ]
  },
  {
   "cell_type": "markdown",
   "id": "f102b3e3",
   "metadata": {},
   "source": [
    "### 함수도 결국 객체"
   ]
  },
  {
   "cell_type": "code",
   "execution_count": 7,
   "id": "139358ce",
   "metadata": {},
   "outputs": [
    {
     "name": "stdout",
     "output_type": "stream",
     "text": [
      "호출\n"
     ]
    }
   ],
   "source": [
    "class MyFunc:\n",
    "    def __call__(self,*args,**kwargs):\n",
    "        print(\"호출\")\n",
    "\n",
    "f = MyFunc()\n",
    "f()"
   ]
  },
  {
   "cell_type": "markdown",
   "id": "f60c8e14",
   "metadata": {},
   "source": [
    "함수에 ()를 붙이면 호출된다.\n",
    "\n",
    "Why?\n",
    "* 함수도 결국 객체\n",
    "\n",
    "어떠한 클래스의 객체에 ()를 붙이면 매직 메소드 __call__이 호출된다\n",
    "\n",
    "->파이썬의 함수는  function 클래스의 객체 그러면 우리는 함수에 ()를 붙임으로써 함수 객체의 __call__매직 메서드를 호출하는 것이다."
   ]
  },
  {
   "cell_type": "markdown",
   "id": "049c2ca0",
   "metadata": {},
   "source": [
    "### 점(.)의 비밀"
   ]
  },
  {
   "cell_type": "markdown",
   "id": "a5e779d0",
   "metadata": {},
   "source": [
    "파이썬에서 객체에 접근하는 방법은 .을 통해서이다.\n",
    "\n",
    "-> 이 또한 매직 메소드 덕분이다.\n",
    "\n",
    ". -> __getattribute__ 매직 메소드를 호출한다 -> 이 방법으로 객체에 접근 사용자는 그 객체를 구체화 하는 역할"
   ]
  },
  {
   "cell_type": "code",
   "execution_count": 8,
   "id": "e394226a",
   "metadata": {},
   "outputs": [
    {
     "name": "stdout",
     "output_type": "stream",
     "text": [
      "data 객체에 접근하셨습니다.\n"
     ]
    }
   ],
   "source": [
    "class Stock:\n",
    "    def __getattribute__(self,item):\n",
    "        print(item, \"객체에 접근하셨습니다.\")\n",
    "\n",
    "s = Stock()\n",
    "s.data"
   ]
  },
  {
   "cell_type": "markdown",
   "id": "50b8bd5f",
   "metadata": {},
   "source": [
    "### 객체 속성과 관련된 함수"
   ]
  },
  {
   "cell_type": "markdown",
   "id": "87f57761",
   "metadata": {},
   "source": [
    "* hasattr(object,name) - 객체의 존재여부 확인"
   ]
  },
  {
   "cell_type": "code",
   "execution_count": 9,
   "id": "568afa0f",
   "metadata": {},
   "outputs": [],
   "source": [
    "class Car:\n",
    "    def __init__(self):\n",
    "        self.wheels = 4\n",
    "    def drive(self):\n",
    "        print(\"drive\")\n",
    "\n",
    "mycar = Car()"
   ]
  },
  {
   "cell_type": "code",
   "execution_count": 12,
   "id": "b2372f4e",
   "metadata": {},
   "outputs": [
    {
     "data": {
      "text/plain": [
       "True"
      ]
     },
     "execution_count": 12,
     "metadata": {},
     "output_type": "execute_result"
    }
   ],
   "source": [
    "hasattr(mycar,\"wheels\")"
   ]
  },
  {
   "cell_type": "code",
   "execution_count": 11,
   "id": "10b70927",
   "metadata": {},
   "outputs": [
    {
     "data": {
      "text/plain": [
       "True"
      ]
     },
     "execution_count": 11,
     "metadata": {},
     "output_type": "execute_result"
    }
   ],
   "source": [
    "hasattr(mycar,\"drive\")"
   ]
  },
  {
   "cell_type": "markdown",
   "id": "dd420a1e",
   "metadata": {},
   "source": [
    "두 객체 다 존재하기 때문에 둘다 True 리턴"
   ]
  },
  {
   "cell_type": "markdown",
   "id": "2c6e5813",
   "metadata": {},
   "source": [
    "* getattr(object,name[,defalut]) - 객체에 존재하는 name속성 값을 가져온다"
   ]
  },
  {
   "cell_type": "code",
   "execution_count": 13,
   "id": "6234dab4",
   "metadata": {},
   "outputs": [],
   "source": [
    "class Car:\n",
    "    def __init__(self):\n",
    "        self.wheels = 4\n",
    "    def drive(self):\n",
    "        print(\"drive\")\n",
    "        \n",
    "mycar = Car()"
   ]
  },
  {
   "cell_type": "code",
   "execution_count": 14,
   "id": "040c4340",
   "metadata": {},
   "outputs": [
    {
     "data": {
      "text/plain": [
       "4"
      ]
     },
     "execution_count": 14,
     "metadata": {},
     "output_type": "execute_result"
    }
   ],
   "source": [
    "getattr(mycar,\"wheels\")"
   ]
  },
  {
   "cell_type": "code",
   "execution_count": 15,
   "id": "dd474401",
   "metadata": {},
   "outputs": [
    {
     "name": "stdout",
     "output_type": "stream",
     "text": [
      "drive\n"
     ]
    }
   ],
   "source": [
    "method = getattr(mycar,\"drive\")\n",
    "method()"
   ]
  },
  {
   "cell_type": "markdown",
   "id": "e8dc0ac4",
   "metadata": {},
   "source": [
    "getattr()은 변수면 변수값을, 메서드면 메서드(=함수 객체)를 그대로 가져옵니다.\n",
    "\n",
    "\n",
    "\n",
    "\n",
    "\"wheels\"\t/    4 (정수)\t    /       print(value) → 4\n",
    "\n",
    "\"drive\"\t/  <함수 객체> (메서드)\t   /  method() → drive 출력"
   ]
  },
  {
   "cell_type": "markdown",
   "id": "761f8204",
   "metadata": {},
   "source": [
    "파이썬에서 메서드도 속성이기 때문에, getattr()은 그 메서드(=함수)를 반환하고, 그걸 직접 ()로 실행해주는 구조입니다."
   ]
  },
  {
   "cell_type": "markdown",
   "id": "52b1e579",
   "metadata": {},
   "source": [
    "### 추상 클래스"
   ]
  },
  {
   "cell_type": "markdown",
   "id": "b0607c33",
   "metadata": {},
   "source": [
    "추상클래스 - 메서드의 이름만 존재하는 클래스\n",
    "\n",
    "보통 부모 클래스에서 메서드만 정의하고 상속 받은 자식 클래스가 해당 메서드를 구현하도록 강제한다(구현하지 않을 경우에 에러 발생)"
   ]
  },
  {
   "cell_type": "code",
   "execution_count": 16,
   "id": "43e5ad5d",
   "metadata": {},
   "outputs": [
    {
     "name": "stdout",
     "output_type": "stream",
     "text": [
      "k5 drive\n"
     ]
    }
   ],
   "source": [
    "from abc import *\n",
    "\n",
    "class Car(metaclass=ABCMeta):\n",
    "    @abstractmethod\n",
    "    def drive(self):\n",
    "        pass\n",
    "class K5(Car):\n",
    "    def drive(self):\n",
    "        print(\"k5 drive\")\n",
    "\n",
    "k5 = K5()\n",
    "k5.drive()"
   ]
  },
  {
   "cell_type": "code",
   "execution_count": null,
   "id": "00e0894d",
   "metadata": {},
   "outputs": [],
   "source": []
  }
 ],
 "metadata": {
  "kernelspec": {
   "display_name": "base",
   "language": "python",
   "name": "python3"
  },
  "language_info": {
   "codemirror_mode": {
    "name": "ipython",
    "version": 3
   },
   "file_extension": ".py",
   "mimetype": "text/x-python",
   "name": "python",
   "nbconvert_exporter": "python",
   "pygments_lexer": "ipython3",
   "version": "3.11.7"
  }
 },
 "nbformat": 4,
 "nbformat_minor": 5
}
