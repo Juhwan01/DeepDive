{
 "cells": [
  {
   "cell_type": "code",
   "execution_count": 92,
   "id": "5bca73ab",
   "metadata": {},
   "outputs": [],
   "source": [
    "import torch\n",
    "import torch.nn as nn\n",
    "import torch.optim as optim\n",
    "from torch.utils.data import Dataset,DataLoader,TensorDataset,random_split\n",
    "import numpy as np\n",
    "from sklearn.datasets import fetch_california_housing\n",
    "from sklearn.preprocessing import StandardScaler\n",
    "import pandas as pd"
   ]
  },
  {
   "cell_type": "code",
   "execution_count": 93,
   "id": "3f1cba74",
   "metadata": {},
   "outputs": [
    {
     "name": "stdout",
     "output_type": "stream",
     "text": [
      "🔥 사용 디바이스: cuda\n"
     ]
    }
   ],
   "source": [
    "device = torch.device('cuda' if torch.cuda.is_available() else 'cpu')\n",
    "print(f\"🔥 사용 디바이스: {device}\")"
   ]
  },
  {
   "cell_type": "markdown",
   "id": "cb437361",
   "metadata": {},
   "source": [
    "### 데이터 로드"
   ]
  },
  {
   "cell_type": "code",
   "execution_count": 94,
   "id": "5eeb0882",
   "metadata": {},
   "outputs": [],
   "source": [
    "housing = fetch_california_housing()"
   ]
  },
  {
   "cell_type": "code",
   "execution_count": 95,
   "id": "8a37a62d",
   "metadata": {},
   "outputs": [
    {
     "data": {
      "text/plain": [
       "{'data': array([[   8.3252    ,   41.        ,    6.98412698, ...,    2.55555556,\n",
       "           37.88      , -122.23      ],\n",
       "        [   8.3014    ,   21.        ,    6.23813708, ...,    2.10984183,\n",
       "           37.86      , -122.22      ],\n",
       "        [   7.2574    ,   52.        ,    8.28813559, ...,    2.80225989,\n",
       "           37.85      , -122.24      ],\n",
       "        ...,\n",
       "        [   1.7       ,   17.        ,    5.20554273, ...,    2.3256351 ,\n",
       "           39.43      , -121.22      ],\n",
       "        [   1.8672    ,   18.        ,    5.32951289, ...,    2.12320917,\n",
       "           39.43      , -121.32      ],\n",
       "        [   2.3886    ,   16.        ,    5.25471698, ...,    2.61698113,\n",
       "           39.37      , -121.24      ]]),\n",
       " 'target': array([4.526, 3.585, 3.521, ..., 0.923, 0.847, 0.894]),\n",
       " 'frame': None,\n",
       " 'target_names': ['MedHouseVal'],\n",
       " 'feature_names': ['MedInc',\n",
       "  'HouseAge',\n",
       "  'AveRooms',\n",
       "  'AveBedrms',\n",
       "  'Population',\n",
       "  'AveOccup',\n",
       "  'Latitude',\n",
       "  'Longitude'],\n",
       " 'DESCR': '.. _california_housing_dataset:\\n\\nCalifornia Housing dataset\\n--------------------------\\n\\n**Data Set Characteristics:**\\n\\n:Number of Instances: 20640\\n\\n:Number of Attributes: 8 numeric, predictive attributes and the target\\n\\n:Attribute Information:\\n    - MedInc        median income in block group\\n    - HouseAge      median house age in block group\\n    - AveRooms      average number of rooms per household\\n    - AveBedrms     average number of bedrooms per household\\n    - Population    block group population\\n    - AveOccup      average number of household members\\n    - Latitude      block group latitude\\n    - Longitude     block group longitude\\n\\n:Missing Attribute Values: None\\n\\nThis dataset was obtained from the StatLib repository.\\nhttps://www.dcc.fc.up.pt/~ltorgo/Regression/cal_housing.html\\n\\nThe target variable is the median house value for California districts,\\nexpressed in hundreds of thousands of dollars ($100,000).\\n\\nThis dataset was derived from the 1990 U.S. census, using one row per census\\nblock group. A block group is the smallest geographical unit for which the U.S.\\nCensus Bureau publishes sample data (a block group typically has a population\\nof 600 to 3,000 people).\\n\\nA household is a group of people residing within a home. Since the average\\nnumber of rooms and bedrooms in this dataset are provided per household, these\\ncolumns may take surprisingly large values for block groups with few households\\nand many empty houses, such as vacation resorts.\\n\\nIt can be downloaded/loaded using the\\n:func:`sklearn.datasets.fetch_california_housing` function.\\n\\n.. rubric:: References\\n\\n- Pace, R. Kelley and Ronald Barry, Sparse Spatial Autoregressions,\\n  Statistics and Probability Letters, 33:291-297, 1997.\\n'}"
      ]
     },
     "execution_count": 95,
     "metadata": {},
     "output_type": "execute_result"
    }
   ],
   "source": [
    "housing"
   ]
  },
  {
   "cell_type": "code",
   "execution_count": 96,
   "id": "ea2c79d9",
   "metadata": {},
   "outputs": [],
   "source": [
    "x = housing.data\n",
    "y = housing.target\n",
    "feature_name = housing.feature_names"
   ]
  },
  {
   "cell_type": "code",
   "execution_count": 97,
   "id": "3c9a991b",
   "metadata": {},
   "outputs": [
    {
     "data": {
      "text/plain": [
       "(20640, 8)"
      ]
     },
     "execution_count": 97,
     "metadata": {},
     "output_type": "execute_result"
    }
   ],
   "source": [
    "x.shape"
   ]
  },
  {
   "cell_type": "code",
   "execution_count": 98,
   "id": "d658b274",
   "metadata": {},
   "outputs": [
    {
     "data": {
      "text/plain": [
       "(20640,)"
      ]
     },
     "execution_count": 98,
     "metadata": {},
     "output_type": "execute_result"
    }
   ],
   "source": [
    "y.shape"
   ]
  },
  {
   "cell_type": "code",
   "execution_count": 99,
   "id": "69d5958a",
   "metadata": {},
   "outputs": [
    {
     "data": {
      "text/plain": [
       "['MedInc',\n",
       " 'HouseAge',\n",
       " 'AveRooms',\n",
       " 'AveBedrms',\n",
       " 'Population',\n",
       " 'AveOccup',\n",
       " 'Latitude',\n",
       " 'Longitude']"
      ]
     },
     "execution_count": 99,
     "metadata": {},
     "output_type": "execute_result"
    }
   ],
   "source": [
    "feature_name"
   ]
  },
  {
   "cell_type": "markdown",
   "id": "d0cdcbd5",
   "metadata": {},
   "source": [
    "# 선형회귀 모델"
   ]
  },
  {
   "cell_type": "markdown",
   "id": "249fcbf6",
   "metadata": {},
   "source": [
    "## 모델 선언"
   ]
  },
  {
   "cell_type": "code",
   "execution_count": 100,
   "id": "640466cf",
   "metadata": {},
   "outputs": [],
   "source": [
    "class LinearRegressionModel(nn.Module):\n",
    "    def __init__(self,input_size):\n",
    "        super().__init__()\n",
    "        self.linear=nn.Linear(input_size, 1)\n",
    "    def forward(self,x):\n",
    "        return self.linear(x)"
   ]
  },
  {
   "cell_type": "code",
   "execution_count": 101,
   "id": "9053543c",
   "metadata": {},
   "outputs": [],
   "source": [
    "uni_model = LinearRegressionModel(1).to(device)"
   ]
  },
  {
   "cell_type": "code",
   "execution_count": 102,
   "id": "5a32db9c",
   "metadata": {},
   "outputs": [],
   "source": [
    "mul_model = LinearRegressionModel(x.shape[1]).to(device)"
   ]
  },
  {
   "cell_type": "markdown",
   "id": "cfa2e3c2",
   "metadata": {},
   "source": [
    "## Feature Scaling"
   ]
  },
  {
   "cell_type": "markdown",
   "id": "e373740a",
   "metadata": {},
   "source": [
    "단변량용"
   ]
  },
  {
   "cell_type": "code",
   "execution_count": 103,
   "id": "94b728c6",
   "metadata": {},
   "outputs": [],
   "source": [
    "room_idx = feature_name.index('AveRooms')"
   ]
  },
  {
   "cell_type": "code",
   "execution_count": 104,
   "id": "063128b9",
   "metadata": {},
   "outputs": [],
   "source": [
    "x_uni = x[:,room_idx].reshape(-1,1)"
   ]
  },
  {
   "cell_type": "code",
   "execution_count": 105,
   "id": "c620c5b9",
   "metadata": {},
   "outputs": [
    {
     "data": {
      "text/plain": [
       "array([[6.98412698],\n",
       "       [6.23813708],\n",
       "       [8.28813559],\n",
       "       ...,\n",
       "       [5.20554273],\n",
       "       [5.32951289],\n",
       "       [5.25471698]])"
      ]
     },
     "execution_count": 105,
     "metadata": {},
     "output_type": "execute_result"
    }
   ],
   "source": [
    "x_uni"
   ]
  },
  {
   "cell_type": "markdown",
   "id": "42539a89",
   "metadata": {},
   "source": [
    "다변량용"
   ]
  },
  {
   "cell_type": "code",
   "execution_count": 106,
   "id": "8426cb5c",
   "metadata": {},
   "outputs": [],
   "source": [
    "x_mul = x.copy()"
   ]
  },
  {
   "cell_type": "code",
   "execution_count": 107,
   "id": "c7ec9ef6",
   "metadata": {},
   "outputs": [
    {
     "data": {
      "text/plain": [
       "array([[   8.3252    ,   41.        ,    6.98412698, ...,    2.55555556,\n",
       "          37.88      , -122.23      ],\n",
       "       [   8.3014    ,   21.        ,    6.23813708, ...,    2.10984183,\n",
       "          37.86      , -122.22      ],\n",
       "       [   7.2574    ,   52.        ,    8.28813559, ...,    2.80225989,\n",
       "          37.85      , -122.24      ],\n",
       "       ...,\n",
       "       [   1.7       ,   17.        ,    5.20554273, ...,    2.3256351 ,\n",
       "          39.43      , -121.22      ],\n",
       "       [   1.8672    ,   18.        ,    5.32951289, ...,    2.12320917,\n",
       "          39.43      , -121.32      ],\n",
       "       [   2.3886    ,   16.        ,    5.25471698, ...,    2.61698113,\n",
       "          39.37      , -121.24      ]])"
      ]
     },
     "execution_count": 107,
     "metadata": {},
     "output_type": "execute_result"
    }
   ],
   "source": [
    "x_mul"
   ]
  },
  {
   "cell_type": "markdown",
   "id": "b67ba149",
   "metadata": {},
   "source": [
    "StandardScaler - 사이킷런에서 제공하는 데이터 전처리 도구로,\n",
    "특성(피처)들의 값을 평균 0, 표준편차 1이 되도록 표준화(정규화)해줍니다.\n",
    "\n",
    "스케일링은 다른 변수와 보폭을 맞추는 느낌이므로 단변량은 적용을 안하도록 하겠습니다."
   ]
  },
  {
   "cell_type": "code",
   "execution_count": 108,
   "id": "4945593f",
   "metadata": {},
   "outputs": [],
   "source": [
    "scaler = StandardScaler()"
   ]
  },
  {
   "cell_type": "code",
   "execution_count": 109,
   "id": "3d8252a7",
   "metadata": {},
   "outputs": [],
   "source": [
    "x_mul_scaled = scaler.fit_transform(x_mul)"
   ]
  },
  {
   "cell_type": "code",
   "execution_count": 110,
   "id": "0e1167f3",
   "metadata": {},
   "outputs": [
    {
     "data": {
      "text/plain": [
       "array([[ 2.34476576,  0.98214266,  0.62855945, ..., -0.04959654,\n",
       "         1.05254828, -1.32783522],\n",
       "       [ 2.33223796, -0.60701891,  0.32704136, ..., -0.09251223,\n",
       "         1.04318455, -1.32284391],\n",
       "       [ 1.7826994 ,  1.85618152,  1.15562047, ..., -0.02584253,\n",
       "         1.03850269, -1.33282653],\n",
       "       ...,\n",
       "       [-1.14259331, -0.92485123, -0.09031802, ..., -0.0717345 ,\n",
       "         1.77823747, -0.8237132 ],\n",
       "       [-1.05458292, -0.84539315, -0.04021111, ..., -0.09122515,\n",
       "         1.77823747, -0.87362627],\n",
       "       [-0.78012947, -1.00430931, -0.07044252, ..., -0.04368215,\n",
       "         1.75014627, -0.83369581]])"
      ]
     },
     "execution_count": 110,
     "metadata": {},
     "output_type": "execute_result"
    }
   ],
   "source": [
    "x_mul_scaled"
   ]
  },
  {
   "cell_type": "markdown",
   "id": "f67b7eb0",
   "metadata": {},
   "source": [
    "## Dataset 및 DataLoader 구성\n"
   ]
  },
  {
   "cell_type": "markdown",
   "id": "e47f8dca",
   "metadata": {},
   "source": [
    "### 텐서 변환"
   ]
  },
  {
   "cell_type": "code",
   "execution_count": 111,
   "id": "df80fec3",
   "metadata": {},
   "outputs": [],
   "source": [
    "x_uni_tensor = torch.FloatTensor(x_uni).to(device)\n",
    "x_mul_tensor = torch.FloatTensor(x_mul_scaled).to(device)\n",
    "y_tensor = torch.FloatTensor(y.reshape(-1,1)).to(device)"
   ]
  },
  {
   "cell_type": "markdown",
   "id": "a7c38ed0",
   "metadata": {},
   "source": [
    "한 행에 값이 나열된 1차원 벡터를 한 행에 1개의 값이 들어있도록 변경 그리고 텐서로 변경"
   ]
  },
  {
   "cell_type": "code",
   "execution_count": 112,
   "id": "8f25b74e",
   "metadata": {},
   "outputs": [
    {
     "data": {
      "text/plain": [
       "array([[4.526],\n",
       "       [3.585],\n",
       "       [3.521],\n",
       "       ...,\n",
       "       [0.923],\n",
       "       [0.847],\n",
       "       [0.894]])"
      ]
     },
     "execution_count": 112,
     "metadata": {},
     "output_type": "execute_result"
    }
   ],
   "source": [
    "y.reshape(-1,1)"
   ]
  },
  {
   "cell_type": "code",
   "execution_count": 113,
   "id": "670b5056",
   "metadata": {},
   "outputs": [
    {
     "data": {
      "text/plain": [
       "tensor([[4.5260],\n",
       "        [3.5850],\n",
       "        [3.5210],\n",
       "        ...,\n",
       "        [0.9230],\n",
       "        [0.8470],\n",
       "        [0.8940]], device='cuda:0')"
      ]
     },
     "execution_count": 113,
     "metadata": {},
     "output_type": "execute_result"
    }
   ],
   "source": [
    "y_tensor"
   ]
  },
  {
   "cell_type": "markdown",
   "id": "ab977a26",
   "metadata": {},
   "source": [
    "### dataset생성"
   ]
  },
  {
   "cell_type": "code",
   "execution_count": 114,
   "id": "11b3c1ee",
   "metadata": {},
   "outputs": [],
   "source": [
    "uni_dataset = TensorDataset(x_uni_tensor,y_tensor)\n",
    "mul_dataset = TensorDataset(x_mul_tensor,y_tensor)"
   ]
  },
  {
   "cell_type": "markdown",
   "id": "b3f149a1",
   "metadata": {},
   "source": [
    "### train/validation 분할"
   ]
  },
  {
   "cell_type": "code",
   "execution_count": 115,
   "id": "0ef2d1de",
   "metadata": {},
   "outputs": [],
   "source": [
    "train_size = int(0.8*len(y))\n",
    "val_size = len(y)-train_size"
   ]
  },
  {
   "cell_type": "code",
   "execution_count": 116,
   "id": "6620d5b6",
   "metadata": {},
   "outputs": [
    {
     "data": {
      "text/plain": [
       "(16512, 4128)"
      ]
     },
     "execution_count": 116,
     "metadata": {},
     "output_type": "execute_result"
    }
   ],
   "source": [
    "train_size,val_size"
   ]
  },
  {
   "cell_type": "code",
   "execution_count": 117,
   "id": "9d9c34f6",
   "metadata": {},
   "outputs": [],
   "source": [
    "uni_train, uni_val = random_split(uni_dataset,[train_size,val_size])\n",
    "mul_train, mul_val = random_split(mul_dataset,[train_size,val_size])"
   ]
  },
  {
   "cell_type": "markdown",
   "id": "ce56435d",
   "metadata": {},
   "source": [
    "### DataLoader생성"
   ]
  },
  {
   "cell_type": "code",
   "execution_count": 118,
   "id": "4a313f6d",
   "metadata": {},
   "outputs": [],
   "source": [
    "batch_size = 256\n",
    "uni_train_loader = DataLoader(uni_train,batch_size = batch_size,shuffle=True)\n",
    "uni_val_loader = DataLoader(uni_val,batch_size=batch_size)\n",
    "mul_train_loader = DataLoader(mul_train,batch_size=batch_size,shuffle=True)\n",
    "mul_val_loader = DataLoader(mul_val,batch_size=batch_size)"
   ]
  },
  {
   "cell_type": "markdown",
   "id": "db516ad4",
   "metadata": {},
   "source": [
    "## 학습 함수 정의"
   ]
  },
  {
   "cell_type": "code",
   "execution_count": 119,
   "id": "4e04451f",
   "metadata": {},
   "outputs": [],
   "source": [
    "def train_model(model,train_loader,val_loader,learning_rate ,epochs ,model_name=\"\"):\n",
    "    criterion = nn.MSELoss()\n",
    "    optimizer = optim.SGD(model.parameters(),lr=learning_rate)\n",
    "    \n",
    "    train_losses=[]\n",
    "    val_losses=[]\n",
    "    \n",
    "    print(f\"{model_name} 학습 시작\")\n",
    "    for epoch in range(epochs):\n",
    "        model.train()\n",
    "        epoch_train_loss=0\n",
    "        \n",
    "        for batch_x,batch_y in train_loader:\n",
    "            predictions = model(batch_x)\n",
    "            loss = criterion(predictions,batch_y)\n",
    "            optimizer.zero_grad()\n",
    "            loss.backward()\n",
    "            optimizer.step()\n",
    "            epoch_train_loss += loss.item()\n",
    "        \n",
    "        model.eval()\n",
    "        epoch_val_loss = 0\n",
    "        \n",
    "        with torch.no_grad():\n",
    "            for batch_x,batch_y in val_loader:\n",
    "                predictions = model(batch_x)\n",
    "                loss = criterion(predictions,batch_y)\n",
    "                epoch_val_loss += loss.item()\n",
    "                \n",
    "        avg_train_loss = epoch_train_loss / len(train_loader)\n",
    "        avg_val_loss = epoch_val_loss / len(val_loader)\n",
    "        \n",
    "        train_losses.append(avg_train_loss)\n",
    "        val_losses.append(avg_val_loss)\n",
    "        \n",
    "        if (epoch + 1) % 20 == 0:\n",
    "            print(f\"   Epoch {epoch+1:4d}: J(θ) = {avg_train_loss:.4f}, Val J(θ) = {avg_val_loss:.4f}\")\n",
    "        \n",
    "    return train_losses, val_losses\n",
    "\n",
    "        "
   ]
  },
  {
   "cell_type": "markdown",
   "id": "3e063831",
   "metadata": {},
   "source": [
    "## 모델 학습"
   ]
  },
  {
   "cell_type": "code",
   "execution_count": 120,
   "id": "8fdd759d",
   "metadata": {},
   "outputs": [
    {
     "name": "stdout",
     "output_type": "stream",
     "text": [
      "단변량 모델 학습 시작\n",
      "   Epoch   20: J(θ) = 1.3148, Val J(θ) = 1.2677\n",
      "   Epoch   40: J(θ) = 1.3200, Val J(θ) = 1.2606\n",
      "   Epoch   60: J(θ) = 1.3197, Val J(θ) = 1.2707\n",
      "   Epoch   80: J(θ) = 1.3191, Val J(θ) = 1.2610\n",
      "   Epoch  100: J(θ) = 1.3186, Val J(θ) = 1.2597\n"
     ]
    }
   ],
   "source": [
    "uni_train_losses, uni_val_losses = train_model(\n",
    "    uni_model,uni_train_loader,uni_val_loader,\n",
    "    learning_rate=0.008, epochs=100, model_name=\"단변량 모델\"\n",
    "    )"
   ]
  },
  {
   "cell_type": "code",
   "execution_count": 121,
   "id": "3c876d04",
   "metadata": {},
   "outputs": [
    {
     "name": "stdout",
     "output_type": "stream",
     "text": [
      "다변량 모델 학습 시작\n",
      "   Epoch   20: J(θ) = 0.5253, Val J(θ) = 0.5962\n",
      "   Epoch   40: J(θ) = 0.5162, Val J(θ) = 0.5903\n",
      "   Epoch   60: J(θ) = 0.5149, Val J(θ) = 0.5887\n",
      "   Epoch   80: J(θ) = 0.5145, Val J(θ) = 0.5875\n",
      "   Epoch  100: J(θ) = 0.5152, Val J(θ) = 0.5866\n"
     ]
    }
   ],
   "source": [
    "mul_train_losses, mul_val_losses =train_model(\n",
    "    mul_model, mul_train_loader, mul_val_loader,\n",
    "    learning_rate=0.008, epochs=100, model_name=\"다변량 모델\"\n",
    ")"
   ]
  },
  {
   "cell_type": "markdown",
   "id": "9af9baa8",
   "metadata": {},
   "source": [
    "->더 많은 데이터가 더 좋은 예측을 만든다\n",
    "\n",
    "단일 특성의 한계 = 방 개수만으론 부족\n",
    "다차원 정보 = 훨씬 정확한 예측"
   ]
  },
  {
   "cell_type": "code",
   "execution_count": null,
   "id": "ea71be81",
   "metadata": {},
   "outputs": [],
   "source": []
  }
 ],
 "metadata": {
  "kernelspec": {
   "display_name": "daycon",
   "language": "python",
   "name": "python3"
  },
  "language_info": {
   "codemirror_mode": {
    "name": "ipython",
    "version": 3
   },
   "file_extension": ".py",
   "mimetype": "text/x-python",
   "name": "python",
   "nbconvert_exporter": "python",
   "pygments_lexer": "ipython3",
   "version": "3.11.13"
  }
 },
 "nbformat": 4,
 "nbformat_minor": 5
}
