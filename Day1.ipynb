{
 "cells": [
  {
   "cell_type": "markdown",
   "id": "98819573",
   "metadata": {},
   "source": [
    "## 문자열 포맷팅"
   ]
  },
  {
   "cell_type": "markdown",
   "id": "2ae49277",
   "metadata": {},
   "source": [
    "c언어 스타일"
   ]
  },
  {
   "cell_type": "code",
   "execution_count": 3,
   "id": "6b4fb1fe",
   "metadata": {},
   "outputs": [
    {
     "name": "stdout",
     "output_type": "stream",
     "text": [
      "minsu의 점수는 90 점입니다. \n"
     ]
    }
   ],
   "source": [
    "name = \"minsu\"\n",
    "score = 90\n",
    "print(\"%s의 점수는 %d 점입니다. \" % (name,score))"
   ]
  },
  {
   "cell_type": "markdown",
   "id": "355bc87f",
   "metadata": {},
   "source": [
    "Format 이용"
   ]
  },
  {
   "cell_type": "code",
   "execution_count": 4,
   "id": "2fc2ff28",
   "metadata": {},
   "outputs": [
    {
     "name": "stdout",
     "output_type": "stream",
     "text": [
      "minsu의 점수는 90 점입니다. \n"
     ]
    }
   ],
   "source": [
    "name = \"minsu\"\n",
    "score = 90\n",
    "print(\"{}의 점수는 {} 점입니다. \".format(name,score))"
   ]
  },
  {
   "cell_type": "markdown",
   "id": "1e7f1cb6",
   "metadata": {},
   "source": [
    "f-string 이용"
   ]
  },
  {
   "cell_type": "code",
   "execution_count": 5,
   "id": "d37d2589",
   "metadata": {},
   "outputs": [
    {
     "name": "stdout",
     "output_type": "stream",
     "text": [
      "minsu의 점수는 90 점입니다. \n"
     ]
    }
   ],
   "source": [
    "name = \"minsu\"\n",
    "score = 90\n",
    "print(f\"{name}의 점수는 {score} 점입니다. \")"
   ]
  },
  {
   "cell_type": "markdown",
   "id": "09c3f96e",
   "metadata": {},
   "source": [
    "##  자릿수 채우기"
   ]
  },
  {
   "cell_type": "code",
   "execution_count": 10,
   "id": "31a77841",
   "metadata": {},
   "outputs": [
    {
     "name": "stdout",
     "output_type": "stream",
     "text": [
      "03\n"
     ]
    }
   ],
   "source": [
    "a = 3\n",
    "mystr = f\"{a:02d}\"\n",
    "print(mystr)"
   ]
  },
  {
   "cell_type": "code",
   "execution_count": 11,
   "id": "199b7ce8",
   "metadata": {},
   "outputs": [
    {
     "name": "stdout",
     "output_type": "stream",
     "text": [
      "003\n"
     ]
    }
   ],
   "source": [
    "a = 3\n",
    "mystr = f\"{a:03d}\"\n",
    "print(mystr)"
   ]
  },
  {
   "cell_type": "code",
   "execution_count": 14,
   "id": "a73c6046",
   "metadata": {},
   "outputs": [
    {
     "name": "stdout",
     "output_type": "stream",
     "text": [
      "BTCUSDT   check\n"
     ]
    }
   ],
   "source": [
    "symbol = \"BTCUSDT\"\n",
    "print(f\"{symbol:10}check\")"
   ]
  },
  {
   "cell_type": "markdown",
   "id": "cd5a41cb",
   "metadata": {},
   "source": [
    "## 실수(float)"
   ]
  },
  {
   "cell_type": "code",
   "execution_count": 15,
   "id": "640930ee",
   "metadata": {},
   "outputs": [
    {
     "name": "stdout",
     "output_type": "stream",
     "text": [
      "  3.14\n"
     ]
    }
   ],
   "source": [
    "a = 3.141592\n",
    "print(f\"{a:6.2f}\")"
   ]
  },
  {
   "cell_type": "code",
   "execution_count": 16,
   "id": "659eda22",
   "metadata": {},
   "outputs": [
    {
     "name": "stdout",
     "output_type": "stream",
     "text": [
      " 3.142\n"
     ]
    }
   ],
   "source": [
    "a = 3.141592\n",
    "print(f\"{a:6.3f}\")"
   ]
  },
  {
   "cell_type": "markdown",
   "id": "96d149c1",
   "metadata": {},
   "source": [
    "# 인터닝(interning)\n",
    "id(a)랑 id(b[0])는 같은 객체\n",
    "\n",
    "why?\n",
    "\n",
    "문자열: 20자 미만의 공백을 포함하지 않는 문자열\n",
    "정수: -5부터 256사이의 정수\n",
    "\n",
    "인터닝 -> 이미 생성된 객체를 재사용하는 것을 의미한다. 파이썬은 기본적으로 몇가지 제한된 경우에 대해 자동적으로 인터닝이 적용되나 개발자가 필요한 경우 함수를 써서 인터닝을 지정할 수가 있다."
   ]
  },
  {
   "cell_type": "code",
   "execution_count": null,
   "id": "44d6ef93",
   "metadata": {},
   "outputs": [],
   "source": [
    "a = \"hello\"\n",
    "b = [\"hello\",\"python\"]"
   ]
  },
  {
   "cell_type": "code",
   "execution_count": 27,
   "id": "5f824a0e",
   "metadata": {},
   "outputs": [
    {
     "data": {
      "text/plain": [
       "2533998523760"
      ]
     },
     "execution_count": 27,
     "metadata": {},
     "output_type": "execute_result"
    }
   ],
   "source": [
    "id(a)"
   ]
  },
  {
   "cell_type": "code",
   "execution_count": 28,
   "id": "8d74dcbe",
   "metadata": {},
   "outputs": [
    {
     "data": {
      "text/plain": [
       "2531887406272"
      ]
     },
     "execution_count": 28,
     "metadata": {},
     "output_type": "execute_result"
    }
   ],
   "source": [
    "id(b)"
   ]
  },
  {
   "cell_type": "code",
   "execution_count": 30,
   "id": "fb45c04a",
   "metadata": {},
   "outputs": [
    {
     "data": {
      "text/plain": [
       "2533998523760"
      ]
     },
     "execution_count": 30,
     "metadata": {},
     "output_type": "execute_result"
    }
   ],
   "source": [
    "id(b[0])"
   ]
  },
  {
   "cell_type": "markdown",
   "id": "8927d167",
   "metadata": {},
   "source": [
    "## Immutable과 Mutable"
   ]
  },
  {
   "cell_type": "markdown",
   "id": "3acde0f4",
   "metadata": {},
   "source": [
    "Immutable 객체 - int,float,str,tuple\n",
    "\n",
    "Mutable 객체 - list,dict\n",
    "\n",
    "수정가능/수정불가능"
   ]
  },
  {
   "cell_type": "code",
   "execution_count": 1,
   "id": "7747e901",
   "metadata": {},
   "outputs": [
    {
     "data": {
      "text/plain": [
       "1624564259712"
      ]
     },
     "execution_count": 1,
     "metadata": {},
     "output_type": "execute_result"
    }
   ],
   "source": [
    "a = [\"python1\", \"python\"]\n",
    "id(a)"
   ]
  },
  {
   "cell_type": "code",
   "execution_count": 2,
   "id": "a044e6a6",
   "metadata": {},
   "outputs": [
    {
     "data": {
      "text/plain": [
       "['python1', 'python', 'python4']"
      ]
     },
     "execution_count": 2,
     "metadata": {},
     "output_type": "execute_result"
    }
   ],
   "source": [
    "a.append(\"python4\")\n",
    "a"
   ]
  },
  {
   "cell_type": "code",
   "execution_count": 3,
   "id": "6006f56b",
   "metadata": {},
   "outputs": [
    {
     "data": {
      "text/plain": [
       "1624564259712"
      ]
     },
     "execution_count": 3,
     "metadata": {},
     "output_type": "execute_result"
    }
   ],
   "source": [
    "id(a)"
   ]
  },
  {
   "cell_type": "code",
   "execution_count": 4,
   "id": "1f486c9a",
   "metadata": {},
   "outputs": [
    {
     "data": {
      "text/plain": [
       "1624562517680"
      ]
     },
     "execution_count": 4,
     "metadata": {},
     "output_type": "execute_result"
    }
   ],
   "source": [
    "id(a[0])"
   ]
  },
  {
   "cell_type": "code",
   "execution_count": 5,
   "id": "ce415865",
   "metadata": {},
   "outputs": [
    {
     "data": {
      "text/plain": [
       "1624513823024"
      ]
     },
     "execution_count": 5,
     "metadata": {},
     "output_type": "execute_result"
    }
   ],
   "source": [
    "id(a[1])"
   ]
  },
  {
   "cell_type": "code",
   "execution_count": 6,
   "id": "cffff6c1",
   "metadata": {},
   "outputs": [
    {
     "data": {
      "text/plain": [
       "1624564258800"
      ]
     },
     "execution_count": 6,
     "metadata": {},
     "output_type": "execute_result"
    }
   ],
   "source": [
    "id(a[2])"
   ]
  },
  {
   "cell_type": "markdown",
   "id": "73586794",
   "metadata": {},
   "source": [
    "## 비교 연산자와 is 연산자"
   ]
  },
  {
   "cell_type": "code",
   "execution_count": 8,
   "id": "abee5dfc",
   "metadata": {},
   "outputs": [],
   "source": [
    "a=1000\n",
    "b=1000"
   ]
  },
  {
   "cell_type": "code",
   "execution_count": 9,
   "id": "c9a0e8b4",
   "metadata": {},
   "outputs": [
    {
     "data": {
      "text/plain": [
       "True"
      ]
     },
     "execution_count": 9,
     "metadata": {},
     "output_type": "execute_result"
    }
   ],
   "source": [
    "a == b"
   ]
  },
  {
   "cell_type": "code",
   "execution_count": 10,
   "id": "7e970495",
   "metadata": {},
   "outputs": [
    {
     "data": {
      "text/plain": [
       "False"
      ]
     },
     "execution_count": 10,
     "metadata": {},
     "output_type": "execute_result"
    }
   ],
   "source": [
    "a is b"
   ]
  },
  {
   "cell_type": "code",
   "execution_count": 11,
   "id": "c06a0a61",
   "metadata": {},
   "outputs": [
    {
     "data": {
      "text/plain": [
       "(1624563555056, 1624563555120)"
      ]
     },
     "execution_count": 11,
     "metadata": {},
     "output_type": "execute_result"
    }
   ],
   "source": [
    "id(a),id(b)"
   ]
  },
  {
   "cell_type": "markdown",
   "id": "cbc43a10",
   "metadata": {},
   "source": [
    "하지만 위의 내용인 인터닝에 의하여 작은 정수 값을 바인딩 하는 경우에는"
   ]
  },
  {
   "cell_type": "code",
   "execution_count": 12,
   "id": "bc7a6a88",
   "metadata": {},
   "outputs": [],
   "source": [
    "a=3\n",
    "b=3"
   ]
  },
  {
   "cell_type": "code",
   "execution_count": 13,
   "id": "b82566ff",
   "metadata": {},
   "outputs": [
    {
     "data": {
      "text/plain": [
       "True"
      ]
     },
     "execution_count": 13,
     "metadata": {},
     "output_type": "execute_result"
    }
   ],
   "source": [
    "a == b"
   ]
  },
  {
   "cell_type": "code",
   "execution_count": 14,
   "id": "a2b4343a",
   "metadata": {},
   "outputs": [
    {
     "data": {
      "text/plain": [
       "True"
      ]
     },
     "execution_count": 14,
     "metadata": {},
     "output_type": "execute_result"
    }
   ],
   "source": [
    "a is b"
   ]
  },
  {
   "cell_type": "markdown",
   "id": "bd3be8c5",
   "metadata": {},
   "source": [
    "## 리스트 컴프리헨션"
   ]
  },
  {
   "cell_type": "markdown",
   "id": "cc4b648e",
   "metadata": {},
   "source": [
    "리스트 컴프리헨션은 파이썬에서 기존 리스트나 이터러블 객체를 기반으로 새로운 리스트를 간결하고 직관적으로 생성하는 문법입니다."
   ]
  },
  {
   "cell_type": "code",
   "execution_count": 15,
   "id": "654b8afb",
   "metadata": {},
   "outputs": [
    {
     "name": "stdout",
     "output_type": "stream",
     "text": [
      "[0, 2, 4, 6, 8]\n"
     ]
    }
   ],
   "source": [
    "even_num = [i for i in range(10) if i % 2 == 0]\n",
    "print(even_num)"
   ]
  },
  {
   "cell_type": "code",
   "execution_count": 16,
   "id": "6e383876",
   "metadata": {},
   "outputs": [
    {
     "name": "stdout",
     "output_type": "stream",
     "text": [
      "[1, 3, 5, 7, 9]\n"
     ]
    }
   ],
   "source": [
    "odd_num = [i for i in range(10) if i % 2 == 1]\n",
    "print(odd_num)"
   ]
  },
  {
   "cell_type": "markdown",
   "id": "7dbfb8bd",
   "metadata": {},
   "source": [
    "## 튜플"
   ]
  },
  {
   "cell_type": "markdown",
   "id": "b2a48431",
   "metadata": {},
   "source": [
    "패킹(packing)"
   ]
  },
  {
   "cell_type": "code",
   "execution_count": 17,
   "id": "4367f14e",
   "metadata": {},
   "outputs": [
    {
     "name": "stdout",
     "output_type": "stream",
     "text": [
      "(1, 2) <class 'tuple'>\n",
      "(1, 2) <class 'tuple'>\n"
     ]
    }
   ],
   "source": [
    "a = 1,2\n",
    "b = (1,2)\n",
    "print(a, type(a))\n",
    "print(b, type(b))"
   ]
  },
  {
   "cell_type": "markdown",
   "id": "6b0a4452",
   "metadata": {},
   "source": [
    "언패킹(unpacking)"
   ]
  },
  {
   "cell_type": "code",
   "execution_count": 18,
   "id": "fcdba817",
   "metadata": {},
   "outputs": [
    {
     "name": "stdout",
     "output_type": "stream",
     "text": [
      "1 2 3\n"
     ]
    }
   ],
   "source": [
    "data = (1,2,3)\n",
    "n1,n2,n3 = data\n",
    "print(n1,n2,n3)"
   ]
  },
  {
   "cell_type": "markdown",
   "id": "2414a2bc",
   "metadata": {},
   "source": [
    "함수리턴"
   ]
  },
  {
   "cell_type": "code",
   "execution_count": 19,
   "id": "4cff1e19",
   "metadata": {},
   "outputs": [
    {
     "name": "stdout",
     "output_type": "stream",
     "text": [
      "<class 'tuple'>\n"
     ]
    }
   ],
   "source": [
    "def foo():\n",
    "    return 1,2,3\n",
    "\n",
    "val = foo()\n",
    "print(type(val))"
   ]
  },
  {
   "cell_type": "markdown",
   "id": "b6a060c0",
   "metadata": {},
   "source": [
    "함수호출"
   ]
  },
  {
   "cell_type": "code",
   "execution_count": 22,
   "id": "e5bf575d",
   "metadata": {},
   "outputs": [
    {
     "name": "stdout",
     "output_type": "stream",
     "text": [
      "10\n"
     ]
    }
   ],
   "source": [
    "def hap(num1, num2, num3, num4):\n",
    "    return num1+num2+num3+num4\n",
    "\n",
    "scores = (1,2,3,4)\n",
    "result = hap(*scores)\n",
    "print(result)"
   ]
  },
  {
   "cell_type": "markdown",
   "id": "1e51b7d5",
   "metadata": {},
   "source": [
    "## zip과 dictionary"
   ]
  },
  {
   "cell_type": "markdown",
   "id": "7d4543d3",
   "metadata": {},
   "source": [
    "zip - 두 개의 리스트를 서로 묶어줄 때 사용"
   ]
  },
  {
   "cell_type": "code",
   "execution_count": 36,
   "id": "4cab1334",
   "metadata": {},
   "outputs": [
    {
     "name": "stdout",
     "output_type": "stream",
     "text": [
      "[('merona', 500), ('gugucon', 1000)]\n"
     ]
    }
   ],
   "source": [
    "name = ['merona', 'gugucon']\n",
    "price = [500,1000]\n",
    "\n",
    "z = zip(name,price)\n",
    "print(list(z))"
   ]
  },
  {
   "cell_type": "code",
   "execution_count": 37,
   "id": "738d159a",
   "metadata": {},
   "outputs": [
    {
     "name": "stdout",
     "output_type": "stream",
     "text": [
      "merona 500\n",
      "gugucon 1000\n"
     ]
    }
   ],
   "source": [
    "for n,p in zip(name,price):\n",
    "    print(n,p)"
   ]
  },
  {
   "cell_type": "markdown",
   "id": "945fcf07",
   "metadata": {},
   "source": [
    "dictionary - key,value 값으로 이루어진 자료형"
   ]
  },
  {
   "cell_type": "code",
   "execution_count": 38,
   "id": "34229241",
   "metadata": {},
   "outputs": [],
   "source": [
    "아이스크림1 = {\"메로나\":500,\"구구콘\":1000}\n",
    "아이스크림2 = dict(메로나=500,구구콘=1000)\n",
    "아이스크림3 = dict([(\"메로나\",500),(\"구구콘\",1000)])"
   ]
  },
  {
   "cell_type": "markdown",
   "id": "dcb86ac9",
   "metadata": {},
   "source": [
    "setdefault메서드"
   ]
  },
  {
   "cell_type": "code",
   "execution_count": 40,
   "id": "2bf8cde0",
   "metadata": {},
   "outputs": [
    {
     "name": "stdout",
     "output_type": "stream",
     "text": [
      "0 {'a': 0}\n",
      "0 {'a': 0}\n"
     ]
    }
   ],
   "source": [
    "data = {}\n",
    "\n",
    "ret = data.setdefault('a',0)\n",
    "print(ret,data)\n",
    "\n",
    "ret = data.setdefault('a',1)\n",
    "print(ret,data)"
   ]
  },
  {
   "cell_type": "markdown",
   "id": "46f989d3",
   "metadata": {},
   "source": [
    "count메서드(list)"
   ]
  },
  {
   "cell_type": "code",
   "execution_count": 42,
   "id": "9c5e067c",
   "metadata": {},
   "outputs": [
    {
     "name": "stdout",
     "output_type": "stream",
     "text": [
      "BTC 2\n",
      "XRP 1\n",
      "ETH 3\n"
     ]
    }
   ],
   "source": [
    "data = [\"BTC\",\"BTC\",\"XRP\",\"ETH\",\"ETH\",\"ETH\"]\n",
    "\n",
    "for k in set(data):\n",
    "    count = data.count(k)\n",
    "    print(k,count)"
   ]
  },
  {
   "cell_type": "markdown",
   "id": "4e041b87",
   "metadata": {},
   "source": [
    "딕셔너리 컴프리헨션"
   ]
  },
  {
   "cell_type": "code",
   "execution_count": 43,
   "id": "9c71420c",
   "metadata": {},
   "outputs": [
    {
     "name": "stdout",
     "output_type": "stream",
     "text": [
      "{'merona': 500, 'gugucon': 1000}\n"
     ]
    }
   ],
   "source": [
    "name = ['merona','gugucon']\n",
    "price = [500,1000]\n",
    "\n",
    "icecream = {k:v for k,v in zip(name,price)}\n",
    "print(icecream)"
   ]
  },
  {
   "cell_type": "code",
   "execution_count": null,
   "id": "abed28cc",
   "metadata": {},
   "outputs": [
    {
     "name": "stdout",
     "output_type": "stream",
     "text": [
      "{'merona': 1000, 'gugucon': 2000}\n"
     ]
    }
   ],
   "source": [
    "name = ['merona','gugucon']\n",
    "price = [500,1000]\n",
    "\n",
    "icecream = {k:v*2 for k,v in zip(name,price)}\n",
    "print(icecream)"
   ]
  },
  {
   "cell_type": "code",
   "execution_count": 45,
   "id": "66ec82bb",
   "metadata": {},
   "outputs": [
    {
     "name": "stdout",
     "output_type": "stream",
     "text": [
      "{'merona': 500}\n"
     ]
    }
   ],
   "source": [
    "name = ['merona','gugucon','bibibig']\n",
    "price = [500,1000]\n",
    "\n",
    "icecream = {k:v for k,v in zip(name,price) if v<1000}\n",
    "print(icecream)"
   ]
  },
  {
   "cell_type": "markdown",
   "id": "cbf2d7ba",
   "metadata": {},
   "source": [
    "## 네임드튜플(namedtuple)"
   ]
  },
  {
   "cell_type": "markdown",
   "id": "8564ab86",
   "metadata": {},
   "source": [
    "namedtuple은 클래스처럼 객체를 생성할 수 있고, 딕셔너림 처럼 label 부여가능\n",
    "\n",
    "**immutable하기 때문에 클래스처럼 값 수정 불가**"
   ]
  },
  {
   "cell_type": "code",
   "execution_count": 47,
   "id": "05d8700b",
   "metadata": {},
   "outputs": [
    {
     "name": "stdout",
     "output_type": "stream",
     "text": [
      "파이썬을 이용한 비트코인 자동매매 27000\n"
     ]
    }
   ],
   "source": [
    "from collections import namedtuple\n",
    "\n",
    "Book = namedtuple('Book', ['title','price'])\n",
    "mybook3 = Book(\"파이썬을 이용한 비트코인 자동매매\", 27000)\n",
    "print(mybook3.title,mybook3.price)"
   ]
  },
  {
   "cell_type": "markdown",
   "id": "504195a8",
   "metadata": {},
   "source": [
    "인덱싱"
   ]
  },
  {
   "cell_type": "code",
   "execution_count": 48,
   "id": "be10e555",
   "metadata": {},
   "outputs": [
    {
     "name": "stdout",
     "output_type": "stream",
     "text": [
      "파이썬을 이용한 비트코인 자동매매 27000\n"
     ]
    }
   ],
   "source": [
    "print(mybook3[0],mybook3[1])"
   ]
  },
  {
   "cell_type": "markdown",
   "id": "132111d0",
   "metadata": {},
   "source": [
    "언패킹"
   ]
  },
  {
   "cell_type": "code",
   "execution_count": 49,
   "id": "f0aef267",
   "metadata": {},
   "outputs": [
    {
     "name": "stdout",
     "output_type": "stream",
     "text": [
      "파이썬을 이용한 비트코인 자동매매 27000\n"
     ]
    }
   ],
   "source": [
    "def print_book(title,price):\n",
    "    print(title,price)\n",
    "    \n",
    "print_book(*mybook3)"
   ]
  }
 ],
 "metadata": {
  "kernelspec": {
   "display_name": "base",
   "language": "python",
   "name": "python3"
  },
  "language_info": {
   "codemirror_mode": {
    "name": "ipython",
    "version": 3
   },
   "file_extension": ".py",
   "mimetype": "text/x-python",
   "name": "python",
   "nbconvert_exporter": "python",
   "pygments_lexer": "ipython3",
   "version": "3.11.7"
  }
 },
 "nbformat": 4,
 "nbformat_minor": 5
}
