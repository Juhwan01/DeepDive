{
 "cells": [
  {
   "cell_type": "code",
   "execution_count": 1,
   "id": "8296e4f9",
   "metadata": {},
   "outputs": [],
   "source": [
    "import numpy as np\n",
    "import pandas as pd\n",
    "from scipy import stats"
   ]
  },
  {
   "cell_type": "code",
   "execution_count": 2,
   "id": "2875d69d",
   "metadata": {},
   "outputs": [
    {
     "name": "stdout",
     "output_type": "stream",
     "text": [
      "항공기 엔진 이상탐지\n",
      "정상 데이터: 20 개\n",
      "테스트 데이터: 5 개\n",
      "\n"
     ]
    }
   ],
   "source": [
    "# 항공기 엔진 데이터 생성\n",
    "np.random.seed(42)\n",
    "\n",
    "# 정상 데이터 (가우시안 분포)\n",
    "normal_heat = np.random.normal(75, 5, 20)  # 평균 75, 표준편차 5\n",
    "normal_vibration = np.random.normal(40, 3, 20)  # 평균 40, 표준편차 3\n",
    "\n",
    "# 이상 데이터 (정상 범위 벗어남)\n",
    "test_heat = [85, 95, 70, 105, 72]  # 일부는 정상, 일부는 이상\n",
    "test_vibration = [45, 60, 38, 65, 42]\n",
    "\n",
    "# 데이터프레임 생성\n",
    "engine_data = pd.DataFrame({\n",
    "    'heat': list(normal_heat) + test_heat,\n",
    "    'vibration': list(normal_vibration) + test_vibration\n",
    "})\n",
    "\n",
    "print(\"항공기 엔진 이상탐지\")\n",
    "print(\"정상 데이터:\", len(normal_heat), \"개\")\n",
    "print(\"테스트 데이터:\", len(test_heat), \"개\")\n",
    "print()"
   ]
  },
  {
   "cell_type": "code",
   "execution_count": 3,
   "id": "21d6df71",
   "metadata": {},
   "outputs": [
    {
     "name": "stdout",
     "output_type": "stream",
     "text": [
      "학습된 파라미터:\n",
      "열: 평균=74.1, 표준편차=4.7\n",
      "진동: 평균=39.2, 표준편차=2.8\n",
      "\n"
     ]
    }
   ],
   "source": [
    "# 정상 데이터로 가우시안 파라미터 학습\n",
    "mu_heat = np.mean(normal_heat)\n",
    "sigma_heat = np.std(normal_heat)\n",
    "mu_vibration = np.mean(normal_vibration)\n",
    "sigma_vibration = np.std(normal_vibration)\n",
    "\n",
    "print(f\"학습된 파라미터:\")\n",
    "print(f\"열: 평균={mu_heat:.1f}, 표준편차={sigma_heat:.1f}\")\n",
    "print(f\"진동: 평균={mu_vibration:.1f}, 표준편차={sigma_vibration:.1f}\")\n",
    "print()"
   ]
  },
  {
   "cell_type": "code",
   "execution_count": 7,
   "id": "03151d40",
   "metadata": {},
   "outputs": [
    {
     "name": "stdout",
     "output_type": "stream",
     "text": [
      "테스트 결과:\n",
      "엔진 1: 열=85, 진동=45 → 이상\n",
      "엔진 2: 열=95, 진동=60 → 이상\n",
      "엔진 3: 열=70, 진동=38 → 정상\n",
      "엔진 4: 열=105, 진동=65 → 이상\n",
      "엔진 5: 열=72, 진동=42 → 정상\n"
     ]
    }
   ],
   "source": [
    "# 이상탐지 함수\n",
    "def detect_anomaly(heat, vibration, threshold=0.001):\n",
    "    # 각 특성의 확률 계산\n",
    "    prob_heat = stats.norm.pdf(heat, mu_heat, sigma_heat)\n",
    "    prob_vibration = stats.norm.pdf(vibration, mu_vibration, sigma_vibration)\n",
    "    \n",
    "    # 전체 확률 (특성들이 독립이라고 가정)\n",
    "    total_prob = prob_heat * prob_vibration\n",
    "    \n",
    "    # 확률이 임계값보다 낮으면 이상\n",
    "    return total_prob < threshold\n",
    "\n",
    "# 테스트 데이터 이상탐지\n",
    "print(\"테스트 결과:\")\n",
    "for i, (heat, vibration) in enumerate(zip(test_heat, test_vibration)):\n",
    "    is_anomaly = detect_anomaly(heat, vibration)\n",
    "    status = \"이상\" if is_anomaly else \"정상\"\n",
    "    print(f\"엔진 {i+1}: 열={heat}, 진동={vibration} → {status}\")"
   ]
  },
  {
   "cell_type": "code",
   "execution_count": null,
   "id": "59822745",
   "metadata": {},
   "outputs": [],
   "source": []
  }
 ],
 "metadata": {
  "kernelspec": {
   "display_name": "daycon",
   "language": "python",
   "name": "python3"
  },
  "language_info": {
   "codemirror_mode": {
    "name": "ipython",
    "version": 3
   },
   "file_extension": ".py",
   "mimetype": "text/x-python",
   "name": "python",
   "nbconvert_exporter": "python",
   "pygments_lexer": "ipython3",
   "version": "3.11.13"
  }
 },
 "nbformat": 4,
 "nbformat_minor": 5
}
