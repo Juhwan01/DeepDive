{
 "cells": [
  {
   "cell_type": "code",
   "execution_count": 1,
   "id": "66c85d86",
   "metadata": {},
   "outputs": [],
   "source": [
    "import numpy as np\n",
    "import pandas as pd\n",
    "from sklearn.feature_extraction.text import CountVectorizer\n",
    "from sklearn.metrics.pairwise import cosine_similarity"
   ]
  },
  {
   "cell_type": "code",
   "execution_count": 3,
   "id": "5b158044",
   "metadata": {},
   "outputs": [],
   "source": [
    "# 데이터 생성\n",
    "movies = pd.DataFrame({\n",
    "    'title': ['The Godfather', 'Pulp Fiction', 'The Dark Knight', 'Fight Club', \n",
    "              'Inception', 'The Matrix', 'Goodfellas', 'Interstellar'],\n",
    "    'genres': ['Crime Drama', 'Crime Drama', 'Action Crime', 'Drama Thriller',\n",
    "               'Sci-Fi Thriller', 'Action Sci-Fi', 'Crime Drama', 'Sci-Fi Drama']\n",
    "})\n",
    "\n",
    "# 사용자-영화 평점 매트릭스 (NaN = 아직 안봄)\n",
    "ratings = pd.DataFrame({\n",
    "    'The Godfather': [5, 4, np.nan, 3],\n",
    "    'Pulp Fiction': [4, 5, 2, np.nan], \n",
    "    'The Dark Knight': [np.nan, 4, 5, 4],\n",
    "    'Fight Club': [3, np.nan, 4, 5],\n",
    "    'Inception': [5, 3, np.nan, 4],\n",
    "    'The Matrix': [4, np.nan, 3, 5],\n",
    "    'Goodfellas': [np.nan, 5, 2, 3],\n",
    "    'Interstellar': [4, 2, np.nan, np.nan]\n",
    "}, index=['Alice', 'Bob', 'Carol', 'Dave'])\n"
   ]
  },
  {
   "cell_type": "code",
   "execution_count": 4,
   "id": "0b2aa285",
   "metadata": {},
   "outputs": [],
   "source": [
    "# 1. 콘텐츠 기반 추천 (장르 유사도)\n",
    "def content_recommend(movie_title, top_n=2):\n",
    "    vectorizer = CountVectorizer()\n",
    "    genre_matrix = vectorizer.fit_transform(movies['genres'])\n",
    "    similarity = cosine_similarity(genre_matrix)\n",
    "    \n",
    "    idx = movies[movies['title'] == movie_title].index[0]\n",
    "    sim_scores = list(enumerate(similarity[idx]))\n",
    "    sim_scores = sorted(sim_scores, key=lambda x: x[1], reverse=True)\n",
    "    \n",
    "    recommendations = [movies.iloc[i[0]]['title'] for i in sim_scores[1:top_n+1]]\n",
    "    return recommendations"
   ]
  },
  {
   "cell_type": "code",
   "execution_count": 5,
   "id": "a3d692b8",
   "metadata": {},
   "outputs": [
    {
     "name": "stdout",
     "output_type": "stream",
     "text": [
      "영화 추천시스템\n",
      "데이터: ['The Godfather', 'Pulp Fiction', 'The Dark Knight', 'Fight Club', 'Inception', 'The Matrix', 'Goodfellas', 'Interstellar']\n",
      "\n",
      "콘텐츠 기반: 'The Dark Knight'와 유사한 영화\n",
      "['The Godfather', 'Pulp Fiction']\n",
      "\n",
      "협업 필터링: Alice에게 추천\n",
      "['The Dark Knight', 'Goodfellas']\n"
     ]
    }
   ],
   "source": [
    "# 2. 협업 필터링 추천\n",
    "def collaborative_recommend(user_name, top_n=2):\n",
    "    user_ratings = ratings.loc[user_name]\n",
    "    unseen_movies = user_ratings[user_ratings.isna()].index.tolist()\n",
    "    \n",
    "    predictions = {}\n",
    "    for movie in unseen_movies:\n",
    "        avg_rating = ratings[movie].mean()\n",
    "        if not np.isnan(avg_rating):\n",
    "            predictions[movie] = avg_rating\n",
    "    \n",
    "    sorted_preds = sorted(predictions.items(), key=lambda x: x[1], reverse=True)\n",
    "    return [movie for movie, score in sorted_preds[:top_n]]\n",
    "\n",
    "# 실행\n",
    "print(\"영화 추천시스템\")\n",
    "print(\"데이터:\", list(movies['title']))\n",
    "print()\n",
    "\n",
    "print(\"콘텐츠 기반: 'The Dark Knight'와 유사한 영화\")\n",
    "print(content_recommend('The Dark Knight'))\n",
    "print()\n",
    "\n",
    "print(\"협업 필터링: Alice에게 추천\")\n",
    "print(collaborative_recommend('Alice'))"
   ]
  },
  {
   "cell_type": "code",
   "execution_count": null,
   "id": "f3de798a",
   "metadata": {},
   "outputs": [],
   "source": []
  }
 ],
 "metadata": {
  "kernelspec": {
   "display_name": "daycon",
   "language": "python",
   "name": "python3"
  },
  "language_info": {
   "codemirror_mode": {
    "name": "ipython",
    "version": 3
   },
   "file_extension": ".py",
   "mimetype": "text/x-python",
   "name": "python",
   "nbconvert_exporter": "python",
   "pygments_lexer": "ipython3",
   "version": "3.11.13"
  }
 },
 "nbformat": 4,
 "nbformat_minor": 5
}
